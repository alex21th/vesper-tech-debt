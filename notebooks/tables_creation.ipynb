{
 "cells": [
  {
   "cell_type": "markdown",
   "metadata": {},
   "source": [
    "# Tables creation"
   ]
  },
  {
   "cell_type": "markdown",
   "metadata": {},
   "source": [
    "### Import libraries"
   ]
  },
  {
   "cell_type": "code",
   "execution_count": null,
   "metadata": {},
   "outputs": [],
   "source": [
    "import sqlite3\n",
    "import pandas as pd\n",
    "import numpy as np\n",
    "from matplotlib import pyplot as plt"
   ]
  },
  {
   "cell_type": "markdown",
   "metadata": {},
   "source": [
    "### Data path and DB connection"
   ]
  },
  {
   "cell_type": "code",
   "execution_count": null,
   "metadata": {},
   "outputs": [],
   "source": [
    "DATA_PATH = '../data/'"
   ]
  },
  {
   "cell_type": "code",
   "execution_count": null,
   "metadata": {},
   "outputs": [],
   "source": [
    "conn = sqlite3.connect(DATA_PATH + 'technicalDebtDataset.db')"
   ]
  },
  {
   "cell_type": "markdown",
   "metadata": {},
   "source": [
    "### Fetch main tables"
   ]
  },
  {
   "cell_type": "code",
   "execution_count": null,
   "metadata": {},
   "outputs": [],
   "source": [
    "query = ''' SELECT\n",
    "                gc.projectID, gc.commitHash, gc.commitMessage,\n",
    "                sm.complexity, sm.lines, sm.commentLines, sm.duplicatedLines,\n",
    "                sm.violations, sm.blockerViolations, sm.criticalViolations, sm.majorViolations, sm.minorViolations,\n",
    "                sm.bugs, sm.codeSmells \n",
    "            FROM\n",
    "                GIT_COMMITS as gc\n",
    "            INNER JOIN\n",
    "                SONAR_MEASURES as sm\n",
    "            WHERE\n",
    "                gc.commitHash = sm.commitHash\n",
    "'''"
   ]
  },
  {
   "cell_type": "markdown",
   "metadata": {},
   "source": [
    "### Show dataframe"
   ]
  },
  {
   "cell_type": "code",
   "execution_count": null,
   "metadata": {},
   "outputs": [],
   "source": [
    "df = pd.read_sql_query(query, conn)\n",
    "df.head()"
   ]
  },
  {
   "cell_type": "markdown",
   "metadata": {},
   "source": [
    "### Convert some columns to numeric"
   ]
  },
  {
   "cell_type": "code",
   "execution_count": null,
   "metadata": {},
   "outputs": [],
   "source": [
    "cols = [i for i in df.columns if i not in ['projectID','commitHash','commitMessage']]\n",
    "for col in cols:\n",
    "    df[col] = df[col].astype(int)"
   ]
  },
  {
   "cell_type": "code",
   "execution_count": null,
   "metadata": {},
   "outputs": [],
   "source": [
    "df.dtypes"
   ]
  },
  {
   "cell_type": "markdown",
   "metadata": {},
   "source": [
    "### Columns metrics"
   ]
  },
  {
   "cell_type": "code",
   "execution_count": null,
   "metadata": {},
   "outputs": [],
   "source": [
    "df.describe()"
   ]
  },
  {
   "cell_type": "markdown",
   "metadata": {},
   "source": [
    "### Preprocessing on \"violations\" types"
   ]
  },
  {
   "cell_type": "code",
   "execution_count": null,
   "metadata": {},
   "outputs": [],
   "source": [
    "fig , ax = plt.subplots(2,2, figsize=(20,6))\n",
    "plt.subplots_adjust(wspace=0.1, hspace=0.5)\n",
    "ax[0,0].hist(df['blockerViolations'], bins=100)\n",
    "ax[0,1].hist(df['criticalViolations'], bins=100)\n",
    "ax[1,0].hist(df['majorViolations'], bins=100)\n",
    "ax[1,1].hist(df['minorViolations'], bins=100)\n",
    "\n",
    "ax[0,0].title.set_text('blockerViolations')\n",
    "ax[0,0].set_ylabel('Freq')\n",
    "ax[0,0].set_xlabel('# violations')\n",
    "ax[0,1].title.set_text('criticalViolations')\n",
    "ax[0,1].set_ylabel('Freq')\n",
    "ax[0,1].set_xlabel('# violations')\n",
    "ax[1,0].title.set_text('majorViolations')\n",
    "ax[1,0].set_xlabel('# violations')\n",
    "ax[1,0].set_ylabel('Freq')\n",
    "ax[1,1].title.set_text('minorViolations')\n",
    "ax[1,1].set_xlabel('# violations')\n",
    "ax[1,1].set_ylabel('Freq')\n",
    "plt.xticks(rotation='vertical')\n",
    "plt.show()"
   ]
  },
  {
   "cell_type": "markdown",
   "metadata": {},
   "source": [
    "Cut violations only where there is data."
   ]
  },
  {
   "cell_type": "code",
   "execution_count": null,
   "metadata": {},
   "outputs": [],
   "source": [
    "df['blockerViolations'] = df['blockerViolations'].where(df['blockerViolations'] <= 100, 100)\n",
    "df['majorViolations'] = df['majorViolations'].where(df['majorViolations'] <= 10000, 10000)\n",
    "df['minorViolations'] = df['minorViolations'].where(df['minorViolations'] <= 10000, 10000)"
   ]
  },
  {
   "cell_type": "code",
   "execution_count": null,
   "metadata": {},
   "outputs": [],
   "source": [
    "fig , ax = plt.subplots(2,2, figsize=(20,6))\n",
    "plt.subplots_adjust(wspace=0.1, hspace=0.5)\n",
    "ax[0,0].hist(df['blockerViolations'], bins=100)\n",
    "ax[0,1].hist(df['criticalViolations'], bins=100)\n",
    "ax[1,0].hist(df['majorViolations'], bins=100)\n",
    "ax[1,1].hist(df['minorViolations'], bins=100)\n",
    "\n",
    "ax[0,0].title.set_text('blockerViolations')\n",
    "ax[0,0].set_ylabel('Freq')\n",
    "ax[0,0].set_xlabel('# violations')\n",
    "ax[0,1].title.set_text('criticalViolations')\n",
    "ax[0,1].set_ylabel('Freq')\n",
    "ax[0,1].set_xlabel('# violations')\n",
    "ax[1,0].title.set_text('majorViolations')\n",
    "ax[1,0].set_xlabel('# violations')\n",
    "ax[1,0].set_ylabel('Freq')\n",
    "ax[1,1].title.set_text('minorViolations')\n",
    "ax[1,1].set_xlabel('# violations')\n",
    "ax[1,1].set_ylabel('Freq')\n",
    "plt.xticks(rotation='vertical')\n",
    "plt.show()"
   ]
  },
  {
   "cell_type": "markdown",
   "metadata": {},
   "source": [
    "We merge minor and major violations into one, by adding them up."
   ]
  },
  {
   "cell_type": "code",
   "execution_count": null,
   "metadata": {},
   "outputs": [],
   "source": [
    "df = df.assign(mimaViolations = df['minorViolations'] + df['majorViolations'])"
   ]
  },
  {
   "cell_type": "code",
   "execution_count": null,
   "metadata": {},
   "outputs": [],
   "source": [
    "fig , ax = plt.subplots(2,2, figsize=(20,6))\n",
    "plt.subplots_adjust(wspace=0.1, hspace=0.5)\n",
    "\n",
    "ax[0,0].hist(df['blockerViolations'], bins=100)\n",
    "ax[0,1].hist(df['criticalViolations'], bins=100)\n",
    "ax[1,0].hist(df['mimaViolations'], bins=100)\n",
    "\n",
    "ax[0,0].title.set_text('blockerViolations')\n",
    "ax[0,0].set_ylabel('Freq')\n",
    "ax[0,0].set_xlabel('# violations')\n",
    "ax[0,1].title.set_text('criticalViolations')\n",
    "ax[0,1].set_ylabel('Freq')\n",
    "ax[0,1].set_xlabel('# violations')\n",
    "ax[1,0].title.set_text('mimaViolations')\n",
    "ax[1,0].set_xlabel('# violations')\n",
    "ax[1,0].set_ylabel('Freq')\n",
    "plt.xticks(rotation='vertical')\n",
    "plt.show()"
   ]
  },
  {
   "cell_type": "markdown",
   "metadata": {},
   "source": [
    "Create bins for different groups."
   ]
  },
  {
   "cell_type": "code",
   "execution_count": null,
   "metadata": {},
   "outputs": [],
   "source": [
    "# Partition by steps, intervals of the same size\n",
    "def categorize_1(N_BINS, v):\n",
    "    bins = np.arange(min(v), max(v)+1, step = max(v)//N_BINS)\n",
    "    bins[-1] += 1\n",
    "    bins[0] = -1\n",
    "    return bins\n",
    "\n",
    "# Partition according to the distribution of the data, \n",
    "# same number of items in each interval\n",
    "def categorize_2(N_BINS, v):\n",
    "    v = v.sort_values()\n",
    "    n = len(v)\n",
    "    id_seps = [int(i*n/N_BINS) for i in range(0,N_BINS+1)]\n",
    "    seps = [v.iloc[el-1] for el in id_seps]\n",
    "    seps[0] = v.iloc[0]-1\n",
    "    return seps"
   ]
  },
  {
   "cell_type": "code",
   "execution_count": null,
   "metadata": {},
   "outputs": [],
   "source": [
    "v = df.blockerViolations\n",
    "n_groups = 3\n",
    "\n",
    "categorize_2(n_groups, v)"
   ]
  },
  {
   "cell_type": "code",
   "execution_count": null,
   "metadata": {},
   "outputs": [],
   "source": [
    "v = df.blockerViolations\n",
    "n_groups = 3\n",
    "\n",
    "categorize_1(n_groups, v)"
   ]
  },
  {
   "cell_type": "markdown",
   "metadata": {},
   "source": [
    "Create interval variables for each violation."
   ]
  },
  {
   "cell_type": "code",
   "execution_count": null,
   "metadata": {},
   "outputs": [],
   "source": [
    "n_groups = 2"
   ]
  },
  {
   "cell_type": "code",
   "execution_count": null,
   "metadata": {},
   "outputs": [],
   "source": [
    "df['bin_blockerViolations'] = pd.cut(df['blockerViolations'], categorize_2(n_groups, df['blockerViolations']))\n",
    "df['bin_criticalViolations'] = pd.cut(df['criticalViolations'], categorize_2(n_groups, df['criticalViolations']))\n",
    "df['bin_mimaViolations'] = pd.cut(df['mimaViolations'], categorize_2(n_groups, df['mimaViolations']))"
   ]
  },
  {
   "cell_type": "code",
   "execution_count": null,
   "metadata": {},
   "outputs": [],
   "source": [
    "df['class_blockerViolations'] = df['bin_blockerViolations'].cat.codes.astype(str)\n",
    "df['class_criticalViolations'] = df['bin_criticalViolations'].cat.codes.astype(str)\n",
    "df['class_mimaViolations'] = df['bin_mimaViolations'].cat.codes.astype(str)"
   ]
  },
  {
   "cell_type": "markdown",
   "metadata": {},
   "source": [
    "Merge them all and create a colum paste of all combination of classes."
   ]
  },
  {
   "cell_type": "code",
   "execution_count": null,
   "metadata": {},
   "outputs": [],
   "source": [
    "df[\"class\"] = df[\"class_blockerViolations\"] + df[\"class_criticalViolations\"] + df[\"class_mimaViolations\"]\n",
    "df['class']"
   ]
  },
  {
   "cell_type": "markdown",
   "metadata": {},
   "source": [
    "Assign a category to each combination of class."
   ]
  },
  {
   "cell_type": "code",
   "execution_count": null,
   "metadata": {},
   "outputs": [],
   "source": [
    "df['class'] = df['class'].astype('category')\n",
    "df['category'] = df['class'].cat.codes\n",
    "df[['class','category']]"
   ]
  },
  {
   "cell_type": "markdown",
   "metadata": {},
   "source": [
    "We get the combination categories below."
   ]
  },
  {
   "cell_type": "code",
   "execution_count": null,
   "metadata": {},
   "outputs": [],
   "source": [
    "print(sorted(df['class'].unique()))"
   ]
  },
  {
   "cell_type": "markdown",
   "metadata": {},
   "source": [
    "Category codification into integers"
   ]
  },
  {
   "cell_type": "code",
   "execution_count": null,
   "metadata": {},
   "outputs": [],
   "source": [
    "print(sorted(df['category'].unique()))"
   ]
  },
  {
   "cell_type": "markdown",
   "metadata": {},
   "source": [
    "Check if there are NA categories."
   ]
  },
  {
   "cell_type": "code",
   "execution_count": null,
   "metadata": {},
   "outputs": [],
   "source": [
    "df[df.category.isna()]"
   ]
  },
  {
   "cell_type": "markdown",
   "metadata": {},
   "source": [
    "We create a lookup table of the data created (in order to check which intervals where chosen, if needed)"
   ]
  },
  {
   "cell_type": "code",
   "execution_count": null,
   "metadata": {},
   "outputs": [],
   "source": [
    "viols = ['bin_blockerViolations','bin_criticalViolations','bin_mimaViolations']\n",
    "categories = pd.DataFrame()\n",
    "for v in viols:\n",
    "    t = pd.DataFrame({'interval': df[v].unique()})\n",
    "    t['type'] = v\n",
    "    t['class'] = np.arange(0,len(df[v].unique()))\n",
    "    categories = pd.concat([categories,t])\n",
    "categories.reset_index(drop=True)"
   ]
  },
  {
   "cell_type": "markdown",
   "metadata": {},
   "source": [
    "### Resulting table"
   ]
  },
  {
   "cell_type": "code",
   "execution_count": null,
   "metadata": {},
   "outputs": [],
   "source": [
    "df"
   ]
  },
  {
   "cell_type": "markdown",
   "metadata": {},
   "source": [
    "Number of instances for each category"
   ]
  },
  {
   "cell_type": "code",
   "execution_count": null,
   "metadata": {},
   "outputs": [],
   "source": [
    "df['category'].value_counts(), df['category'].count(), "
   ]
  },
  {
   "cell_type": "markdown",
   "metadata": {},
   "source": [
    "Category distribution plot"
   ]
  },
  {
   "cell_type": "code",
   "execution_count": null,
   "metadata": {},
   "outputs": [],
   "source": [
    "import seaborn as sns\n",
    "fig , ax = plt.subplots(1,1, figsize=(15,5))\n",
    "sns.histplot(df['category'], bins=100, ax =ax)\n",
    "ax.set_xticks(df.category.unique())\n",
    "ax.set_xlabel(\"Category\")\n",
    "ax.set_ylabel(\"Count [log scale]\")\n",
    "ax.set_title('Histogram of values per category')\n",
    "#ax.set_yscale('log')\n",
    "plt.show()"
   ]
  },
  {
   "cell_type": "markdown",
   "metadata": {},
   "source": [
    "### Save table data"
   ]
  },
  {
   "cell_type": "markdown",
   "metadata": {},
   "source": [
    "Save it as pickle."
   ]
  },
  {
   "cell_type": "code",
   "execution_count": null,
   "metadata": {},
   "outputs": [],
   "source": [
    "SAVE_PATH = '../data/our_data/'"
   ]
  },
  {
   "cell_type": "code",
   "execution_count": null,
   "metadata": {},
   "outputs": [],
   "source": [
    "filename = 'commits_violations_8.pkl'\n",
    "\n",
    "df.to_pickle(SAVE_PATH + filename)"
   ]
  },
  {
   "cell_type": "markdown",
   "metadata": {},
   "source": [
    "We can read it by using:"
   ]
  },
  {
   "cell_type": "code",
   "execution_count": null,
   "metadata": {},
   "outputs": [],
   "source": [
    "df = pd.read_pickle(SAVE_PATH + filename)\n",
    "df.head()"
   ]
  },
  {
   "cell_type": "markdown",
   "metadata": {},
   "source": [
    "### Pearson Correlation of Features"
   ]
  },
  {
   "cell_type": "code",
   "execution_count": null,
   "metadata": {},
   "outputs": [],
   "source": [
    "dff = df[['complexity', 'lines', 'commentLines', 'duplicatedLines', 'violations','category']]"
   ]
  },
  {
   "cell_type": "code",
   "execution_count": null,
   "metadata": {},
   "outputs": [],
   "source": [
    "colormap = plt.cm.viridis\n",
    "plt.figure(figsize=(10,10))\n",
    "plt.title('Pearson Correlation of Features', size=15)\n",
    "\n",
    "sns.heatmap(dff.astype(float).corr(),linewidths=0.1,vmax=1.0, square=True, cmap=colormap, linecolor='white', annot=True)"
   ]
  }
 ],
 "metadata": {
  "kernelspec": {
   "display_name": "vesper_env",
   "language": "python",
   "name": "vesper_env"
  },
  "language_info": {
   "codemirror_mode": {
    "name": "ipython",
    "version": 3
   },
   "file_extension": ".py",
   "mimetype": "text/x-python",
   "name": "python",
   "nbconvert_exporter": "python",
   "pygments_lexer": "ipython3",
   "version": "3.6.9"
  }
 },
 "nbformat": 4,
 "nbformat_minor": 4
}
