{
 "cells": [
  {
   "cell_type": "markdown",
   "metadata": {},
   "source": [
    "# Tables creation"
   ]
  },
  {
   "cell_type": "markdown",
   "metadata": {},
   "source": [
    "### Import libraries"
   ]
  },
  {
   "cell_type": "code",
   "execution_count": 1,
   "metadata": {},
   "outputs": [],
   "source": [
    "import sqlite3\n",
    "import pandas as pd\n",
    "import numpy as np\n",
    "from matplotlib import pyplot as plt\n",
    "from sklearn.decomposition import PCA"
   ]
  },
  {
   "cell_type": "markdown",
   "metadata": {},
   "source": [
    "### Data path and DB connection"
   ]
  },
  {
   "cell_type": "code",
   "execution_count": 2,
   "metadata": {},
   "outputs": [],
   "source": [
    "DATA_PATH = '../data/'"
   ]
  },
  {
   "cell_type": "code",
   "execution_count": 3,
   "metadata": {},
   "outputs": [],
   "source": [
    "conn = sqlite3.connect(DATA_PATH + 'technicalDebtDataset.db')"
   ]
  },
  {
   "cell_type": "markdown",
   "metadata": {},
   "source": [
    "### Fetch main tables"
   ]
  },
  {
   "cell_type": "code",
   "execution_count": 4,
   "metadata": {},
   "outputs": [],
   "source": [
    "query = ''' SELECT\n",
    "                gc.projectID, gc.commitHash, gc.commitMessage,\n",
    "                sm.complexity, sm.lines, sm.commentLines, sm.duplicatedLines,\n",
    "                sm.violations, sm.blockerViolations, sm.criticalViolations, sm.majorViolations, sm.minorViolations,\n",
    "                sm.bugs, sm.codeSmells \n",
    "            FROM\n",
    "                GIT_COMMITS as gc\n",
    "            INNER JOIN\n",
    "                SONAR_MEASURES as sm\n",
    "            WHERE\n",
    "                gc.commitHash = sm.commitHash\n",
    "'''"
   ]
  },
  {
   "cell_type": "markdown",
   "metadata": {},
   "source": [
    "### Show dataframe"
   ]
  },
  {
   "cell_type": "code",
   "execution_count": 5,
   "metadata": {},
   "outputs": [
    {
     "data": {
      "text/html": [
       "<div>\n",
       "<style scoped>\n",
       "    .dataframe tbody tr th:only-of-type {\n",
       "        vertical-align: middle;\n",
       "    }\n",
       "\n",
       "    .dataframe tbody tr th {\n",
       "        vertical-align: top;\n",
       "    }\n",
       "\n",
       "    .dataframe thead th {\n",
       "        text-align: right;\n",
       "    }\n",
       "</style>\n",
       "<table border=\"1\" class=\"dataframe\">\n",
       "  <thead>\n",
       "    <tr style=\"text-align: right;\">\n",
       "      <th></th>\n",
       "      <th>projectID</th>\n",
       "      <th>commitHash</th>\n",
       "      <th>commitMessage</th>\n",
       "      <th>complexity</th>\n",
       "      <th>lines</th>\n",
       "      <th>commentLines</th>\n",
       "      <th>duplicatedLines</th>\n",
       "      <th>violations</th>\n",
       "      <th>blockerViolations</th>\n",
       "      <th>criticalViolations</th>\n",
       "      <th>majorViolations</th>\n",
       "      <th>minorViolations</th>\n",
       "      <th>bugs</th>\n",
       "      <th>codeSmells</th>\n",
       "    </tr>\n",
       "  </thead>\n",
       "  <tbody>\n",
       "    <tr>\n",
       "      <th>0</th>\n",
       "      <td>accumulo</td>\n",
       "      <td>e0880e263e4bf8662ba3848405200473a25dfc9f</td>\n",
       "      <td>ACCUMULO-1 initial checkin of source code\\n\\ng...</td>\n",
       "      <td>43137</td>\n",
       "      <td>263680</td>\n",
       "      <td>13509</td>\n",
       "      <td>46445</td>\n",
       "      <td>18314</td>\n",
       "      <td>142</td>\n",
       "      <td>893</td>\n",
       "      <td>7310</td>\n",
       "      <td>9889</td>\n",
       "      <td>464</td>\n",
       "      <td>17012</td>\n",
       "    </tr>\n",
       "    <tr>\n",
       "      <th>1</th>\n",
       "      <td>accumulo</td>\n",
       "      <td>e8774c5ec3a35e042f320540b5f7e66ebd2d9e87</td>\n",
       "      <td>ACCUMULO-2 moved cloudtrace for TRUNK, fixed p...</td>\n",
       "      <td>43137</td>\n",
       "      <td>262753</td>\n",
       "      <td>13507</td>\n",
       "      <td>46301</td>\n",
       "      <td>18169</td>\n",
       "      <td>142</td>\n",
       "      <td>893</td>\n",
       "      <td>7164</td>\n",
       "      <td>9890</td>\n",
       "      <td>344</td>\n",
       "      <td>16987</td>\n",
       "    </tr>\n",
       "    <tr>\n",
       "      <th>2</th>\n",
       "      <td>accumulo</td>\n",
       "      <td>2032ebbd0ed90734da39ca238bbd10dee24d0030</td>\n",
       "      <td>ACCUMULO-2 fixed thrift build script to point ...</td>\n",
       "      <td>43137</td>\n",
       "      <td>262753</td>\n",
       "      <td>13507</td>\n",
       "      <td>46301</td>\n",
       "      <td>18169</td>\n",
       "      <td>142</td>\n",
       "      <td>893</td>\n",
       "      <td>7164</td>\n",
       "      <td>9890</td>\n",
       "      <td>344</td>\n",
       "      <td>16987</td>\n",
       "    </tr>\n",
       "    <tr>\n",
       "      <th>3</th>\n",
       "      <td>accumulo</td>\n",
       "      <td>de297d4932e08625a5df146f0802041bb5aeb892</td>\n",
       "      <td>ACCUMULO-2 reverted change to config.html\\n\\ng...</td>\n",
       "      <td>43137</td>\n",
       "      <td>263643</td>\n",
       "      <td>13507</td>\n",
       "      <td>46445</td>\n",
       "      <td>18315</td>\n",
       "      <td>142</td>\n",
       "      <td>893</td>\n",
       "      <td>7310</td>\n",
       "      <td>9890</td>\n",
       "      <td>464</td>\n",
       "      <td>17013</td>\n",
       "    </tr>\n",
       "    <tr>\n",
       "      <th>4</th>\n",
       "      <td>accumulo</td>\n",
       "      <td>34efaae87639a83b60fdb7274de4b45051025a3a</td>\n",
       "      <td>ACCUMULO-2 fixed cloudtrace references in cont...</td>\n",
       "      <td>43137</td>\n",
       "      <td>263639</td>\n",
       "      <td>13507</td>\n",
       "      <td>46445</td>\n",
       "      <td>18315</td>\n",
       "      <td>142</td>\n",
       "      <td>893</td>\n",
       "      <td>7310</td>\n",
       "      <td>9890</td>\n",
       "      <td>464</td>\n",
       "      <td>17013</td>\n",
       "    </tr>\n",
       "  </tbody>\n",
       "</table>\n",
       "</div>"
      ],
      "text/plain": [
       "  projectID                                commitHash  \\\n",
       "0  accumulo  e0880e263e4bf8662ba3848405200473a25dfc9f   \n",
       "1  accumulo  e8774c5ec3a35e042f320540b5f7e66ebd2d9e87   \n",
       "2  accumulo  2032ebbd0ed90734da39ca238bbd10dee24d0030   \n",
       "3  accumulo  de297d4932e08625a5df146f0802041bb5aeb892   \n",
       "4  accumulo  34efaae87639a83b60fdb7274de4b45051025a3a   \n",
       "\n",
       "                                       commitMessage complexity   lines  \\\n",
       "0  ACCUMULO-1 initial checkin of source code\\n\\ng...      43137  263680   \n",
       "1  ACCUMULO-2 moved cloudtrace for TRUNK, fixed p...      43137  262753   \n",
       "2  ACCUMULO-2 fixed thrift build script to point ...      43137  262753   \n",
       "3  ACCUMULO-2 reverted change to config.html\\n\\ng...      43137  263643   \n",
       "4  ACCUMULO-2 fixed cloudtrace references in cont...      43137  263639   \n",
       "\n",
       "  commentLines duplicatedLines violations blockerViolations  \\\n",
       "0        13509           46445      18314               142   \n",
       "1        13507           46301      18169               142   \n",
       "2        13507           46301      18169               142   \n",
       "3        13507           46445      18315               142   \n",
       "4        13507           46445      18315               142   \n",
       "\n",
       "  criticalViolations majorViolations minorViolations bugs codeSmells  \n",
       "0                893            7310            9889  464      17012  \n",
       "1                893            7164            9890  344      16987  \n",
       "2                893            7164            9890  344      16987  \n",
       "3                893            7310            9890  464      17013  \n",
       "4                893            7310            9890  464      17013  "
      ]
     },
     "execution_count": 5,
     "metadata": {},
     "output_type": "execute_result"
    }
   ],
   "source": [
    "df = pd.read_sql_query(query, conn)\n",
    "df.head()"
   ]
  },
  {
   "cell_type": "markdown",
   "metadata": {},
   "source": [
    "### Convert some columns to numeric"
   ]
  },
  {
   "cell_type": "code",
   "execution_count": 6,
   "metadata": {},
   "outputs": [],
   "source": [
    "cols = [i for i in df.columns if i not in ['projectID','commitHash','commitMessage']]\n",
    "for col in cols:\n",
    "    df[col] = df[col].astype(int)"
   ]
  },
  {
   "cell_type": "code",
   "execution_count": 7,
   "metadata": {},
   "outputs": [
    {
     "data": {
      "text/plain": [
       "projectID             object\n",
       "commitHash            object\n",
       "commitMessage         object\n",
       "complexity             int64\n",
       "lines                  int64\n",
       "commentLines           int64\n",
       "duplicatedLines        int64\n",
       "violations             int64\n",
       "blockerViolations      int64\n",
       "criticalViolations     int64\n",
       "majorViolations        int64\n",
       "minorViolations        int64\n",
       "bugs                   int64\n",
       "codeSmells             int64\n",
       "dtype: object"
      ]
     },
     "execution_count": 7,
     "metadata": {},
     "output_type": "execute_result"
    }
   ],
   "source": [
    "df.dtypes"
   ]
  },
  {
   "cell_type": "markdown",
   "metadata": {},
   "source": [
    "### Columns metrics"
   ]
  },
  {
   "cell_type": "code",
   "execution_count": 8,
   "metadata": {},
   "outputs": [
    {
     "data": {
      "text/html": [
       "<div>\n",
       "<style scoped>\n",
       "    .dataframe tbody tr th:only-of-type {\n",
       "        vertical-align: middle;\n",
       "    }\n",
       "\n",
       "    .dataframe tbody tr th {\n",
       "        vertical-align: top;\n",
       "    }\n",
       "\n",
       "    .dataframe thead th {\n",
       "        text-align: right;\n",
       "    }\n",
       "</style>\n",
       "<table border=\"1\" class=\"dataframe\">\n",
       "  <thead>\n",
       "    <tr style=\"text-align: right;\">\n",
       "      <th></th>\n",
       "      <th>complexity</th>\n",
       "      <th>lines</th>\n",
       "      <th>commentLines</th>\n",
       "      <th>duplicatedLines</th>\n",
       "      <th>violations</th>\n",
       "      <th>blockerViolations</th>\n",
       "      <th>criticalViolations</th>\n",
       "      <th>majorViolations</th>\n",
       "      <th>minorViolations</th>\n",
       "      <th>bugs</th>\n",
       "      <th>codeSmells</th>\n",
       "    </tr>\n",
       "  </thead>\n",
       "  <tbody>\n",
       "    <tr>\n",
       "      <th>count</th>\n",
       "      <td>55629.000000</td>\n",
       "      <td>5.562900e+04</td>\n",
       "      <td>55629.000000</td>\n",
       "      <td>55629.000000</td>\n",
       "      <td>55629.000000</td>\n",
       "      <td>55629.000000</td>\n",
       "      <td>55629.000000</td>\n",
       "      <td>55629.000000</td>\n",
       "      <td>55629.000000</td>\n",
       "      <td>55629.000000</td>\n",
       "      <td>55629.000000</td>\n",
       "    </tr>\n",
       "    <tr>\n",
       "      <th>mean</th>\n",
       "      <td>12112.140179</td>\n",
       "      <td>1.327941e+05</td>\n",
       "      <td>17577.502921</td>\n",
       "      <td>15517.791602</td>\n",
       "      <td>5440.302198</td>\n",
       "      <td>27.425030</td>\n",
       "      <td>373.338097</td>\n",
       "      <td>2375.444157</td>\n",
       "      <td>2563.342861</td>\n",
       "      <td>74.626670</td>\n",
       "      <td>5235.007442</td>\n",
       "    </tr>\n",
       "    <tr>\n",
       "      <th>std</th>\n",
       "      <td>15175.782233</td>\n",
       "      <td>1.515171e+05</td>\n",
       "      <td>18922.274369</td>\n",
       "      <td>24901.111445</td>\n",
       "      <td>6642.833830</td>\n",
       "      <td>53.010832</td>\n",
       "      <td>355.199801</td>\n",
       "      <td>2700.680993</td>\n",
       "      <td>3778.729807</td>\n",
       "      <td>113.049746</td>\n",
       "      <td>6368.548284</td>\n",
       "    </tr>\n",
       "    <tr>\n",
       "      <th>min</th>\n",
       "      <td>0.000000</td>\n",
       "      <td>0.000000e+00</td>\n",
       "      <td>0.000000</td>\n",
       "      <td>0.000000</td>\n",
       "      <td>0.000000</td>\n",
       "      <td>0.000000</td>\n",
       "      <td>0.000000</td>\n",
       "      <td>0.000000</td>\n",
       "      <td>0.000000</td>\n",
       "      <td>0.000000</td>\n",
       "      <td>0.000000</td>\n",
       "    </tr>\n",
       "    <tr>\n",
       "      <th>25%</th>\n",
       "      <td>2522.000000</td>\n",
       "      <td>2.941900e+04</td>\n",
       "      <td>4205.000000</td>\n",
       "      <td>2048.000000</td>\n",
       "      <td>1197.000000</td>\n",
       "      <td>2.000000</td>\n",
       "      <td>85.000000</td>\n",
       "      <td>498.000000</td>\n",
       "      <td>397.000000</td>\n",
       "      <td>6.000000</td>\n",
       "      <td>1168.000000</td>\n",
       "    </tr>\n",
       "    <tr>\n",
       "      <th>50%</th>\n",
       "      <td>5302.000000</td>\n",
       "      <td>6.624600e+04</td>\n",
       "      <td>10221.000000</td>\n",
       "      <td>6113.000000</td>\n",
       "      <td>2291.000000</td>\n",
       "      <td>8.000000</td>\n",
       "      <td>240.000000</td>\n",
       "      <td>1050.000000</td>\n",
       "      <td>899.000000</td>\n",
       "      <td>19.000000</td>\n",
       "      <td>2163.000000</td>\n",
       "    </tr>\n",
       "    <tr>\n",
       "      <th>75%</th>\n",
       "      <td>14080.000000</td>\n",
       "      <td>1.663610e+05</td>\n",
       "      <td>22674.000000</td>\n",
       "      <td>19504.000000</td>\n",
       "      <td>9358.000000</td>\n",
       "      <td>38.000000</td>\n",
       "      <td>626.000000</td>\n",
       "      <td>3188.000000</td>\n",
       "      <td>4050.000000</td>\n",
       "      <td>112.000000</td>\n",
       "      <td>9018.000000</td>\n",
       "    </tr>\n",
       "    <tr>\n",
       "      <th>max</th>\n",
       "      <td>139214.000000</td>\n",
       "      <td>1.175349e+06</td>\n",
       "      <td>125220.000000</td>\n",
       "      <td>264993.000000</td>\n",
       "      <td>48093.000000</td>\n",
       "      <td>419.000000</td>\n",
       "      <td>1305.000000</td>\n",
       "      <td>24772.000000</td>\n",
       "      <td>21509.000000</td>\n",
       "      <td>1505.000000</td>\n",
       "      <td>45538.000000</td>\n",
       "    </tr>\n",
       "  </tbody>\n",
       "</table>\n",
       "</div>"
      ],
      "text/plain": [
       "          complexity         lines   commentLines  duplicatedLines  \\\n",
       "count   55629.000000  5.562900e+04   55629.000000     55629.000000   \n",
       "mean    12112.140179  1.327941e+05   17577.502921     15517.791602   \n",
       "std     15175.782233  1.515171e+05   18922.274369     24901.111445   \n",
       "min         0.000000  0.000000e+00       0.000000         0.000000   \n",
       "25%      2522.000000  2.941900e+04    4205.000000      2048.000000   \n",
       "50%      5302.000000  6.624600e+04   10221.000000      6113.000000   \n",
       "75%     14080.000000  1.663610e+05   22674.000000     19504.000000   \n",
       "max    139214.000000  1.175349e+06  125220.000000    264993.000000   \n",
       "\n",
       "         violations  blockerViolations  criticalViolations  majorViolations  \\\n",
       "count  55629.000000       55629.000000        55629.000000     55629.000000   \n",
       "mean    5440.302198          27.425030          373.338097      2375.444157   \n",
       "std     6642.833830          53.010832          355.199801      2700.680993   \n",
       "min        0.000000           0.000000            0.000000         0.000000   \n",
       "25%     1197.000000           2.000000           85.000000       498.000000   \n",
       "50%     2291.000000           8.000000          240.000000      1050.000000   \n",
       "75%     9358.000000          38.000000          626.000000      3188.000000   \n",
       "max    48093.000000         419.000000         1305.000000     24772.000000   \n",
       "\n",
       "       minorViolations          bugs    codeSmells  \n",
       "count     55629.000000  55629.000000  55629.000000  \n",
       "mean       2563.342861     74.626670   5235.007442  \n",
       "std        3778.729807    113.049746   6368.548284  \n",
       "min           0.000000      0.000000      0.000000  \n",
       "25%         397.000000      6.000000   1168.000000  \n",
       "50%         899.000000     19.000000   2163.000000  \n",
       "75%        4050.000000    112.000000   9018.000000  \n",
       "max       21509.000000   1505.000000  45538.000000  "
      ]
     },
     "execution_count": 8,
     "metadata": {},
     "output_type": "execute_result"
    }
   ],
   "source": [
    "df.describe()"
   ]
  },
  {
   "cell_type": "markdown",
   "metadata": {},
   "source": [
    "### Preprocessing on \"violations\" types"
   ]
  },
  {
   "cell_type": "code",
   "execution_count": 9,
   "metadata": {},
   "outputs": [
    {
     "data": {
      "image/png": "[encoded data removed]",
      "text/plain": [
       "<Figure size 1440x432 with 4 Axes>"
      ]
     },
     "metadata": {
      "needs_background": "light"
     },
     "output_type": "display_data"
    }
   ],
   "source": [
    "fig , ax = plt.subplots(2,2, figsize=(20,6))\n",
    "plt.subplots_adjust(wspace=0.1, hspace=0.5)\n",
    "ax[0,0].hist(df['blockerViolations'], bins=100)\n",
    "ax[0,1].hist(df['criticalViolations'], bins=100)\n",
    "ax[1,0].hist(df['majorViolations'], bins=100)\n",
    "ax[1,1].hist(df['minorViolations'], bins=100)\n",
    "\n",
    "ax[0,0].title.set_text('blockerViolations')\n",
    "ax[0,0].set_ylabel('Freq')\n",
    "ax[0,0].set_xlabel('# violations')\n",
    "ax[0,1].title.set_text('criticalViolations')\n",
    "ax[0,1].set_ylabel('Freq')\n",
    "ax[0,1].set_xlabel('# violations')\n",
    "ax[1,0].title.set_text('majorViolations')\n",
    "ax[1,0].set_xlabel('# violations')\n",
    "ax[1,0].set_ylabel('Freq')\n",
    "ax[1,1].title.set_text('minorViolations')\n",
    "ax[1,1].set_xlabel('# violations')\n",
    "ax[1,1].set_ylabel('Freq')\n",
    "plt.xticks(rotation='vertical')\n",
    "plt.show()"
   ]
  },
  {
   "cell_type": "markdown",
   "metadata": {},
   "source": [
    "Cut violations only where there is data."
   ]
  },
  {
   "cell_type": "code",
   "execution_count": 10,
   "metadata": {},
   "outputs": [],
   "source": [
    "df['blockerViolations'] = df['blockerViolations'].where(df['blockerViolations'] <= 100, 100)\n",
    "df['majorViolations'] = df['majorViolations'].where(df['majorViolations'] <= 10000, 10000)\n",
    "df['minorViolations'] = df['minorViolations'].where(df['minorViolations'] <= 10000, 10000)"
   ]
  },
  {
   "cell_type": "code",
   "execution_count": 11,
   "metadata": {},
   "outputs": [
    {
     "data": {
      "image/png": "[encoded data removed]",
      "text/plain": [
       "<Figure size 1440x432 with 4 Axes>"
      ]
     },
     "metadata": {
      "needs_background": "light"
     },
     "output_type": "display_data"
    }
   ],
   "source": [
    "fig , ax = plt.subplots(2,2, figsize=(20,6))\n",
    "plt.subplots_adjust(wspace=0.1, hspace=0.5)\n",
    "ax[0,0].hist(df['blockerViolations'], bins=100)\n",
    "ax[0,1].hist(df['criticalViolations'], bins=100)\n",
    "ax[1,0].hist(df['majorViolations'], bins=100)\n",
    "ax[1,1].hist(df['minorViolations'], bins=100)\n",
    "\n",
    "ax[0,0].title.set_text('blockerViolations')\n",
    "ax[0,0].set_ylabel('Freq')\n",
    "ax[0,0].set_xlabel('# violations')\n",
    "ax[0,1].title.set_text('criticalViolations')\n",
    "ax[0,1].set_ylabel('Freq')\n",
    "ax[0,1].set_xlabel('# violations')\n",
    "ax[1,0].title.set_text('majorViolations')\n",
    "ax[1,0].set_xlabel('# violations')\n",
    "ax[1,0].set_ylabel('Freq')\n",
    "ax[1,1].title.set_text('minorViolations')\n",
    "ax[1,1].set_xlabel('# violations')\n",
    "ax[1,1].set_ylabel('Freq')\n",
    "plt.xticks(rotation='vertical')\n",
    "plt.show()"
   ]
  },
  {
   "cell_type": "markdown",
   "metadata": {},
   "source": [
    "We merge minor and major violations into one, by adding them up."
   ]
  },
  {
   "cell_type": "code",
   "execution_count": 12,
   "metadata": {},
   "outputs": [],
   "source": [
    "df = df.assign(mimaViolations = df['minorViolations'] + df['majorViolations'])"
   ]
  },
  {
   "cell_type": "code",
   "execution_count": 13,
   "metadata": {},
   "outputs": [
    {
     "data": {
      "image/png": "[encoded data removed]",
      "text/plain": [
       "<Figure size 1440x432 with 4 Axes>"
      ]
     },
     "metadata": {
      "needs_background": "light"
     },
     "output_type": "display_data"
    }
   ],
   "source": [
    "fig , ax = plt.subplots(2,2, figsize=(20,6))\n",
    "plt.subplots_adjust(wspace=0.1, hspace=0.5)\n",
    "\n",
    "ax[0,0].hist(df['blockerViolations'], bins=100)\n",
    "ax[0,1].hist(df['criticalViolations'], bins=100)\n",
    "ax[1,0].hist(df['mimaViolations'], bins=100)\n",
    "\n",
    "ax[0,0].title.set_text('blockerViolations')\n",
    "ax[0,0].set_ylabel('Freq')\n",
    "ax[0,0].set_xlabel('# violations')\n",
    "ax[0,1].title.set_text('criticalViolations')\n",
    "ax[0,1].set_ylabel('Freq')\n",
    "ax[0,1].set_xlabel('# violations')\n",
    "ax[1,0].title.set_text('mimaViolations')\n",
    "ax[1,0].set_xlabel('# violations')\n",
    "ax[1,0].set_ylabel('Freq')\n",
    "plt.xticks(rotation='vertical')\n",
    "plt.show()"
   ]
  },
  {
   "cell_type": "markdown",
   "metadata": {},
   "source": [
    "Create bins for different groups."
   ]
  },
  {
   "cell_type": "code",
   "execution_count": 14,
   "metadata": {},
   "outputs": [],
   "source": [
    "# Partition by steps, intervals of the same size\n",
    "def categorize_1(N_BINS, v):\n",
    "    bins = np.arange(min(v), max(v)+1, step = max(v)//N_BINS)\n",
    "    bins[-1] += 1\n",
    "    bins[0] = -1\n",
    "    return bins\n",
    "\n",
    "# Partition according to the distribution of the data, \n",
    "# same number of items in each interval\n",
    "def categorize_2(N_BINS, v):\n",
    "    v = v.sort_values()\n",
    "    n = len(v)\n",
    "    id_seps = [int(i*n/N_BINS) for i in range(0,N_BINS+1)]\n",
    "    seps = [v.iloc[el-1] for el in id_seps]\n",
    "    seps[0] = v.iloc[0]-1\n",
    "    return seps"
   ]
  },
  {
   "cell_type": "code",
   "execution_count": 15,
   "metadata": {},
   "outputs": [
    {
     "data": {
      "text/plain": [
       "[-1, 4, 26, 100]"
      ]
     },
     "execution_count": 15,
     "metadata": {},
     "output_type": "execute_result"
    }
   ],
   "source": [
    "v = df.blockerViolations\n",
    "n_groups = 3\n",
    "\n",
    "categorize_2(n_groups, v)"
   ]
  },
  {
   "cell_type": "code",
   "execution_count": 16,
   "metadata": {},
   "outputs": [
    {
     "data": {
      "text/plain": [
       "array([ -1,  33,  66, 100])"
      ]
     },
     "execution_count": 16,
     "metadata": {},
     "output_type": "execute_result"
    }
   ],
   "source": [
    "v = df.blockerViolations\n",
    "n_groups = 3\n",
    "\n",
    "categorize_1(n_groups, v)"
   ]
  },
  {
   "cell_type": "markdown",
   "metadata": {},
   "source": [
    "Create interval variables for each violation."
   ]
  },
  {
   "cell_type": "code",
   "execution_count": 17,
   "metadata": {},
   "outputs": [],
   "source": [
    "n_groups = 2"
   ]
  },
  {
   "cell_type": "code",
   "execution_count": 18,
   "metadata": {},
   "outputs": [],
   "source": [
    "df['bin_blockerViolations'] = pd.cut(df['blockerViolations'], categorize_2(n_groups, df['blockerViolations']))\n",
    "df['bin_criticalViolations'] = pd.cut(df['criticalViolations'], categorize_2(n_groups, df['criticalViolations']))\n",
    "df['bin_mimaViolations'] = pd.cut(df['mimaViolations'], categorize_2(n_groups, df['mimaViolations']))"
   ]
  },
  {
   "cell_type": "code",
   "execution_count": 19,
   "metadata": {},
   "outputs": [],
   "source": [
    "df['class_blockerViolations'] = df['bin_blockerViolations'].cat.codes.astype(str)\n",
    "df['class_criticalViolations'] = df['bin_criticalViolations'].cat.codes.astype(str)\n",
    "df['class_mimaViolations'] = df['bin_mimaViolations'].cat.codes.astype(str)"
   ]
  },
  {
   "cell_type": "markdown",
   "metadata": {},
   "source": [
    "Merge them all and create a colum paste of all combination of classes."
   ]
  },
  {
   "cell_type": "code",
   "execution_count": 20,
   "metadata": {},
   "outputs": [
    {
     "data": {
      "text/plain": [
       "0        111\n",
       "1        111\n",
       "2        111\n",
       "3        111\n",
       "4        111\n",
       "        ... \n",
       "55624    111\n",
       "55625    111\n",
       "55626    111\n",
       "55627    111\n",
       "55628    111\n",
       "Name: class, Length: 55629, dtype: object"
      ]
     },
     "execution_count": 20,
     "metadata": {},
     "output_type": "execute_result"
    }
   ],
   "source": [
    "df[\"class\"] = df[\"class_blockerViolations\"] + df[\"class_criticalViolations\"] + df[\"class_mimaViolations\"]\n",
    "df['class']"
   ]
  },
  {
   "cell_type": "markdown",
   "metadata": {},
   "source": [
    "Assign a category to each combination of class."
   ]
  },
  {
   "cell_type": "code",
   "execution_count": 21,
   "metadata": {},
   "outputs": [
    {
     "data": {
      "text/html": [
       "<div>\n",
       "<style scoped>\n",
       "    .dataframe tbody tr th:only-of-type {\n",
       "        vertical-align: middle;\n",
       "    }\n",
       "\n",
       "    .dataframe tbody tr th {\n",
       "        vertical-align: top;\n",
       "    }\n",
       "\n",
       "    .dataframe thead th {\n",
       "        text-align: right;\n",
       "    }\n",
       "</style>\n",
       "<table border=\"1\" class=\"dataframe\">\n",
       "  <thead>\n",
       "    <tr style=\"text-align: right;\">\n",
       "      <th></th>\n",
       "      <th>class</th>\n",
       "      <th>category</th>\n",
       "    </tr>\n",
       "  </thead>\n",
       "  <tbody>\n",
       "    <tr>\n",
       "      <th>0</th>\n",
       "      <td>111</td>\n",
       "      <td>7</td>\n",
       "    </tr>\n",
       "    <tr>\n",
       "      <th>1</th>\n",
       "      <td>111</td>\n",
       "      <td>7</td>\n",
       "    </tr>\n",
       "    <tr>\n",
       "      <th>2</th>\n",
       "      <td>111</td>\n",
       "      <td>7</td>\n",
       "    </tr>\n",
       "    <tr>\n",
       "      <th>3</th>\n",
       "      <td>111</td>\n",
       "      <td>7</td>\n",
       "    </tr>\n",
       "    <tr>\n",
       "      <th>4</th>\n",
       "      <td>111</td>\n",
       "      <td>7</td>\n",
       "    </tr>\n",
       "    <tr>\n",
       "      <th>...</th>\n",
       "      <td>...</td>\n",
       "      <td>...</td>\n",
       "    </tr>\n",
       "    <tr>\n",
       "      <th>55624</th>\n",
       "      <td>111</td>\n",
       "      <td>7</td>\n",
       "    </tr>\n",
       "    <tr>\n",
       "      <th>55625</th>\n",
       "      <td>111</td>\n",
       "      <td>7</td>\n",
       "    </tr>\n",
       "    <tr>\n",
       "      <th>55626</th>\n",
       "      <td>111</td>\n",
       "      <td>7</td>\n",
       "    </tr>\n",
       "    <tr>\n",
       "      <th>55627</th>\n",
       "      <td>111</td>\n",
       "      <td>7</td>\n",
       "    </tr>\n",
       "    <tr>\n",
       "      <th>55628</th>\n",
       "      <td>111</td>\n",
       "      <td>7</td>\n",
       "    </tr>\n",
       "  </tbody>\n",
       "</table>\n",
       "<p>55629 rows × 2 columns</p>\n",
       "</div>"
      ],
      "text/plain": [
       "      class  category\n",
       "0       111         7\n",
       "1       111         7\n",
       "2       111         7\n",
       "3       111         7\n",
       "4       111         7\n",
       "...     ...       ...\n",
       "55624   111         7\n",
       "55625   111         7\n",
       "55626   111         7\n",
       "55627   111         7\n",
       "55628   111         7\n",
       "\n",
       "[55629 rows x 2 columns]"
      ]
     },
     "execution_count": 21,
     "metadata": {},
     "output_type": "execute_result"
    }
   ],
   "source": [
    "df['class'] = df['class'].astype('category')\n",
    "df['category'] = df['class'].cat.codes\n",
    "df[['class','category']]"
   ]
  },
  {
   "cell_type": "markdown",
   "metadata": {},
   "source": [
    "We get the combination categories below."
   ]
  },
  {
   "cell_type": "code",
   "execution_count": 22,
   "metadata": {},
   "outputs": [
    {
     "name": "stdout",
     "output_type": "stream",
     "text": [
      "['000', '001', '010', '011', '100', '101', '110', '111']\n"
     ]
    }
   ],
   "source": [
    "print(sorted(df['class'].unique()))"
   ]
  },
  {
   "cell_type": "markdown",
   "metadata": {},
   "source": [
    "Category codification into integers"
   ]
  },
  {
   "cell_type": "code",
   "execution_count": 23,
   "metadata": {},
   "outputs": [
    {
     "name": "stdout",
     "output_type": "stream",
     "text": [
      "[0, 1, 2, 3, 4, 5, 6, 7]\n"
     ]
    }
   ],
   "source": [
    "print(sorted(df['category'].unique()))"
   ]
  },
  {
   "cell_type": "markdown",
   "metadata": {},
   "source": [
    "Check if there are NA categories."
   ]
  },
  {
   "cell_type": "code",
   "execution_count": 24,
   "metadata": {},
   "outputs": [
    {
     "data": {
      "text/html": [
       "<div>\n",
       "<style scoped>\n",
       "    .dataframe tbody tr th:only-of-type {\n",
       "        vertical-align: middle;\n",
       "    }\n",
       "\n",
       "    .dataframe tbody tr th {\n",
       "        vertical-align: top;\n",
       "    }\n",
       "\n",
       "    .dataframe thead th {\n",
       "        text-align: right;\n",
       "    }\n",
       "</style>\n",
       "<table border=\"1\" class=\"dataframe\">\n",
       "  <thead>\n",
       "    <tr style=\"text-align: right;\">\n",
       "      <th></th>\n",
       "      <th>projectID</th>\n",
       "      <th>commitHash</th>\n",
       "      <th>commitMessage</th>\n",
       "      <th>complexity</th>\n",
       "      <th>lines</th>\n",
       "      <th>commentLines</th>\n",
       "      <th>duplicatedLines</th>\n",
       "      <th>violations</th>\n",
       "      <th>blockerViolations</th>\n",
       "      <th>criticalViolations</th>\n",
       "      <th>...</th>\n",
       "      <th>codeSmells</th>\n",
       "      <th>mimaViolations</th>\n",
       "      <th>bin_blockerViolations</th>\n",
       "      <th>bin_criticalViolations</th>\n",
       "      <th>bin_mimaViolations</th>\n",
       "      <th>class_blockerViolations</th>\n",
       "      <th>class_criticalViolations</th>\n",
       "      <th>class_mimaViolations</th>\n",
       "      <th>class</th>\n",
       "      <th>category</th>\n",
       "    </tr>\n",
       "  </thead>\n",
       "  <tbody>\n",
       "  </tbody>\n",
       "</table>\n",
       "<p>0 rows × 23 columns</p>\n",
       "</div>"
      ],
      "text/plain": [
       "Empty DataFrame\n",
       "Columns: [projectID, commitHash, commitMessage, complexity, lines, commentLines, duplicatedLines, violations, blockerViolations, criticalViolations, majorViolations, minorViolations, bugs, codeSmells, mimaViolations, bin_blockerViolations, bin_criticalViolations, bin_mimaViolations, class_blockerViolations, class_criticalViolations, class_mimaViolations, class, category]\n",
       "Index: []\n",
       "\n",
       "[0 rows x 23 columns]"
      ]
     },
     "execution_count": 24,
     "metadata": {},
     "output_type": "execute_result"
    }
   ],
   "source": [
    "df[df.category.isna()]"
   ]
  },
  {
   "cell_type": "markdown",
   "metadata": {},
   "source": [
    "We create a lookup table of the data created (in order to check which intervals where chosen, if needed)"
   ]
  },
  {
   "cell_type": "code",
   "execution_count": 25,
   "metadata": {},
   "outputs": [
    {
     "data": {
      "text/html": [
       "<div>\n",
       "<style scoped>\n",
       "    .dataframe tbody tr th:only-of-type {\n",
       "        vertical-align: middle;\n",
       "    }\n",
       "\n",
       "    .dataframe tbody tr th {\n",
       "        vertical-align: top;\n",
       "    }\n",
       "\n",
       "    .dataframe thead th {\n",
       "        text-align: right;\n",
       "    }\n",
       "</style>\n",
       "<table border=\"1\" class=\"dataframe\">\n",
       "  <thead>\n",
       "    <tr style=\"text-align: right;\">\n",
       "      <th></th>\n",
       "      <th>interval</th>\n",
       "      <th>type</th>\n",
       "      <th>class</th>\n",
       "    </tr>\n",
       "  </thead>\n",
       "  <tbody>\n",
       "    <tr>\n",
       "      <th>0</th>\n",
       "      <td>(8, 100]</td>\n",
       "      <td>bin_blockerViolations</td>\n",
       "      <td>0</td>\n",
       "    </tr>\n",
       "    <tr>\n",
       "      <th>1</th>\n",
       "      <td>(-1, 8]</td>\n",
       "      <td>bin_blockerViolations</td>\n",
       "      <td>1</td>\n",
       "    </tr>\n",
       "    <tr>\n",
       "      <th>2</th>\n",
       "      <td>(240, 1305]</td>\n",
       "      <td>bin_criticalViolations</td>\n",
       "      <td>0</td>\n",
       "    </tr>\n",
       "    <tr>\n",
       "      <th>3</th>\n",
       "      <td>(-1, 240]</td>\n",
       "      <td>bin_criticalViolations</td>\n",
       "      <td>1</td>\n",
       "    </tr>\n",
       "    <tr>\n",
       "      <th>4</th>\n",
       "      <td>(1963, 20000]</td>\n",
       "      <td>bin_mimaViolations</td>\n",
       "      <td>0</td>\n",
       "    </tr>\n",
       "    <tr>\n",
       "      <th>5</th>\n",
       "      <td>(-1, 1963]</td>\n",
       "      <td>bin_mimaViolations</td>\n",
       "      <td>1</td>\n",
       "    </tr>\n",
       "  </tbody>\n",
       "</table>\n",
       "</div>"
      ],
      "text/plain": [
       "        interval                    type  class\n",
       "0       (8, 100]   bin_blockerViolations      0\n",
       "1        (-1, 8]   bin_blockerViolations      1\n",
       "2    (240, 1305]  bin_criticalViolations      0\n",
       "3      (-1, 240]  bin_criticalViolations      1\n",
       "4  (1963, 20000]      bin_mimaViolations      0\n",
       "5     (-1, 1963]      bin_mimaViolations      1"
      ]
     },
     "execution_count": 25,
     "metadata": {},
     "output_type": "execute_result"
    }
   ],
   "source": [
    "viols = ['bin_blockerViolations','bin_criticalViolations','bin_mimaViolations']\n",
    "categories = pd.DataFrame()\n",
    "for v in viols:\n",
    "    t = pd.DataFrame({'interval': df[v].unique()})\n",
    "    t['type'] = v\n",
    "    t['class'] = np.arange(0,len(df[v].unique()))\n",
    "    categories = pd.concat([categories,t])\n",
    "categories.reset_index(drop=True)"
   ]
  },
  {
   "cell_type": "markdown",
   "metadata": {},
   "source": [
    "### Resulting table"
   ]
  },
  {
   "cell_type": "code",
   "execution_count": 26,
   "metadata": {},
   "outputs": [
    {
     "data": {
      "text/html": [
       "<div>\n",
       "<style scoped>\n",
       "    .dataframe tbody tr th:only-of-type {\n",
       "        vertical-align: middle;\n",
       "    }\n",
       "\n",
       "    .dataframe tbody tr th {\n",
       "        vertical-align: top;\n",
       "    }\n",
       "\n",
       "    .dataframe thead th {\n",
       "        text-align: right;\n",
       "    }\n",
       "</style>\n",
       "<table border=\"1\" class=\"dataframe\">\n",
       "  <thead>\n",
       "    <tr style=\"text-align: right;\">\n",
       "      <th></th>\n",
       "      <th>projectID</th>\n",
       "      <th>commitHash</th>\n",
       "      <th>commitMessage</th>\n",
       "      <th>complexity</th>\n",
       "      <th>lines</th>\n",
       "      <th>commentLines</th>\n",
       "      <th>duplicatedLines</th>\n",
       "      <th>violations</th>\n",
       "      <th>blockerViolations</th>\n",
       "      <th>criticalViolations</th>\n",
       "      <th>...</th>\n",
       "      <th>codeSmells</th>\n",
       "      <th>mimaViolations</th>\n",
       "      <th>bin_blockerViolations</th>\n",
       "      <th>bin_criticalViolations</th>\n",
       "      <th>bin_mimaViolations</th>\n",
       "      <th>class_blockerViolations</th>\n",
       "      <th>class_criticalViolations</th>\n",
       "      <th>class_mimaViolations</th>\n",
       "      <th>class</th>\n",
       "      <th>category</th>\n",
       "    </tr>\n",
       "  </thead>\n",
       "  <tbody>\n",
       "    <tr>\n",
       "      <th>0</th>\n",
       "      <td>accumulo</td>\n",
       "      <td>e0880e263e4bf8662ba3848405200473a25dfc9f</td>\n",
       "      <td>ACCUMULO-1 initial checkin of source code\\n\\ng...</td>\n",
       "      <td>43137</td>\n",
       "      <td>263680</td>\n",
       "      <td>13509</td>\n",
       "      <td>46445</td>\n",
       "      <td>18314</td>\n",
       "      <td>100</td>\n",
       "      <td>893</td>\n",
       "      <td>...</td>\n",
       "      <td>17012</td>\n",
       "      <td>17199</td>\n",
       "      <td>(8, 100]</td>\n",
       "      <td>(240, 1305]</td>\n",
       "      <td>(1963, 20000]</td>\n",
       "      <td>1</td>\n",
       "      <td>1</td>\n",
       "      <td>1</td>\n",
       "      <td>111</td>\n",
       "      <td>7</td>\n",
       "    </tr>\n",
       "    <tr>\n",
       "      <th>1</th>\n",
       "      <td>accumulo</td>\n",
       "      <td>e8774c5ec3a35e042f320540b5f7e66ebd2d9e87</td>\n",
       "      <td>ACCUMULO-2 moved cloudtrace for TRUNK, fixed p...</td>\n",
       "      <td>43137</td>\n",
       "      <td>262753</td>\n",
       "      <td>13507</td>\n",
       "      <td>46301</td>\n",
       "      <td>18169</td>\n",
       "      <td>100</td>\n",
       "      <td>893</td>\n",
       "      <td>...</td>\n",
       "      <td>16987</td>\n",
       "      <td>17054</td>\n",
       "      <td>(8, 100]</td>\n",
       "      <td>(240, 1305]</td>\n",
       "      <td>(1963, 20000]</td>\n",
       "      <td>1</td>\n",
       "      <td>1</td>\n",
       "      <td>1</td>\n",
       "      <td>111</td>\n",
       "      <td>7</td>\n",
       "    </tr>\n",
       "    <tr>\n",
       "      <th>2</th>\n",
       "      <td>accumulo</td>\n",
       "      <td>2032ebbd0ed90734da39ca238bbd10dee24d0030</td>\n",
       "      <td>ACCUMULO-2 fixed thrift build script to point ...</td>\n",
       "      <td>43137</td>\n",
       "      <td>262753</td>\n",
       "      <td>13507</td>\n",
       "      <td>46301</td>\n",
       "      <td>18169</td>\n",
       "      <td>100</td>\n",
       "      <td>893</td>\n",
       "      <td>...</td>\n",
       "      <td>16987</td>\n",
       "      <td>17054</td>\n",
       "      <td>(8, 100]</td>\n",
       "      <td>(240, 1305]</td>\n",
       "      <td>(1963, 20000]</td>\n",
       "      <td>1</td>\n",
       "      <td>1</td>\n",
       "      <td>1</td>\n",
       "      <td>111</td>\n",
       "      <td>7</td>\n",
       "    </tr>\n",
       "    <tr>\n",
       "      <th>3</th>\n",
       "      <td>accumulo</td>\n",
       "      <td>de297d4932e08625a5df146f0802041bb5aeb892</td>\n",
       "      <td>ACCUMULO-2 reverted change to config.html\\n\\ng...</td>\n",
       "      <td>43137</td>\n",
       "      <td>263643</td>\n",
       "      <td>13507</td>\n",
       "      <td>46445</td>\n",
       "      <td>18315</td>\n",
       "      <td>100</td>\n",
       "      <td>893</td>\n",
       "      <td>...</td>\n",
       "      <td>17013</td>\n",
       "      <td>17200</td>\n",
       "      <td>(8, 100]</td>\n",
       "      <td>(240, 1305]</td>\n",
       "      <td>(1963, 20000]</td>\n",
       "      <td>1</td>\n",
       "      <td>1</td>\n",
       "      <td>1</td>\n",
       "      <td>111</td>\n",
       "      <td>7</td>\n",
       "    </tr>\n",
       "    <tr>\n",
       "      <th>4</th>\n",
       "      <td>accumulo</td>\n",
       "      <td>34efaae87639a83b60fdb7274de4b45051025a3a</td>\n",
       "      <td>ACCUMULO-2 fixed cloudtrace references in cont...</td>\n",
       "      <td>43137</td>\n",
       "      <td>263639</td>\n",
       "      <td>13507</td>\n",
       "      <td>46445</td>\n",
       "      <td>18315</td>\n",
       "      <td>100</td>\n",
       "      <td>893</td>\n",
       "      <td>...</td>\n",
       "      <td>17013</td>\n",
       "      <td>17200</td>\n",
       "      <td>(8, 100]</td>\n",
       "      <td>(240, 1305]</td>\n",
       "      <td>(1963, 20000]</td>\n",
       "      <td>1</td>\n",
       "      <td>1</td>\n",
       "      <td>1</td>\n",
       "      <td>111</td>\n",
       "      <td>7</td>\n",
       "    </tr>\n",
       "    <tr>\n",
       "      <th>...</th>\n",
       "      <td>...</td>\n",
       "      <td>...</td>\n",
       "      <td>...</td>\n",
       "      <td>...</td>\n",
       "      <td>...</td>\n",
       "      <td>...</td>\n",
       "      <td>...</td>\n",
       "      <td>...</td>\n",
       "      <td>...</td>\n",
       "      <td>...</td>\n",
       "      <td>...</td>\n",
       "      <td>...</td>\n",
       "      <td>...</td>\n",
       "      <td>...</td>\n",
       "      <td>...</td>\n",
       "      <td>...</td>\n",
       "      <td>...</td>\n",
       "      <td>...</td>\n",
       "      <td>...</td>\n",
       "      <td>...</td>\n",
       "      <td>...</td>\n",
       "    </tr>\n",
       "    <tr>\n",
       "      <th>55624</th>\n",
       "      <td>zookeeper</td>\n",
       "      <td>cd0e323831c8b4cde64976325bfc79bb53cdd9b7</td>\n",
       "      <td>ZOOKEEPER-2635: Regenerate documentation (fpj)</td>\n",
       "      <td>10111</td>\n",
       "      <td>103678</td>\n",
       "      <td>10708</td>\n",
       "      <td>5142</td>\n",
       "      <td>4981</td>\n",
       "      <td>18</td>\n",
       "      <td>534</td>\n",
       "      <td>...</td>\n",
       "      <td>4471</td>\n",
       "      <td>4352</td>\n",
       "      <td>(8, 100]</td>\n",
       "      <td>(240, 1305]</td>\n",
       "      <td>(1963, 20000]</td>\n",
       "      <td>1</td>\n",
       "      <td>1</td>\n",
       "      <td>1</td>\n",
       "      <td>111</td>\n",
       "      <td>7</td>\n",
       "    </tr>\n",
       "    <tr>\n",
       "      <th>55625</th>\n",
       "      <td>zookeeper</td>\n",
       "      <td>482ce218d815b7a613ed9728b82602ddecc61996</td>\n",
       "      <td>ZOOKEEPER-761: Remove *synchronous* calls from...</td>\n",
       "      <td>10111</td>\n",
       "      <td>103678</td>\n",
       "      <td>10708</td>\n",
       "      <td>5142</td>\n",
       "      <td>4981</td>\n",
       "      <td>18</td>\n",
       "      <td>534</td>\n",
       "      <td>...</td>\n",
       "      <td>4471</td>\n",
       "      <td>4352</td>\n",
       "      <td>(8, 100]</td>\n",
       "      <td>(240, 1305]</td>\n",
       "      <td>(1963, 20000]</td>\n",
       "      <td>1</td>\n",
       "      <td>1</td>\n",
       "      <td>1</td>\n",
       "      <td>111</td>\n",
       "      <td>7</td>\n",
       "    </tr>\n",
       "    <tr>\n",
       "      <th>55626</th>\n",
       "      <td>zookeeper</td>\n",
       "      <td>dfcf4da75c35c12d08496ded2612031f887c0765</td>\n",
       "      <td>ZOOKEEPER-2647: Fix TestReconfigServer.cc\\n\\nA...</td>\n",
       "      <td>10111</td>\n",
       "      <td>103678</td>\n",
       "      <td>10708</td>\n",
       "      <td>5142</td>\n",
       "      <td>4981</td>\n",
       "      <td>18</td>\n",
       "      <td>534</td>\n",
       "      <td>...</td>\n",
       "      <td>4471</td>\n",
       "      <td>4352</td>\n",
       "      <td>(8, 100]</td>\n",
       "      <td>(240, 1305]</td>\n",
       "      <td>(1963, 20000]</td>\n",
       "      <td>1</td>\n",
       "      <td>1</td>\n",
       "      <td>1</td>\n",
       "      <td>111</td>\n",
       "      <td>7</td>\n",
       "    </tr>\n",
       "    <tr>\n",
       "      <th>55627</th>\n",
       "      <td>zookeeper</td>\n",
       "      <td>8616a9ec8ce4bc8ac2987b7417a6f0c4b7333658</td>\n",
       "      <td>ZOOKEEPER-2479: Add 'electionTimeTaken' value ...</td>\n",
       "      <td>10118</td>\n",
       "      <td>103746</td>\n",
       "      <td>10715</td>\n",
       "      <td>5142</td>\n",
       "      <td>4981</td>\n",
       "      <td>18</td>\n",
       "      <td>534</td>\n",
       "      <td>...</td>\n",
       "      <td>4471</td>\n",
       "      <td>4352</td>\n",
       "      <td>(8, 100]</td>\n",
       "      <td>(240, 1305]</td>\n",
       "      <td>(1963, 20000]</td>\n",
       "      <td>1</td>\n",
       "      <td>1</td>\n",
       "      <td>1</td>\n",
       "      <td>111</td>\n",
       "      <td>7</td>\n",
       "    </tr>\n",
       "    <tr>\n",
       "      <th>55628</th>\n",
       "      <td>zookeeper</td>\n",
       "      <td>eac693cc76a34f96b9116ef33d1e92af7129416d</td>\n",
       "      <td>ZOOKEEPER-2383: Startup race in ZooKeeperServe...</td>\n",
       "      <td>10141</td>\n",
       "      <td>104025</td>\n",
       "      <td>10735</td>\n",
       "      <td>5194</td>\n",
       "      <td>4984</td>\n",
       "      <td>19</td>\n",
       "      <td>534</td>\n",
       "      <td>...</td>\n",
       "      <td>4472</td>\n",
       "      <td>4354</td>\n",
       "      <td>(8, 100]</td>\n",
       "      <td>(240, 1305]</td>\n",
       "      <td>(1963, 20000]</td>\n",
       "      <td>1</td>\n",
       "      <td>1</td>\n",
       "      <td>1</td>\n",
       "      <td>111</td>\n",
       "      <td>7</td>\n",
       "    </tr>\n",
       "  </tbody>\n",
       "</table>\n",
       "<p>55629 rows × 23 columns</p>\n",
       "</div>"
      ],
      "text/plain": [
       "       projectID                                commitHash  \\\n",
       "0       accumulo  e0880e263e4bf8662ba3848405200473a25dfc9f   \n",
       "1       accumulo  e8774c5ec3a35e042f320540b5f7e66ebd2d9e87   \n",
       "2       accumulo  2032ebbd0ed90734da39ca238bbd10dee24d0030   \n",
       "3       accumulo  de297d4932e08625a5df146f0802041bb5aeb892   \n",
       "4       accumulo  34efaae87639a83b60fdb7274de4b45051025a3a   \n",
       "...          ...                                       ...   \n",
       "55624  zookeeper  cd0e323831c8b4cde64976325bfc79bb53cdd9b7   \n",
       "55625  zookeeper  482ce218d815b7a613ed9728b82602ddecc61996   \n",
       "55626  zookeeper  dfcf4da75c35c12d08496ded2612031f887c0765   \n",
       "55627  zookeeper  8616a9ec8ce4bc8ac2987b7417a6f0c4b7333658   \n",
       "55628  zookeeper  eac693cc76a34f96b9116ef33d1e92af7129416d   \n",
       "\n",
       "                                           commitMessage  complexity   lines  \\\n",
       "0      ACCUMULO-1 initial checkin of source code\\n\\ng...       43137  263680   \n",
       "1      ACCUMULO-2 moved cloudtrace for TRUNK, fixed p...       43137  262753   \n",
       "2      ACCUMULO-2 fixed thrift build script to point ...       43137  262753   \n",
       "3      ACCUMULO-2 reverted change to config.html\\n\\ng...       43137  263643   \n",
       "4      ACCUMULO-2 fixed cloudtrace references in cont...       43137  263639   \n",
       "...                                                  ...         ...     ...   \n",
       "55624     ZOOKEEPER-2635: Regenerate documentation (fpj)       10111  103678   \n",
       "55625  ZOOKEEPER-761: Remove *synchronous* calls from...       10111  103678   \n",
       "55626  ZOOKEEPER-2647: Fix TestReconfigServer.cc\\n\\nA...       10111  103678   \n",
       "55627  ZOOKEEPER-2479: Add 'electionTimeTaken' value ...       10118  103746   \n",
       "55628  ZOOKEEPER-2383: Startup race in ZooKeeperServe...       10141  104025   \n",
       "\n",
       "       commentLines  duplicatedLines  violations  blockerViolations  \\\n",
       "0             13509            46445       18314                100   \n",
       "1             13507            46301       18169                100   \n",
       "2             13507            46301       18169                100   \n",
       "3             13507            46445       18315                100   \n",
       "4             13507            46445       18315                100   \n",
       "...             ...              ...         ...                ...   \n",
       "55624         10708             5142        4981                 18   \n",
       "55625         10708             5142        4981                 18   \n",
       "55626         10708             5142        4981                 18   \n",
       "55627         10715             5142        4981                 18   \n",
       "55628         10735             5194        4984                 19   \n",
       "\n",
       "       criticalViolations  ...  codeSmells  mimaViolations  \\\n",
       "0                     893  ...       17012           17199   \n",
       "1                     893  ...       16987           17054   \n",
       "2                     893  ...       16987           17054   \n",
       "3                     893  ...       17013           17200   \n",
       "4                     893  ...       17013           17200   \n",
       "...                   ...  ...         ...             ...   \n",
       "55624                 534  ...        4471            4352   \n",
       "55625                 534  ...        4471            4352   \n",
       "55626                 534  ...        4471            4352   \n",
       "55627                 534  ...        4471            4352   \n",
       "55628                 534  ...        4472            4354   \n",
       "\n",
       "       bin_blockerViolations  bin_criticalViolations  bin_mimaViolations  \\\n",
       "0                   (8, 100]             (240, 1305]       (1963, 20000]   \n",
       "1                   (8, 100]             (240, 1305]       (1963, 20000]   \n",
       "2                   (8, 100]             (240, 1305]       (1963, 20000]   \n",
       "3                   (8, 100]             (240, 1305]       (1963, 20000]   \n",
       "4                   (8, 100]             (240, 1305]       (1963, 20000]   \n",
       "...                      ...                     ...                 ...   \n",
       "55624               (8, 100]             (240, 1305]       (1963, 20000]   \n",
       "55625               (8, 100]             (240, 1305]       (1963, 20000]   \n",
       "55626               (8, 100]             (240, 1305]       (1963, 20000]   \n",
       "55627               (8, 100]             (240, 1305]       (1963, 20000]   \n",
       "55628               (8, 100]             (240, 1305]       (1963, 20000]   \n",
       "\n",
       "      class_blockerViolations class_criticalViolations class_mimaViolations  \\\n",
       "0                           1                        1                    1   \n",
       "1                           1                        1                    1   \n",
       "2                           1                        1                    1   \n",
       "3                           1                        1                    1   \n",
       "4                           1                        1                    1   \n",
       "...                       ...                      ...                  ...   \n",
       "55624                       1                        1                    1   \n",
       "55625                       1                        1                    1   \n",
       "55626                       1                        1                    1   \n",
       "55627                       1                        1                    1   \n",
       "55628                       1                        1                    1   \n",
       "\n",
       "      class category  \n",
       "0       111        7  \n",
       "1       111        7  \n",
       "2       111        7  \n",
       "3       111        7  \n",
       "4       111        7  \n",
       "...     ...      ...  \n",
       "55624   111        7  \n",
       "55625   111        7  \n",
       "55626   111        7  \n",
       "55627   111        7  \n",
       "55628   111        7  \n",
       "\n",
       "[55629 rows x 23 columns]"
      ]
     },
     "execution_count": 26,
     "metadata": {},
     "output_type": "execute_result"
    }
   ],
   "source": [
    "df"
   ]
  },
  {
   "cell_type": "markdown",
   "metadata": {},
   "source": [
    "Number of instances for each category"
   ]
  },
  {
   "cell_type": "code",
   "execution_count": 27,
   "metadata": {},
   "outputs": [
    {
     "data": {
      "text/plain": [
       "(7    19000\n",
       " 0    18759\n",
       " 4     3933\n",
       " 3     3621\n",
       " 2     3140\n",
       " 5     2731\n",
       " 1     2442\n",
       " 6     2003\n",
       " Name: category, dtype: int64,\n",
       " 55629)"
      ]
     },
     "execution_count": 27,
     "metadata": {},
     "output_type": "execute_result"
    }
   ],
   "source": [
    "df['category'].value_counts(), df['category'].count(), "
   ]
  },
  {
   "cell_type": "markdown",
   "metadata": {},
   "source": [
    "Category distribution plot"
   ]
  },
  {
   "cell_type": "code",
   "execution_count": 28,
   "metadata": {},
   "outputs": [
    {
     "data": {
      "image/png": "[encoded data removed]",
      "text/plain": [
       "<Figure size 1080x360 with 1 Axes>"
      ]
     },
     "metadata": {
      "needs_background": "light"
     },
     "output_type": "display_data"
    }
   ],
   "source": [
    "import seaborn as sns\n",
    "fig , ax = plt.subplots(1,1, figsize=(15,5))\n",
    "sns.histplot(df['category'], bins=100, ax =ax)\n",
    "ax.set_xticks(df.category.unique())\n",
    "ax.set_xlabel(\"Category\")\n",
    "ax.set_ylabel(\"Count [log scale]\")\n",
    "ax.set_title('Histogram of values per category')\n",
    "#ax.set_yscale('log')\n",
    "plt.show()"
   ]
  },
  {
   "cell_type": "markdown",
   "metadata": {},
   "source": [
    "### Save table data"
   ]
  },
  {
   "cell_type": "markdown",
   "metadata": {},
   "source": [
    "Save it as pickle."
   ]
  },
  {
   "cell_type": "code",
   "execution_count": 29,
   "metadata": {},
   "outputs": [],
   "source": [
    "SAVE_PATH = '../data/our_data/'"
   ]
  },
  {
   "cell_type": "code",
   "execution_count": 30,
   "metadata": {},
   "outputs": [],
   "source": [
    "filename = 'commits_violations_8.pkl'\n",
    "\n",
    "df.to_pickle(SAVE_PATH + filename)"
   ]
  },
  {
   "cell_type": "markdown",
   "metadata": {},
   "source": [
    "We can read it by using:"
   ]
  },
  {
   "cell_type": "code",
   "execution_count": 31,
   "metadata": {},
   "outputs": [
    {
     "data": {
      "text/html": [
       "<div>\n",
       "<style scoped>\n",
       "    .dataframe tbody tr th:only-of-type {\n",
       "        vertical-align: middle;\n",
       "    }\n",
       "\n",
       "    .dataframe tbody tr th {\n",
       "        vertical-align: top;\n",
       "    }\n",
       "\n",
       "    .dataframe thead th {\n",
       "        text-align: right;\n",
       "    }\n",
       "</style>\n",
       "<table border=\"1\" class=\"dataframe\">\n",
       "  <thead>\n",
       "    <tr style=\"text-align: right;\">\n",
       "      <th></th>\n",
       "      <th>projectID</th>\n",
       "      <th>commitHash</th>\n",
       "      <th>commitMessage</th>\n",
       "      <th>complexity</th>\n",
       "      <th>lines</th>\n",
       "      <th>commentLines</th>\n",
       "      <th>duplicatedLines</th>\n",
       "      <th>violations</th>\n",
       "      <th>blockerViolations</th>\n",
       "      <th>criticalViolations</th>\n",
       "      <th>...</th>\n",
       "      <th>codeSmells</th>\n",
       "      <th>mimaViolations</th>\n",
       "      <th>bin_blockerViolations</th>\n",
       "      <th>bin_criticalViolations</th>\n",
       "      <th>bin_mimaViolations</th>\n",
       "      <th>class_blockerViolations</th>\n",
       "      <th>class_criticalViolations</th>\n",
       "      <th>class_mimaViolations</th>\n",
       "      <th>class</th>\n",
       "      <th>category</th>\n",
       "    </tr>\n",
       "  </thead>\n",
       "  <tbody>\n",
       "    <tr>\n",
       "      <th>0</th>\n",
       "      <td>accumulo</td>\n",
       "      <td>e0880e263e4bf8662ba3848405200473a25dfc9f</td>\n",
       "      <td>ACCUMULO-1 initial checkin of source code\\n\\ng...</td>\n",
       "      <td>43137</td>\n",
       "      <td>263680</td>\n",
       "      <td>13509</td>\n",
       "      <td>46445</td>\n",
       "      <td>18314</td>\n",
       "      <td>100</td>\n",
       "      <td>893</td>\n",
       "      <td>...</td>\n",
       "      <td>17012</td>\n",
       "      <td>17199</td>\n",
       "      <td>(8, 100]</td>\n",
       "      <td>(240, 1305]</td>\n",
       "      <td>(1963, 20000]</td>\n",
       "      <td>1</td>\n",
       "      <td>1</td>\n",
       "      <td>1</td>\n",
       "      <td>111</td>\n",
       "      <td>7</td>\n",
       "    </tr>\n",
       "    <tr>\n",
       "      <th>1</th>\n",
       "      <td>accumulo</td>\n",
       "      <td>e8774c5ec3a35e042f320540b5f7e66ebd2d9e87</td>\n",
       "      <td>ACCUMULO-2 moved cloudtrace for TRUNK, fixed p...</td>\n",
       "      <td>43137</td>\n",
       "      <td>262753</td>\n",
       "      <td>13507</td>\n",
       "      <td>46301</td>\n",
       "      <td>18169</td>\n",
       "      <td>100</td>\n",
       "      <td>893</td>\n",
       "      <td>...</td>\n",
       "      <td>16987</td>\n",
       "      <td>17054</td>\n",
       "      <td>(8, 100]</td>\n",
       "      <td>(240, 1305]</td>\n",
       "      <td>(1963, 20000]</td>\n",
       "      <td>1</td>\n",
       "      <td>1</td>\n",
       "      <td>1</td>\n",
       "      <td>111</td>\n",
       "      <td>7</td>\n",
       "    </tr>\n",
       "    <tr>\n",
       "      <th>2</th>\n",
       "      <td>accumulo</td>\n",
       "      <td>2032ebbd0ed90734da39ca238bbd10dee24d0030</td>\n",
       "      <td>ACCUMULO-2 fixed thrift build script to point ...</td>\n",
       "      <td>43137</td>\n",
       "      <td>262753</td>\n",
       "      <td>13507</td>\n",
       "      <td>46301</td>\n",
       "      <td>18169</td>\n",
       "      <td>100</td>\n",
       "      <td>893</td>\n",
       "      <td>...</td>\n",
       "      <td>16987</td>\n",
       "      <td>17054</td>\n",
       "      <td>(8, 100]</td>\n",
       "      <td>(240, 1305]</td>\n",
       "      <td>(1963, 20000]</td>\n",
       "      <td>1</td>\n",
       "      <td>1</td>\n",
       "      <td>1</td>\n",
       "      <td>111</td>\n",
       "      <td>7</td>\n",
       "    </tr>\n",
       "    <tr>\n",
       "      <th>3</th>\n",
       "      <td>accumulo</td>\n",
       "      <td>de297d4932e08625a5df146f0802041bb5aeb892</td>\n",
       "      <td>ACCUMULO-2 reverted change to config.html\\n\\ng...</td>\n",
       "      <td>43137</td>\n",
       "      <td>263643</td>\n",
       "      <td>13507</td>\n",
       "      <td>46445</td>\n",
       "      <td>18315</td>\n",
       "      <td>100</td>\n",
       "      <td>893</td>\n",
       "      <td>...</td>\n",
       "      <td>17013</td>\n",
       "      <td>17200</td>\n",
       "      <td>(8, 100]</td>\n",
       "      <td>(240, 1305]</td>\n",
       "      <td>(1963, 20000]</td>\n",
       "      <td>1</td>\n",
       "      <td>1</td>\n",
       "      <td>1</td>\n",
       "      <td>111</td>\n",
       "      <td>7</td>\n",
       "    </tr>\n",
       "    <tr>\n",
       "      <th>4</th>\n",
       "      <td>accumulo</td>\n",
       "      <td>34efaae87639a83b60fdb7274de4b45051025a3a</td>\n",
       "      <td>ACCUMULO-2 fixed cloudtrace references in cont...</td>\n",
       "      <td>43137</td>\n",
       "      <td>263639</td>\n",
       "      <td>13507</td>\n",
       "      <td>46445</td>\n",
       "      <td>18315</td>\n",
       "      <td>100</td>\n",
       "      <td>893</td>\n",
       "      <td>...</td>\n",
       "      <td>17013</td>\n",
       "      <td>17200</td>\n",
       "      <td>(8, 100]</td>\n",
       "      <td>(240, 1305]</td>\n",
       "      <td>(1963, 20000]</td>\n",
       "      <td>1</td>\n",
       "      <td>1</td>\n",
       "      <td>1</td>\n",
       "      <td>111</td>\n",
       "      <td>7</td>\n",
       "    </tr>\n",
       "  </tbody>\n",
       "</table>\n",
       "<p>5 rows × 23 columns</p>\n",
       "</div>"
      ],
      "text/plain": [
       "  projectID                                commitHash  \\\n",
       "0  accumulo  e0880e263e4bf8662ba3848405200473a25dfc9f   \n",
       "1  accumulo  e8774c5ec3a35e042f320540b5f7e66ebd2d9e87   \n",
       "2  accumulo  2032ebbd0ed90734da39ca238bbd10dee24d0030   \n",
       "3  accumulo  de297d4932e08625a5df146f0802041bb5aeb892   \n",
       "4  accumulo  34efaae87639a83b60fdb7274de4b45051025a3a   \n",
       "\n",
       "                                       commitMessage  complexity   lines  \\\n",
       "0  ACCUMULO-1 initial checkin of source code\\n\\ng...       43137  263680   \n",
       "1  ACCUMULO-2 moved cloudtrace for TRUNK, fixed p...       43137  262753   \n",
       "2  ACCUMULO-2 fixed thrift build script to point ...       43137  262753   \n",
       "3  ACCUMULO-2 reverted change to config.html\\n\\ng...       43137  263643   \n",
       "4  ACCUMULO-2 fixed cloudtrace references in cont...       43137  263639   \n",
       "\n",
       "   commentLines  duplicatedLines  violations  blockerViolations  \\\n",
       "0         13509            46445       18314                100   \n",
       "1         13507            46301       18169                100   \n",
       "2         13507            46301       18169                100   \n",
       "3         13507            46445       18315                100   \n",
       "4         13507            46445       18315                100   \n",
       "\n",
       "   criticalViolations  ...  codeSmells  mimaViolations  bin_blockerViolations  \\\n",
       "0                 893  ...       17012           17199               (8, 100]   \n",
       "1                 893  ...       16987           17054               (8, 100]   \n",
       "2                 893  ...       16987           17054               (8, 100]   \n",
       "3                 893  ...       17013           17200               (8, 100]   \n",
       "4                 893  ...       17013           17200               (8, 100]   \n",
       "\n",
       "   bin_criticalViolations  bin_mimaViolations class_blockerViolations  \\\n",
       "0             (240, 1305]       (1963, 20000]                       1   \n",
       "1             (240, 1305]       (1963, 20000]                       1   \n",
       "2             (240, 1305]       (1963, 20000]                       1   \n",
       "3             (240, 1305]       (1963, 20000]                       1   \n",
       "4             (240, 1305]       (1963, 20000]                       1   \n",
       "\n",
       "  class_criticalViolations class_mimaViolations class category  \n",
       "0                        1                    1   111        7  \n",
       "1                        1                    1   111        7  \n",
       "2                        1                    1   111        7  \n",
       "3                        1                    1   111        7  \n",
       "4                        1                    1   111        7  \n",
       "\n",
       "[5 rows x 23 columns]"
      ]
     },
     "execution_count": 31,
     "metadata": {},
     "output_type": "execute_result"
    }
   ],
   "source": [
    "df = pd.read_pickle(SAVE_PATH + filename)\n",
    "df.head()"
   ]
  },
  {
   "cell_type": "markdown",
   "metadata": {},
   "source": [
    "### Pearson Correlation of Features"
   ]
  },
  {
   "cell_type": "code",
   "execution_count": 32,
   "metadata": {},
   "outputs": [],
   "source": [
    "dff = df[['complexity', 'lines', 'commentLines', 'duplicatedLines', 'violations','category']]"
   ]
  },
  {
   "cell_type": "code",
   "execution_count": 33,
   "metadata": {},
   "outputs": [
    {
     "data": {
      "text/plain": [
       "<AxesSubplot:title={'center':'Pearson Correlation of Features'}>"
      ]
     },
     "execution_count": 33,
     "metadata": {},
     "output_type": "execute_result"
    },
    {
     "data": {
      "image/png": "[encoded data removed]",
      "text/plain": [
       "<Figure size 720x720 with 2 Axes>"
      ]
     },
     "metadata": {
      "needs_background": "light"
     },
     "output_type": "display_data"
    }
   ],
   "source": [
    "colormap = plt.cm.viridis\n",
    "plt.figure(figsize=(10,10))\n",
    "plt.title('Pearson Correlation of Features', size=15)\n",
    "\n",
    "sns.heatmap(dff.astype(float).corr(),linewidths=0.1,vmax=1.0, square=True, cmap=colormap, linecolor='white', annot=True)"
   ]
  },
  {
   "cell_type": "markdown",
   "metadata": {},
   "source": [
    "### PCA"
   ]
  },
  {
   "cell_type": "code",
   "execution_count": 71,
   "metadata": {},
   "outputs": [],
   "source": [
    "X = df[['lines', 'commentLines', 'duplicatedLines', 'category']]\n",
    "pca = PCA(n_components=2)\n",
    "pca.fit(X)\n",
    "x_pca = pca.transform(X)"
   ]
  },
  {
   "cell_type": "code",
   "execution_count": 72,
   "metadata": {},
   "outputs": [
    {
     "data": {
      "image/png": "[encoded data removed]",
      "text/plain": [
       "<Figure size 576x432 with 2 Axes>"
      ]
     },
     "metadata": {
      "needs_background": "light"
     },
     "output_type": "display_data"
    }
   ],
   "source": [
    "plt.figure(figsize=(8,6))\n",
    "plt.scatter(x_pca[:,0],x_pca[:,1],c=dff['category'],cmap=plt.cm.get_cmap('rainbow', 10))\n",
    "plt.title('PCA')\n",
    "plt.xlabel('First principal component')\n",
    "plt.ylabel('Second Principal Component')\n",
    "cbar = plt.colorbar()\n",
    "cbar.set_label('Category', labelpad=-20, y=1.07, rotation=0)"
   ]
  }
 ],
 "metadata": {
  "kernelspec": {
   "display_name": "vesper_env",
   "language": "python",
   "name": "vesper_env"
  },
  "language_info": {
   "codemirror_mode": {
    "name": "ipython",
    "version": 3
   },
   "file_extension": ".py",
   "mimetype": "text/x-python",
   "name": "python",
   "nbconvert_exporter": "python",
   "pygments_lexer": "ipython3",
   "version": "3.6.9"
  }
 },
 "nbformat": 4,
 "nbformat_minor": 4
}
