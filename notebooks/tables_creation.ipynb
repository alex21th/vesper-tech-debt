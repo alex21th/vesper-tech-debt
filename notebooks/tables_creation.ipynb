{
 "cells": [
  {
   "cell_type": "markdown",
   "metadata": {},
   "source": [
    "# Tables creation"
   ]
  },
  {
   "cell_type": "markdown",
   "metadata": {},
   "source": [
    "### Import libraries"
   ]
  },
  {
   "cell_type": "code",
   "execution_count": 1,
   "metadata": {},
   "outputs": [],
   "source": [
    "import sqlite3\n",
    "import pandas as pd\n",
    "import numpy as np\n",
    "from matplotlib import pyplot as plt"
   ]
  },
  {
   "cell_type": "markdown",
   "metadata": {},
   "source": [
    "### Data path and DB connection"
   ]
  },
  {
   "cell_type": "code",
   "execution_count": 4,
   "metadata": {},
   "outputs": [],
   "source": [
    "DATA_PATH = '../data/technical_debt/'"
   ]
  },
  {
   "cell_type": "code",
   "execution_count": 5,
   "metadata": {},
   "outputs": [],
   "source": [
    "conn = sqlite3.connect(DATA_PATH + 'technicalDebtDataset.db')"
   ]
  },
  {
   "cell_type": "markdown",
   "metadata": {},
   "source": [
    "### Fetch main tables"
   ]
  },
  {
   "cell_type": "code",
   "execution_count": 6,
   "metadata": {},
   "outputs": [],
   "source": [
    "query = ''' SELECT\n",
    "                gc.projectID, gc.commitHash, gc.commitMessage,\n",
    "                sm.complexity, sm.lines, sm.commentLines, sm.duplicatedLines,\n",
    "                sm.violations, sm.blockerViolations, sm.criticalViolations, sm.majorViolations, sm.minorViolations,\n",
    "                sm.bugs, sm.codeSmells \n",
    "            FROM\n",
    "                GIT_COMMITS as gc\n",
    "            INNER JOIN\n",
    "                SONAR_MEASURES as sm\n",
    "            WHERE\n",
    "                gc.commitHash = sm.commitHash\n",
    "'''"
   ]
  },
  {
   "cell_type": "code",
   "execution_count": 7,
   "metadata": {},
   "outputs": [
    {
     "data": {
      "text/html": [
       "<div>\n",
       "<style scoped>\n",
       "    .dataframe tbody tr th:only-of-type {\n",
       "        vertical-align: middle;\n",
       "    }\n",
       "\n",
       "    .dataframe tbody tr th {\n",
       "        vertical-align: top;\n",
       "    }\n",
       "\n",
       "    .dataframe thead th {\n",
       "        text-align: right;\n",
       "    }\n",
       "</style>\n",
       "<table border=\"1\" class=\"dataframe\">\n",
       "  <thead>\n",
       "    <tr style=\"text-align: right;\">\n",
       "      <th></th>\n",
       "      <th>projectID</th>\n",
       "      <th>commitHash</th>\n",
       "      <th>commitMessage</th>\n",
       "      <th>complexity</th>\n",
       "      <th>lines</th>\n",
       "      <th>commentLines</th>\n",
       "      <th>duplicatedLines</th>\n",
       "      <th>violations</th>\n",
       "      <th>blockerViolations</th>\n",
       "      <th>criticalViolations</th>\n",
       "      <th>majorViolations</th>\n",
       "      <th>minorViolations</th>\n",
       "      <th>bugs</th>\n",
       "      <th>codeSmells</th>\n",
       "    </tr>\n",
       "  </thead>\n",
       "  <tbody>\n",
       "    <tr>\n",
       "      <th>0</th>\n",
       "      <td>accumulo</td>\n",
       "      <td>e0880e263e4bf8662ba3848405200473a25dfc9f</td>\n",
       "      <td>ACCUMULO-1 initial checkin of source code\\n\\ng...</td>\n",
       "      <td>43137</td>\n",
       "      <td>263680</td>\n",
       "      <td>13509</td>\n",
       "      <td>46445</td>\n",
       "      <td>18314</td>\n",
       "      <td>142</td>\n",
       "      <td>893</td>\n",
       "      <td>7310</td>\n",
       "      <td>9889</td>\n",
       "      <td>464</td>\n",
       "      <td>17012</td>\n",
       "    </tr>\n",
       "    <tr>\n",
       "      <th>1</th>\n",
       "      <td>accumulo</td>\n",
       "      <td>e8774c5ec3a35e042f320540b5f7e66ebd2d9e87</td>\n",
       "      <td>ACCUMULO-2 moved cloudtrace for TRUNK, fixed p...</td>\n",
       "      <td>43137</td>\n",
       "      <td>262753</td>\n",
       "      <td>13507</td>\n",
       "      <td>46301</td>\n",
       "      <td>18169</td>\n",
       "      <td>142</td>\n",
       "      <td>893</td>\n",
       "      <td>7164</td>\n",
       "      <td>9890</td>\n",
       "      <td>344</td>\n",
       "      <td>16987</td>\n",
       "    </tr>\n",
       "    <tr>\n",
       "      <th>2</th>\n",
       "      <td>accumulo</td>\n",
       "      <td>2032ebbd0ed90734da39ca238bbd10dee24d0030</td>\n",
       "      <td>ACCUMULO-2 fixed thrift build script to point ...</td>\n",
       "      <td>43137</td>\n",
       "      <td>262753</td>\n",
       "      <td>13507</td>\n",
       "      <td>46301</td>\n",
       "      <td>18169</td>\n",
       "      <td>142</td>\n",
       "      <td>893</td>\n",
       "      <td>7164</td>\n",
       "      <td>9890</td>\n",
       "      <td>344</td>\n",
       "      <td>16987</td>\n",
       "    </tr>\n",
       "    <tr>\n",
       "      <th>3</th>\n",
       "      <td>accumulo</td>\n",
       "      <td>de297d4932e08625a5df146f0802041bb5aeb892</td>\n",
       "      <td>ACCUMULO-2 reverted change to config.html\\n\\ng...</td>\n",
       "      <td>43137</td>\n",
       "      <td>263643</td>\n",
       "      <td>13507</td>\n",
       "      <td>46445</td>\n",
       "      <td>18315</td>\n",
       "      <td>142</td>\n",
       "      <td>893</td>\n",
       "      <td>7310</td>\n",
       "      <td>9890</td>\n",
       "      <td>464</td>\n",
       "      <td>17013</td>\n",
       "    </tr>\n",
       "    <tr>\n",
       "      <th>4</th>\n",
       "      <td>accumulo</td>\n",
       "      <td>34efaae87639a83b60fdb7274de4b45051025a3a</td>\n",
       "      <td>ACCUMULO-2 fixed cloudtrace references in cont...</td>\n",
       "      <td>43137</td>\n",
       "      <td>263639</td>\n",
       "      <td>13507</td>\n",
       "      <td>46445</td>\n",
       "      <td>18315</td>\n",
       "      <td>142</td>\n",
       "      <td>893</td>\n",
       "      <td>7310</td>\n",
       "      <td>9890</td>\n",
       "      <td>464</td>\n",
       "      <td>17013</td>\n",
       "    </tr>\n",
       "  </tbody>\n",
       "</table>\n",
       "</div>"
      ],
      "text/plain": [
       "  projectID                                commitHash  \\\n",
       "0  accumulo  e0880e263e4bf8662ba3848405200473a25dfc9f   \n",
       "1  accumulo  e8774c5ec3a35e042f320540b5f7e66ebd2d9e87   \n",
       "2  accumulo  2032ebbd0ed90734da39ca238bbd10dee24d0030   \n",
       "3  accumulo  de297d4932e08625a5df146f0802041bb5aeb892   \n",
       "4  accumulo  34efaae87639a83b60fdb7274de4b45051025a3a   \n",
       "\n",
       "                                       commitMessage complexity   lines  \\\n",
       "0  ACCUMULO-1 initial checkin of source code\\n\\ng...      43137  263680   \n",
       "1  ACCUMULO-2 moved cloudtrace for TRUNK, fixed p...      43137  262753   \n",
       "2  ACCUMULO-2 fixed thrift build script to point ...      43137  262753   \n",
       "3  ACCUMULO-2 reverted change to config.html\\n\\ng...      43137  263643   \n",
       "4  ACCUMULO-2 fixed cloudtrace references in cont...      43137  263639   \n",
       "\n",
       "  commentLines duplicatedLines violations blockerViolations  \\\n",
       "0        13509           46445      18314               142   \n",
       "1        13507           46301      18169               142   \n",
       "2        13507           46301      18169               142   \n",
       "3        13507           46445      18315               142   \n",
       "4        13507           46445      18315               142   \n",
       "\n",
       "  criticalViolations majorViolations minorViolations bugs codeSmells  \n",
       "0                893            7310            9889  464      17012  \n",
       "1                893            7164            9890  344      16987  \n",
       "2                893            7164            9890  344      16987  \n",
       "3                893            7310            9890  464      17013  \n",
       "4                893            7310            9890  464      17013  "
      ]
     },
     "execution_count": 7,
     "metadata": {},
     "output_type": "execute_result"
    }
   ],
   "source": [
    "df = pd.read_sql_query(query, conn)\n",
    "df.head()"
   ]
  },
  {
   "cell_type": "markdown",
   "metadata": {},
   "source": [
    "### Convert some columns to numeric"
   ]
  },
  {
   "cell_type": "code",
   "execution_count": 8,
   "metadata": {},
   "outputs": [],
   "source": [
    "cols = [i for i in df.columns if i not in ['projectID','commitHash','commitMessage']]\n",
    "for col in cols:\n",
    "    df[col] = df[col].astype(int)"
   ]
  },
  {
   "cell_type": "code",
   "execution_count": 9,
   "metadata": {},
   "outputs": [
    {
     "data": {
      "text/plain": [
       "projectID             object\n",
       "commitHash            object\n",
       "commitMessage         object\n",
       "complexity             int64\n",
       "lines                  int64\n",
       "commentLines           int64\n",
       "duplicatedLines        int64\n",
       "violations             int64\n",
       "blockerViolations      int64\n",
       "criticalViolations     int64\n",
       "majorViolations        int64\n",
       "minorViolations        int64\n",
       "bugs                   int64\n",
       "codeSmells             int64\n",
       "dtype: object"
      ]
     },
     "execution_count": 9,
     "metadata": {},
     "output_type": "execute_result"
    }
   ],
   "source": [
    "df.dtypes"
   ]
  },
  {
   "cell_type": "markdown",
   "metadata": {},
   "source": [
    "### Columns metrics"
   ]
  },
  {
   "cell_type": "code",
   "execution_count": 10,
   "metadata": {},
   "outputs": [
    {
     "data": {
      "text/html": [
       "<div>\n",
       "<style scoped>\n",
       "    .dataframe tbody tr th:only-of-type {\n",
       "        vertical-align: middle;\n",
       "    }\n",
       "\n",
       "    .dataframe tbody tr th {\n",
       "        vertical-align: top;\n",
       "    }\n",
       "\n",
       "    .dataframe thead th {\n",
       "        text-align: right;\n",
       "    }\n",
       "</style>\n",
       "<table border=\"1\" class=\"dataframe\">\n",
       "  <thead>\n",
       "    <tr style=\"text-align: right;\">\n",
       "      <th></th>\n",
       "      <th>complexity</th>\n",
       "      <th>lines</th>\n",
       "      <th>commentLines</th>\n",
       "      <th>duplicatedLines</th>\n",
       "      <th>violations</th>\n",
       "      <th>blockerViolations</th>\n",
       "      <th>criticalViolations</th>\n",
       "      <th>majorViolations</th>\n",
       "      <th>minorViolations</th>\n",
       "      <th>bugs</th>\n",
       "      <th>codeSmells</th>\n",
       "    </tr>\n",
       "  </thead>\n",
       "  <tbody>\n",
       "    <tr>\n",
       "      <th>count</th>\n",
       "      <td>55629.000000</td>\n",
       "      <td>5.562900e+04</td>\n",
       "      <td>55629.000000</td>\n",
       "      <td>55629.000000</td>\n",
       "      <td>55629.000000</td>\n",
       "      <td>55629.000000</td>\n",
       "      <td>55629.000000</td>\n",
       "      <td>55629.000000</td>\n",
       "      <td>55629.000000</td>\n",
       "      <td>55629.000000</td>\n",
       "      <td>55629.000000</td>\n",
       "    </tr>\n",
       "    <tr>\n",
       "      <th>mean</th>\n",
       "      <td>12112.140179</td>\n",
       "      <td>1.327941e+05</td>\n",
       "      <td>17577.502921</td>\n",
       "      <td>15517.791602</td>\n",
       "      <td>5440.302198</td>\n",
       "      <td>27.425030</td>\n",
       "      <td>373.338097</td>\n",
       "      <td>2375.444157</td>\n",
       "      <td>2563.342861</td>\n",
       "      <td>74.626670</td>\n",
       "      <td>5235.007442</td>\n",
       "    </tr>\n",
       "    <tr>\n",
       "      <th>std</th>\n",
       "      <td>15175.782233</td>\n",
       "      <td>1.515171e+05</td>\n",
       "      <td>18922.274369</td>\n",
       "      <td>24901.111445</td>\n",
       "      <td>6642.833830</td>\n",
       "      <td>53.010832</td>\n",
       "      <td>355.199801</td>\n",
       "      <td>2700.680993</td>\n",
       "      <td>3778.729807</td>\n",
       "      <td>113.049746</td>\n",
       "      <td>6368.548284</td>\n",
       "    </tr>\n",
       "    <tr>\n",
       "      <th>min</th>\n",
       "      <td>0.000000</td>\n",
       "      <td>0.000000e+00</td>\n",
       "      <td>0.000000</td>\n",
       "      <td>0.000000</td>\n",
       "      <td>0.000000</td>\n",
       "      <td>0.000000</td>\n",
       "      <td>0.000000</td>\n",
       "      <td>0.000000</td>\n",
       "      <td>0.000000</td>\n",
       "      <td>0.000000</td>\n",
       "      <td>0.000000</td>\n",
       "    </tr>\n",
       "    <tr>\n",
       "      <th>25%</th>\n",
       "      <td>2522.000000</td>\n",
       "      <td>2.941900e+04</td>\n",
       "      <td>4205.000000</td>\n",
       "      <td>2048.000000</td>\n",
       "      <td>1197.000000</td>\n",
       "      <td>2.000000</td>\n",
       "      <td>85.000000</td>\n",
       "      <td>498.000000</td>\n",
       "      <td>397.000000</td>\n",
       "      <td>6.000000</td>\n",
       "      <td>1168.000000</td>\n",
       "    </tr>\n",
       "    <tr>\n",
       "      <th>50%</th>\n",
       "      <td>5302.000000</td>\n",
       "      <td>6.624600e+04</td>\n",
       "      <td>10221.000000</td>\n",
       "      <td>6113.000000</td>\n",
       "      <td>2291.000000</td>\n",
       "      <td>8.000000</td>\n",
       "      <td>240.000000</td>\n",
       "      <td>1050.000000</td>\n",
       "      <td>899.000000</td>\n",
       "      <td>19.000000</td>\n",
       "      <td>2163.000000</td>\n",
       "    </tr>\n",
       "    <tr>\n",
       "      <th>75%</th>\n",
       "      <td>14080.000000</td>\n",
       "      <td>1.663610e+05</td>\n",
       "      <td>22674.000000</td>\n",
       "      <td>19504.000000</td>\n",
       "      <td>9358.000000</td>\n",
       "      <td>38.000000</td>\n",
       "      <td>626.000000</td>\n",
       "      <td>3188.000000</td>\n",
       "      <td>4050.000000</td>\n",
       "      <td>112.000000</td>\n",
       "      <td>9018.000000</td>\n",
       "    </tr>\n",
       "    <tr>\n",
       "      <th>max</th>\n",
       "      <td>139214.000000</td>\n",
       "      <td>1.175349e+06</td>\n",
       "      <td>125220.000000</td>\n",
       "      <td>264993.000000</td>\n",
       "      <td>48093.000000</td>\n",
       "      <td>419.000000</td>\n",
       "      <td>1305.000000</td>\n",
       "      <td>24772.000000</td>\n",
       "      <td>21509.000000</td>\n",
       "      <td>1505.000000</td>\n",
       "      <td>45538.000000</td>\n",
       "    </tr>\n",
       "  </tbody>\n",
       "</table>\n",
       "</div>"
      ],
      "text/plain": [
       "          complexity         lines   commentLines  duplicatedLines  \\\n",
       "count   55629.000000  5.562900e+04   55629.000000     55629.000000   \n",
       "mean    12112.140179  1.327941e+05   17577.502921     15517.791602   \n",
       "std     15175.782233  1.515171e+05   18922.274369     24901.111445   \n",
       "min         0.000000  0.000000e+00       0.000000         0.000000   \n",
       "25%      2522.000000  2.941900e+04    4205.000000      2048.000000   \n",
       "50%      5302.000000  6.624600e+04   10221.000000      6113.000000   \n",
       "75%     14080.000000  1.663610e+05   22674.000000     19504.000000   \n",
       "max    139214.000000  1.175349e+06  125220.000000    264993.000000   \n",
       "\n",
       "         violations  blockerViolations  criticalViolations  majorViolations  \\\n",
       "count  55629.000000       55629.000000        55629.000000     55629.000000   \n",
       "mean    5440.302198          27.425030          373.338097      2375.444157   \n",
       "std     6642.833830          53.010832          355.199801      2700.680993   \n",
       "min        0.000000           0.000000            0.000000         0.000000   \n",
       "25%     1197.000000           2.000000           85.000000       498.000000   \n",
       "50%     2291.000000           8.000000          240.000000      1050.000000   \n",
       "75%     9358.000000          38.000000          626.000000      3188.000000   \n",
       "max    48093.000000         419.000000         1305.000000     24772.000000   \n",
       "\n",
       "       minorViolations          bugs    codeSmells  \n",
       "count     55629.000000  55629.000000  55629.000000  \n",
       "mean       2563.342861     74.626670   5235.007442  \n",
       "std        3778.729807    113.049746   6368.548284  \n",
       "min           0.000000      0.000000      0.000000  \n",
       "25%         397.000000      6.000000   1168.000000  \n",
       "50%         899.000000     19.000000   2163.000000  \n",
       "75%        4050.000000    112.000000   9018.000000  \n",
       "max       21509.000000   1505.000000  45538.000000  "
      ]
     },
     "execution_count": 10,
     "metadata": {},
     "output_type": "execute_result"
    }
   ],
   "source": [
    "df.describe()"
   ]
  },
  {
   "cell_type": "markdown",
   "metadata": {},
   "source": [
    "### Preprocessing on \"violations\" types"
   ]
  },
  {
   "cell_type": "code",
   "execution_count": 11,
   "metadata": {},
   "outputs": [
    {
     "data": {
      "image/png": "[encoded data removed]",
      "text/plain": [
       "<Figure size 1440x432 with 4 Axes>"
      ]
     },
     "metadata": {
      "needs_background": "light"
     },
     "output_type": "display_data"
    }
   ],
   "source": [
    "fig , ax = plt.subplots(2,2, figsize=(20,6))\n",
    "ax[0,0].hist(df['blockerViolations'], bins=100)\n",
    "ax[0,1].hist(df['criticalViolations'], bins=100)\n",
    "ax[1,0].hist(df['majorViolations'], bins=100)\n",
    "ax[1,1].hist(df['minorViolations'], bins=100)\n",
    "\n",
    "ax[0,0].title.set_text('blockerViolations')\n",
    "ax[0,1].title.set_text('criticalViolations')\n",
    "ax[1,0].title.set_text('majorViolations')\n",
    "ax[1,1].title.set_text('minorViolations')\n",
    "plt.xticks(rotation='vertical')\n",
    "plt.show()"
   ]
  },
  {
   "cell_type": "markdown",
   "metadata": {},
   "source": [
    "Cut violations only where there is data."
   ]
  },
  {
   "cell_type": "code",
   "execution_count": 12,
   "metadata": {},
   "outputs": [],
   "source": [
    "df['blockerViolations'] = df['blockerViolations'].where(df['blockerViolations'] <= 100, 100)\n",
    "df['majorViolations'] = df['majorViolations'].where(df['majorViolations'] <= 10000, 10000)\n",
    "df['minorViolations'] = df['minorViolations'].where(df['minorViolations'] <= 10000, 10000)"
   ]
  },
  {
   "cell_type": "code",
   "execution_count": 13,
   "metadata": {},
   "outputs": [
    {
     "data": {
      "image/png": "[encoded data removed]",
      "text/plain": [
       "<Figure size 1440x432 with 4 Axes>"
      ]
     },
     "metadata": {
      "needs_background": "light"
     },
     "output_type": "display_data"
    }
   ],
   "source": [
    "fig , ax = plt.subplots(2,2, figsize=(20,6))\n",
    "ax[0,0].hist(df['blockerViolations'], bins=100)\n",
    "ax[0,1].hist(df['criticalViolations'], bins=100)\n",
    "ax[1,0].hist(df['majorViolations'], bins=100)\n",
    "ax[1,1].hist(df['minorViolations'], bins=100)\n",
    "\n",
    "ax[0,0].title.set_text('blockerViolations')\n",
    "ax[0,1].title.set_text('criticalViolations')\n",
    "ax[1,0].title.set_text('majorViolations')\n",
    "ax[1,1].title.set_text('minorViolations')\n",
    "plt.xticks(rotation='vertical')\n",
    "plt.show()"
   ]
  },
  {
   "cell_type": "markdown",
   "metadata": {},
   "source": [
    "We merge minor and major violations into one, by adding them up."
   ]
  },
  {
   "cell_type": "code",
   "execution_count": 14,
   "metadata": {},
   "outputs": [],
   "source": [
    "df = df.assign(mamiViolations = df['minorViolations'] + df['majorViolations'])"
   ]
  },
  {
   "cell_type": "code",
   "execution_count": 15,
   "metadata": {},
   "outputs": [
    {
     "data": {
      "image/png": "[encoded data removed]",
      "text/plain": [
       "<Figure size 1440x432 with 4 Axes>"
      ]
     },
     "metadata": {
      "needs_background": "light"
     },
     "output_type": "display_data"
    }
   ],
   "source": [
    "fig , ax = plt.subplots(2,2, figsize=(20,6))\n",
    "ax[0,0].hist(df['blockerViolations'], bins=100)\n",
    "ax[0,1].hist(df['criticalViolations'], bins=100)\n",
    "ax[1,0].hist(df['mamiViolations'], bins=100)\n",
    "\n",
    "ax[0,0].title.set_text('blockerViolations')\n",
    "ax[0,1].title.set_text('criticalViolations')\n",
    "ax[1,0].title.set_text('mamiViolations')\n",
    "plt.xticks(rotation='vertical')\n",
    "plt.show()"
   ]
  },
  {
   "cell_type": "markdown",
   "metadata": {},
   "source": [
    "Create bins for 4 different groups."
   ]
  },
  {
   "cell_type": "code",
   "execution_count": 16,
   "metadata": {},
   "outputs": [
    {
     "data": {
      "text/plain": [
       "array([ -1,  33,  66, 100])"
      ]
     },
     "execution_count": 16,
     "metadata": {},
     "output_type": "execute_result"
    }
   ],
   "source": [
    "N_BINS = 3\n",
    "bins_blocker = np.arange(min(df.blockerViolations), max(df.blockerViolations)+1, step = max(df.blockerViolations)//N_BINS)\n",
    "bins_blocker[-1] += 1\n",
    "bins_blocker[0] = -1\n",
    "bins_blocker"
   ]
  },
  {
   "cell_type": "code",
   "execution_count": 17,
   "metadata": {},
   "outputs": [
    {
     "data": {
      "text/plain": [
       "array([  -1,  435,  870, 1306])"
      ]
     },
     "execution_count": 17,
     "metadata": {},
     "output_type": "execute_result"
    }
   ],
   "source": [
    "bins_critical = np.arange(min(df.criticalViolations), max(df.criticalViolations)+1, step = max(df.criticalViolations)//N_BINS)\n",
    "bins_critical[-1] += 1\n",
    "bins_critical[0] = -1\n",
    "bins_critical"
   ]
  },
  {
   "cell_type": "code",
   "execution_count": 18,
   "metadata": {},
   "outputs": [
    {
     "data": {
      "text/plain": [
       "array([   -1,  6666, 13332, 19999])"
      ]
     },
     "execution_count": 18,
     "metadata": {},
     "output_type": "execute_result"
    }
   ],
   "source": [
    "bins_mami = np.arange(min(df.mamiViolations), max(df.mamiViolations)+1, step = max(df.mamiViolations)//N_BINS)\n",
    "bins_mami[-1] += 1\n",
    "bins_mami[0] = -1\n",
    "bins_mami"
   ]
  },
  {
   "cell_type": "markdown",
   "metadata": {},
   "source": [
    "Create interval variables for each violation."
   ]
  },
  {
   "cell_type": "code",
   "execution_count": 19,
   "metadata": {},
   "outputs": [],
   "source": [
    "df['bin_blockerViolations'] = pd.cut(df['blockerViolations'], bins_blocker)\n",
    "df['bin_criticalViolations'] = pd.cut(df['criticalViolations'], bins_critical)\n",
    "df['bin_mamiViolations'] = pd.cut(df['mamiViolations'], bins_mami)"
   ]
  },
  {
   "cell_type": "markdown",
   "metadata": {},
   "source": [
    "Codify them into different integers."
   ]
  },
  {
   "cell_type": "code",
   "execution_count": 20,
   "metadata": {},
   "outputs": [],
   "source": [
    "df['class_blockerViolations'] = df['bin_blockerViolations'].cat.codes.astype(str)\n",
    "df['class_criticalViolations'] = df['bin_criticalViolations'].cat.codes.astype(str)\n",
    "df['class_mamiViolations'] = df['bin_mamiViolations'].cat.codes.astype(str)"
   ]
  },
  {
   "cell_type": "markdown",
   "metadata": {},
   "source": [
    "Merge them all and create a colum paste of all combination of classes."
   ]
  },
  {
   "cell_type": "code",
   "execution_count": 21,
   "metadata": {},
   "outputs": [
    {
     "data": {
      "text/plain": [
       "0        222\n",
       "1        222\n",
       "2        222\n",
       "3        222\n",
       "4        222\n",
       "        ... \n",
       "55624    010\n",
       "55625    010\n",
       "55626    010\n",
       "55627    010\n",
       "55628    010\n",
       "Name: class, Length: 55629, dtype: object"
      ]
     },
     "execution_count": 21,
     "metadata": {},
     "output_type": "execute_result"
    }
   ],
   "source": [
    "df[\"class\"] = df[\"class_blockerViolations\"] + df[\"class_criticalViolations\"] + df[\"class_mamiViolations\"]\n",
    "df['class']"
   ]
  },
  {
   "cell_type": "markdown",
   "metadata": {},
   "source": [
    "Assign a category to each combination of class."
   ]
  },
  {
   "cell_type": "code",
   "execution_count": 22,
   "metadata": {},
   "outputs": [
    {
     "data": {
      "text/html": [
       "<div>\n",
       "<style scoped>\n",
       "    .dataframe tbody tr th:only-of-type {\n",
       "        vertical-align: middle;\n",
       "    }\n",
       "\n",
       "    .dataframe tbody tr th {\n",
       "        vertical-align: top;\n",
       "    }\n",
       "\n",
       "    .dataframe thead th {\n",
       "        text-align: right;\n",
       "    }\n",
       "</style>\n",
       "<table border=\"1\" class=\"dataframe\">\n",
       "  <thead>\n",
       "    <tr style=\"text-align: right;\">\n",
       "      <th></th>\n",
       "      <th>class</th>\n",
       "      <th>category</th>\n",
       "    </tr>\n",
       "  </thead>\n",
       "  <tbody>\n",
       "    <tr>\n",
       "      <th>0</th>\n",
       "      <td>222</td>\n",
       "      <td>21</td>\n",
       "    </tr>\n",
       "    <tr>\n",
       "      <th>1</th>\n",
       "      <td>222</td>\n",
       "      <td>21</td>\n",
       "    </tr>\n",
       "    <tr>\n",
       "      <th>2</th>\n",
       "      <td>222</td>\n",
       "      <td>21</td>\n",
       "    </tr>\n",
       "    <tr>\n",
       "      <th>3</th>\n",
       "      <td>222</td>\n",
       "      <td>21</td>\n",
       "    </tr>\n",
       "    <tr>\n",
       "      <th>4</th>\n",
       "      <td>222</td>\n",
       "      <td>21</td>\n",
       "    </tr>\n",
       "    <tr>\n",
       "      <th>...</th>\n",
       "      <td>...</td>\n",
       "      <td>...</td>\n",
       "    </tr>\n",
       "    <tr>\n",
       "      <th>55624</th>\n",
       "      <td>010</td>\n",
       "      <td>3</td>\n",
       "    </tr>\n",
       "    <tr>\n",
       "      <th>55625</th>\n",
       "      <td>010</td>\n",
       "      <td>3</td>\n",
       "    </tr>\n",
       "    <tr>\n",
       "      <th>55626</th>\n",
       "      <td>010</td>\n",
       "      <td>3</td>\n",
       "    </tr>\n",
       "    <tr>\n",
       "      <th>55627</th>\n",
       "      <td>010</td>\n",
       "      <td>3</td>\n",
       "    </tr>\n",
       "    <tr>\n",
       "      <th>55628</th>\n",
       "      <td>010</td>\n",
       "      <td>3</td>\n",
       "    </tr>\n",
       "  </tbody>\n",
       "</table>\n",
       "<p>55629 rows × 2 columns</p>\n",
       "</div>"
      ],
      "text/plain": [
       "      class  category\n",
       "0       222        21\n",
       "1       222        21\n",
       "2       222        21\n",
       "3       222        21\n",
       "4       222        21\n",
       "...     ...       ...\n",
       "55624   010         3\n",
       "55625   010         3\n",
       "55626   010         3\n",
       "55627   010         3\n",
       "55628   010         3\n",
       "\n",
       "[55629 rows x 2 columns]"
      ]
     },
     "execution_count": 22,
     "metadata": {},
     "output_type": "execute_result"
    }
   ],
   "source": [
    "df['class'] = df['class'].astype('category')\n",
    "df['category'] = df['class'].cat.codes\n",
    "df[['class','category']]"
   ]
  },
  {
   "cell_type": "markdown",
   "metadata": {},
   "source": [
    "We get the combination categories below."
   ]
  },
  {
   "cell_type": "code",
   "execution_count": 23,
   "metadata": {},
   "outputs": [
    {
     "data": {
      "text/plain": [
       "array([21, 17, 18, 20,  0,  4, 19, 15, 14,  1,  9, 10,  5, 12, 13,  8,  7,\n",
       "       11, 16,  3,  6,  2], dtype=int8)"
      ]
     },
     "execution_count": 23,
     "metadata": {},
     "output_type": "execute_result"
    }
   ],
   "source": [
    "df.category.unique()"
   ]
  },
  {
   "cell_type": "markdown",
   "metadata": {},
   "source": [
    "Check if there are NA categories."
   ]
  },
  {
   "cell_type": "code",
   "execution_count": 24,
   "metadata": {},
   "outputs": [
    {
     "data": {
      "text/html": [
       "<div>\n",
       "<style scoped>\n",
       "    .dataframe tbody tr th:only-of-type {\n",
       "        vertical-align: middle;\n",
       "    }\n",
       "\n",
       "    .dataframe tbody tr th {\n",
       "        vertical-align: top;\n",
       "    }\n",
       "\n",
       "    .dataframe thead th {\n",
       "        text-align: right;\n",
       "    }\n",
       "</style>\n",
       "<table border=\"1\" class=\"dataframe\">\n",
       "  <thead>\n",
       "    <tr style=\"text-align: right;\">\n",
       "      <th></th>\n",
       "      <th>projectID</th>\n",
       "      <th>commitHash</th>\n",
       "      <th>commitMessage</th>\n",
       "      <th>complexity</th>\n",
       "      <th>lines</th>\n",
       "      <th>commentLines</th>\n",
       "      <th>duplicatedLines</th>\n",
       "      <th>violations</th>\n",
       "      <th>blockerViolations</th>\n",
       "      <th>criticalViolations</th>\n",
       "      <th>...</th>\n",
       "      <th>codeSmells</th>\n",
       "      <th>mamiViolations</th>\n",
       "      <th>bin_blockerViolations</th>\n",
       "      <th>bin_criticalViolations</th>\n",
       "      <th>bin_mamiViolations</th>\n",
       "      <th>class_blockerViolations</th>\n",
       "      <th>class_criticalViolations</th>\n",
       "      <th>class_mamiViolations</th>\n",
       "      <th>class</th>\n",
       "      <th>category</th>\n",
       "    </tr>\n",
       "  </thead>\n",
       "  <tbody>\n",
       "  </tbody>\n",
       "</table>\n",
       "<p>0 rows × 23 columns</p>\n",
       "</div>"
      ],
      "text/plain": [
       "Empty DataFrame\n",
       "Columns: [projectID, commitHash, commitMessage, complexity, lines, commentLines, duplicatedLines, violations, blockerViolations, criticalViolations, majorViolations, minorViolations, bugs, codeSmells, mamiViolations, bin_blockerViolations, bin_criticalViolations, bin_mamiViolations, class_blockerViolations, class_criticalViolations, class_mamiViolations, class, category]\n",
       "Index: []\n",
       "\n",
       "[0 rows x 23 columns]"
      ]
     },
     "execution_count": 24,
     "metadata": {},
     "output_type": "execute_result"
    }
   ],
   "source": [
    "df[df.category.isna()]"
   ]
  },
  {
   "cell_type": "markdown",
   "metadata": {},
   "source": [
    "We create a lookup table of the data created (in order to check which intervals where chosen, if needed)"
   ]
  },
  {
   "cell_type": "code",
   "execution_count": 25,
   "metadata": {},
   "outputs": [
    {
     "ename": "ValueError",
     "evalue": "Cannot convert non-finite values (NA or inf) to integer",
     "output_type": "error",
     "traceback": [
      "\u001b[0;31m---------------------------------------------------------------------------\u001b[0m",
      "\u001b[0;31mValueError\u001b[0m                                Traceback (most recent call last)",
      "\u001b[0;32m<ipython-input-25-7efacf82e7f2>\u001b[0m in \u001b[0;36m<module>\u001b[0;34m\u001b[0m\n\u001b[1;32m      5\u001b[0m     \u001b[0mt\u001b[0m\u001b[0;34m[\u001b[0m\u001b[0;34m'type'\u001b[0m\u001b[0;34m]\u001b[0m \u001b[0;34m=\u001b[0m \u001b[0mv\u001b[0m\u001b[0;34m\u001b[0m\u001b[0;34m\u001b[0m\u001b[0m\n\u001b[1;32m      6\u001b[0m     \u001b[0mt\u001b[0m\u001b[0;34m[\u001b[0m\u001b[0;34m'class'\u001b[0m\u001b[0;34m]\u001b[0m \u001b[0;34m=\u001b[0m \u001b[0mnp\u001b[0m\u001b[0;34m.\u001b[0m\u001b[0marange\u001b[0m\u001b[0;34m(\u001b[0m\u001b[0;36m0\u001b[0m\u001b[0;34m,\u001b[0m\u001b[0mlen\u001b[0m\u001b[0;34m(\u001b[0m\u001b[0mdf\u001b[0m\u001b[0;34m[\u001b[0m\u001b[0mv\u001b[0m\u001b[0;34m]\u001b[0m\u001b[0;34m.\u001b[0m\u001b[0munique\u001b[0m\u001b[0;34m(\u001b[0m\u001b[0;34m)\u001b[0m\u001b[0;34m)\u001b[0m\u001b[0;34m)\u001b[0m\u001b[0;34m\u001b[0m\u001b[0;34m\u001b[0m\u001b[0m\n\u001b[0;32m----> 7\u001b[0;31m     \u001b[0mcategories\u001b[0m \u001b[0;34m=\u001b[0m \u001b[0mpd\u001b[0m\u001b[0;34m.\u001b[0m\u001b[0mconcat\u001b[0m\u001b[0;34m(\u001b[0m\u001b[0;34m[\u001b[0m\u001b[0mcategories\u001b[0m\u001b[0;34m,\u001b[0m\u001b[0mt\u001b[0m\u001b[0;34m]\u001b[0m\u001b[0;34m)\u001b[0m\u001b[0;34m\u001b[0m\u001b[0;34m\u001b[0m\u001b[0m\n\u001b[0m\u001b[1;32m      8\u001b[0m \u001b[0mcategories\u001b[0m\u001b[0;34m.\u001b[0m\u001b[0mreset_index\u001b[0m\u001b[0;34m(\u001b[0m\u001b[0mdrop\u001b[0m\u001b[0;34m=\u001b[0m\u001b[0;32mTrue\u001b[0m\u001b[0;34m)\u001b[0m\u001b[0;34m\u001b[0m\u001b[0;34m\u001b[0m\u001b[0m\n",
      "\u001b[0;32m/usr/local/Cellar/jupyterlab/2.2.8/libexec/lib/python3.8/site-packages/pandas/core/reshape/concat.py\u001b[0m in \u001b[0;36mconcat\u001b[0;34m(objs, axis, join, ignore_index, keys, levels, names, verify_integrity, sort, copy)\u001b[0m\n\u001b[1;32m    285\u001b[0m     )\n\u001b[1;32m    286\u001b[0m \u001b[0;34m\u001b[0m\u001b[0m\n\u001b[0;32m--> 287\u001b[0;31m     \u001b[0;32mreturn\u001b[0m \u001b[0mop\u001b[0m\u001b[0;34m.\u001b[0m\u001b[0mget_result\u001b[0m\u001b[0;34m(\u001b[0m\u001b[0;34m)\u001b[0m\u001b[0;34m\u001b[0m\u001b[0;34m\u001b[0m\u001b[0m\n\u001b[0m\u001b[1;32m    288\u001b[0m \u001b[0;34m\u001b[0m\u001b[0m\n\u001b[1;32m    289\u001b[0m \u001b[0;34m\u001b[0m\u001b[0m\n",
      "\u001b[0;32m/usr/local/Cellar/jupyterlab/2.2.8/libexec/lib/python3.8/site-packages/pandas/core/reshape/concat.py\u001b[0m in \u001b[0;36mget_result\u001b[0;34m(self)\u001b[0m\n\u001b[1;32m    500\u001b[0m                 \u001b[0mmgrs_indexers\u001b[0m\u001b[0;34m.\u001b[0m\u001b[0mappend\u001b[0m\u001b[0;34m(\u001b[0m\u001b[0;34m(\u001b[0m\u001b[0mobj\u001b[0m\u001b[0;34m.\u001b[0m\u001b[0m_mgr\u001b[0m\u001b[0;34m,\u001b[0m \u001b[0mindexers\u001b[0m\u001b[0;34m)\u001b[0m\u001b[0;34m)\u001b[0m\u001b[0;34m\u001b[0m\u001b[0;34m\u001b[0m\u001b[0m\n\u001b[1;32m    501\u001b[0m \u001b[0;34m\u001b[0m\u001b[0m\n\u001b[0;32m--> 502\u001b[0;31m             new_data = concatenate_block_managers(\n\u001b[0m\u001b[1;32m    503\u001b[0m                 \u001b[0mmgrs_indexers\u001b[0m\u001b[0;34m,\u001b[0m \u001b[0mself\u001b[0m\u001b[0;34m.\u001b[0m\u001b[0mnew_axes\u001b[0m\u001b[0;34m,\u001b[0m \u001b[0mconcat_axis\u001b[0m\u001b[0;34m=\u001b[0m\u001b[0mself\u001b[0m\u001b[0;34m.\u001b[0m\u001b[0mbm_axis\u001b[0m\u001b[0;34m,\u001b[0m \u001b[0mcopy\u001b[0m\u001b[0;34m=\u001b[0m\u001b[0mself\u001b[0m\u001b[0;34m.\u001b[0m\u001b[0mcopy\u001b[0m\u001b[0;34m,\u001b[0m\u001b[0;34m\u001b[0m\u001b[0;34m\u001b[0m\u001b[0m\n\u001b[1;32m    504\u001b[0m             )\n",
      "\u001b[0;32m/usr/local/Cellar/jupyterlab/2.2.8/libexec/lib/python3.8/site-packages/pandas/core/internals/concat.py\u001b[0m in \u001b[0;36mconcatenate_block_managers\u001b[0;34m(mgrs_indexers, axes, concat_axis, copy)\u001b[0m\n\u001b[1;32m     77\u001b[0m         \u001b[0;32melse\u001b[0m\u001b[0;34m:\u001b[0m\u001b[0;34m\u001b[0m\u001b[0;34m\u001b[0m\u001b[0m\n\u001b[1;32m     78\u001b[0m             b = make_block(\n\u001b[0;32m---> 79\u001b[0;31m                 \u001b[0m_concatenate_join_units\u001b[0m\u001b[0;34m(\u001b[0m\u001b[0mjoin_units\u001b[0m\u001b[0;34m,\u001b[0m \u001b[0mconcat_axis\u001b[0m\u001b[0;34m,\u001b[0m \u001b[0mcopy\u001b[0m\u001b[0;34m=\u001b[0m\u001b[0mcopy\u001b[0m\u001b[0;34m,\u001b[0m\u001b[0;34m)\u001b[0m\u001b[0;34m,\u001b[0m\u001b[0;34m\u001b[0m\u001b[0;34m\u001b[0m\u001b[0m\n\u001b[0m\u001b[1;32m     80\u001b[0m                 \u001b[0mplacement\u001b[0m\u001b[0;34m=\u001b[0m\u001b[0mplacement\u001b[0m\u001b[0;34m,\u001b[0m\u001b[0;34m\u001b[0m\u001b[0;34m\u001b[0m\u001b[0m\n\u001b[1;32m     81\u001b[0m             )\n",
      "\u001b[0;32m/usr/local/Cellar/jupyterlab/2.2.8/libexec/lib/python3.8/site-packages/pandas/core/internals/concat.py\u001b[0m in \u001b[0;36m_concatenate_join_units\u001b[0;34m(join_units, concat_axis, copy)\u001b[0m\n\u001b[1;32m    334\u001b[0m         \u001b[0;31m# the non-EA values are 2D arrays with shape (1, n)\u001b[0m\u001b[0;34m\u001b[0m\u001b[0;34m\u001b[0m\u001b[0;34m\u001b[0m\u001b[0m\n\u001b[1;32m    335\u001b[0m         \u001b[0mto_concat\u001b[0m \u001b[0;34m=\u001b[0m \u001b[0;34m[\u001b[0m\u001b[0mt\u001b[0m \u001b[0;32mif\u001b[0m \u001b[0misinstance\u001b[0m\u001b[0;34m(\u001b[0m\u001b[0mt\u001b[0m\u001b[0;34m,\u001b[0m \u001b[0mExtensionArray\u001b[0m\u001b[0;34m)\u001b[0m \u001b[0;32melse\u001b[0m \u001b[0mt\u001b[0m\u001b[0;34m[\u001b[0m\u001b[0;36m0\u001b[0m\u001b[0;34m,\u001b[0m \u001b[0;34m:\u001b[0m\u001b[0;34m]\u001b[0m \u001b[0;32mfor\u001b[0m \u001b[0mt\u001b[0m \u001b[0;32min\u001b[0m \u001b[0mto_concat\u001b[0m\u001b[0;34m]\u001b[0m\u001b[0;34m\u001b[0m\u001b[0;34m\u001b[0m\u001b[0m\n\u001b[0;32m--> 336\u001b[0;31m         \u001b[0mconcat_values\u001b[0m \u001b[0;34m=\u001b[0m \u001b[0mconcat_compat\u001b[0m\u001b[0;34m(\u001b[0m\u001b[0mto_concat\u001b[0m\u001b[0;34m,\u001b[0m \u001b[0maxis\u001b[0m\u001b[0;34m=\u001b[0m\u001b[0;36m0\u001b[0m\u001b[0;34m)\u001b[0m\u001b[0;34m\u001b[0m\u001b[0;34m\u001b[0m\u001b[0m\n\u001b[0m\u001b[1;32m    337\u001b[0m         if not isinstance(concat_values, ExtensionArray) or (\n\u001b[1;32m    338\u001b[0m             \u001b[0misinstance\u001b[0m\u001b[0;34m(\u001b[0m\u001b[0mconcat_values\u001b[0m\u001b[0;34m,\u001b[0m \u001b[0mDatetimeArray\u001b[0m\u001b[0;34m)\u001b[0m \u001b[0;32mand\u001b[0m \u001b[0mconcat_values\u001b[0m\u001b[0;34m.\u001b[0m\u001b[0mtz\u001b[0m \u001b[0;32mis\u001b[0m \u001b[0;32mNone\u001b[0m\u001b[0;34m\u001b[0m\u001b[0;34m\u001b[0m\u001b[0m\n",
      "\u001b[0;32m/usr/local/Cellar/jupyterlab/2.2.8/libexec/lib/python3.8/site-packages/pandas/core/dtypes/concat.py\u001b[0m in \u001b[0;36mconcat_compat\u001b[0;34m(to_concat, axis)\u001b[0m\n\u001b[1;32m    153\u001b[0m         \u001b[0;32mif\u001b[0m \u001b[0;32mnot\u001b[0m \u001b[0msingle_dtype\u001b[0m\u001b[0;34m:\u001b[0m\u001b[0;34m\u001b[0m\u001b[0;34m\u001b[0m\u001b[0m\n\u001b[1;32m    154\u001b[0m             \u001b[0mtarget_dtype\u001b[0m \u001b[0;34m=\u001b[0m \u001b[0mfind_common_type\u001b[0m\u001b[0;34m(\u001b[0m\u001b[0;34m[\u001b[0m\u001b[0mx\u001b[0m\u001b[0;34m.\u001b[0m\u001b[0mdtype\u001b[0m \u001b[0;32mfor\u001b[0m \u001b[0mx\u001b[0m \u001b[0;32min\u001b[0m \u001b[0mto_concat\u001b[0m\u001b[0;34m]\u001b[0m\u001b[0;34m)\u001b[0m\u001b[0;34m\u001b[0m\u001b[0;34m\u001b[0m\u001b[0m\n\u001b[0;32m--> 155\u001b[0;31m             \u001b[0mto_concat\u001b[0m \u001b[0;34m=\u001b[0m \u001b[0;34m[\u001b[0m\u001b[0m_cast_to_common_type\u001b[0m\u001b[0;34m(\u001b[0m\u001b[0marr\u001b[0m\u001b[0;34m,\u001b[0m \u001b[0mtarget_dtype\u001b[0m\u001b[0;34m)\u001b[0m \u001b[0;32mfor\u001b[0m \u001b[0marr\u001b[0m \u001b[0;32min\u001b[0m \u001b[0mto_concat\u001b[0m\u001b[0;34m]\u001b[0m\u001b[0;34m\u001b[0m\u001b[0;34m\u001b[0m\u001b[0m\n\u001b[0m\u001b[1;32m    156\u001b[0m \u001b[0;34m\u001b[0m\u001b[0m\n\u001b[1;32m    157\u001b[0m         \u001b[0;32mif\u001b[0m \u001b[0misinstance\u001b[0m\u001b[0;34m(\u001b[0m\u001b[0mto_concat\u001b[0m\u001b[0;34m[\u001b[0m\u001b[0;36m0\u001b[0m\u001b[0;34m]\u001b[0m\u001b[0;34m,\u001b[0m \u001b[0mExtensionArray\u001b[0m\u001b[0;34m)\u001b[0m\u001b[0;34m:\u001b[0m\u001b[0;34m\u001b[0m\u001b[0;34m\u001b[0m\u001b[0m\n",
      "\u001b[0;32m/usr/local/Cellar/jupyterlab/2.2.8/libexec/lib/python3.8/site-packages/pandas/core/dtypes/concat.py\u001b[0m in \u001b[0;36m<listcomp>\u001b[0;34m(.0)\u001b[0m\n\u001b[1;32m    153\u001b[0m         \u001b[0;32mif\u001b[0m \u001b[0;32mnot\u001b[0m \u001b[0msingle_dtype\u001b[0m\u001b[0;34m:\u001b[0m\u001b[0;34m\u001b[0m\u001b[0;34m\u001b[0m\u001b[0m\n\u001b[1;32m    154\u001b[0m             \u001b[0mtarget_dtype\u001b[0m \u001b[0;34m=\u001b[0m \u001b[0mfind_common_type\u001b[0m\u001b[0;34m(\u001b[0m\u001b[0;34m[\u001b[0m\u001b[0mx\u001b[0m\u001b[0;34m.\u001b[0m\u001b[0mdtype\u001b[0m \u001b[0;32mfor\u001b[0m \u001b[0mx\u001b[0m \u001b[0;32min\u001b[0m \u001b[0mto_concat\u001b[0m\u001b[0;34m]\u001b[0m\u001b[0;34m)\u001b[0m\u001b[0;34m\u001b[0m\u001b[0;34m\u001b[0m\u001b[0m\n\u001b[0;32m--> 155\u001b[0;31m             \u001b[0mto_concat\u001b[0m \u001b[0;34m=\u001b[0m \u001b[0;34m[\u001b[0m\u001b[0m_cast_to_common_type\u001b[0m\u001b[0;34m(\u001b[0m\u001b[0marr\u001b[0m\u001b[0;34m,\u001b[0m \u001b[0mtarget_dtype\u001b[0m\u001b[0;34m)\u001b[0m \u001b[0;32mfor\u001b[0m \u001b[0marr\u001b[0m \u001b[0;32min\u001b[0m \u001b[0mto_concat\u001b[0m\u001b[0;34m]\u001b[0m\u001b[0;34m\u001b[0m\u001b[0;34m\u001b[0m\u001b[0m\n\u001b[0m\u001b[1;32m    156\u001b[0m \u001b[0;34m\u001b[0m\u001b[0m\n\u001b[1;32m    157\u001b[0m         \u001b[0;32mif\u001b[0m \u001b[0misinstance\u001b[0m\u001b[0;34m(\u001b[0m\u001b[0mto_concat\u001b[0m\u001b[0;34m[\u001b[0m\u001b[0;36m0\u001b[0m\u001b[0;34m]\u001b[0m\u001b[0;34m,\u001b[0m \u001b[0mExtensionArray\u001b[0m\u001b[0;34m)\u001b[0m\u001b[0;34m:\u001b[0m\u001b[0;34m\u001b[0m\u001b[0;34m\u001b[0m\u001b[0m\n",
      "\u001b[0;32m/usr/local/Cellar/jupyterlab/2.2.8/libexec/lib/python3.8/site-packages/pandas/core/dtypes/concat.py\u001b[0m in \u001b[0;36m_cast_to_common_type\u001b[0;34m(arr, dtype)\u001b[0m\n\u001b[1;32m    105\u001b[0m             \u001b[0;31m# numpy's astype cannot handle ExtensionDtypes\u001b[0m\u001b[0;34m\u001b[0m\u001b[0;34m\u001b[0m\u001b[0;34m\u001b[0m\u001b[0m\n\u001b[1;32m    106\u001b[0m             \u001b[0;32mreturn\u001b[0m \u001b[0marray\u001b[0m\u001b[0;34m(\u001b[0m\u001b[0marr\u001b[0m\u001b[0;34m,\u001b[0m \u001b[0mdtype\u001b[0m\u001b[0;34m=\u001b[0m\u001b[0mdtype\u001b[0m\u001b[0;34m,\u001b[0m \u001b[0mcopy\u001b[0m\u001b[0;34m=\u001b[0m\u001b[0;32mFalse\u001b[0m\u001b[0;34m)\u001b[0m\u001b[0;34m\u001b[0m\u001b[0;34m\u001b[0m\u001b[0m\n\u001b[0;32m--> 107\u001b[0;31m     \u001b[0;32mreturn\u001b[0m \u001b[0marr\u001b[0m\u001b[0;34m.\u001b[0m\u001b[0mastype\u001b[0m\u001b[0;34m(\u001b[0m\u001b[0mdtype\u001b[0m\u001b[0;34m,\u001b[0m \u001b[0mcopy\u001b[0m\u001b[0;34m=\u001b[0m\u001b[0;32mFalse\u001b[0m\u001b[0;34m)\u001b[0m\u001b[0;34m\u001b[0m\u001b[0;34m\u001b[0m\u001b[0m\n\u001b[0m\u001b[1;32m    108\u001b[0m \u001b[0;34m\u001b[0m\u001b[0m\n\u001b[1;32m    109\u001b[0m \u001b[0;34m\u001b[0m\u001b[0m\n",
      "\u001b[0;32m/usr/local/Cellar/jupyterlab/2.2.8/libexec/lib/python3.8/site-packages/pandas/core/arrays/categorical.py\u001b[0m in \u001b[0;36mastype\u001b[0;34m(self, dtype, copy)\u001b[0m\n\u001b[1;32m    473\u001b[0m             \u001b[0;32mreturn\u001b[0m \u001b[0mself\u001b[0m\u001b[0;34m.\u001b[0m\u001b[0m_set_dtype\u001b[0m\u001b[0;34m(\u001b[0m\u001b[0mdtype\u001b[0m\u001b[0;34m)\u001b[0m\u001b[0;34m\u001b[0m\u001b[0;34m\u001b[0m\u001b[0m\n\u001b[1;32m    474\u001b[0m         \u001b[0;32mif\u001b[0m \u001b[0mis_extension_array_dtype\u001b[0m\u001b[0;34m(\u001b[0m\u001b[0mdtype\u001b[0m\u001b[0;34m)\u001b[0m\u001b[0;34m:\u001b[0m\u001b[0;34m\u001b[0m\u001b[0;34m\u001b[0m\u001b[0m\n\u001b[0;32m--> 475\u001b[0;31m             \u001b[0;32mreturn\u001b[0m \u001b[0marray\u001b[0m\u001b[0;34m(\u001b[0m\u001b[0mself\u001b[0m\u001b[0;34m,\u001b[0m \u001b[0mdtype\u001b[0m\u001b[0;34m=\u001b[0m\u001b[0mdtype\u001b[0m\u001b[0;34m,\u001b[0m \u001b[0mcopy\u001b[0m\u001b[0;34m=\u001b[0m\u001b[0mcopy\u001b[0m\u001b[0;34m)\u001b[0m\u001b[0;34m\u001b[0m\u001b[0;34m\u001b[0m\u001b[0m\n\u001b[0m\u001b[1;32m    476\u001b[0m         \u001b[0;32mif\u001b[0m \u001b[0mis_integer_dtype\u001b[0m\u001b[0;34m(\u001b[0m\u001b[0mdtype\u001b[0m\u001b[0;34m)\u001b[0m \u001b[0;32mand\u001b[0m \u001b[0mself\u001b[0m\u001b[0;34m.\u001b[0m\u001b[0misna\u001b[0m\u001b[0;34m(\u001b[0m\u001b[0;34m)\u001b[0m\u001b[0;34m.\u001b[0m\u001b[0many\u001b[0m\u001b[0;34m(\u001b[0m\u001b[0;34m)\u001b[0m\u001b[0;34m:\u001b[0m\u001b[0;34m\u001b[0m\u001b[0;34m\u001b[0m\u001b[0m\n\u001b[1;32m    477\u001b[0m             \u001b[0;32mraise\u001b[0m \u001b[0mValueError\u001b[0m\u001b[0;34m(\u001b[0m\u001b[0;34m\"Cannot convert float NaN to integer\"\u001b[0m\u001b[0;34m)\u001b[0m\u001b[0;34m\u001b[0m\u001b[0;34m\u001b[0m\u001b[0m\n",
      "\u001b[0;32m/usr/local/Cellar/jupyterlab/2.2.8/libexec/lib/python3.8/site-packages/pandas/core/construction.py\u001b[0m in \u001b[0;36marray\u001b[0;34m(data, dtype, copy)\u001b[0m\n\u001b[1;32m    284\u001b[0m     \u001b[0;32mif\u001b[0m \u001b[0mis_extension_array_dtype\u001b[0m\u001b[0;34m(\u001b[0m\u001b[0mdtype\u001b[0m\u001b[0;34m)\u001b[0m\u001b[0;34m:\u001b[0m\u001b[0;34m\u001b[0m\u001b[0;34m\u001b[0m\u001b[0m\n\u001b[1;32m    285\u001b[0m         \u001b[0mcls\u001b[0m \u001b[0;34m=\u001b[0m \u001b[0mcast\u001b[0m\u001b[0;34m(\u001b[0m\u001b[0mExtensionDtype\u001b[0m\u001b[0;34m,\u001b[0m \u001b[0mdtype\u001b[0m\u001b[0;34m)\u001b[0m\u001b[0;34m.\u001b[0m\u001b[0mconstruct_array_type\u001b[0m\u001b[0;34m(\u001b[0m\u001b[0;34m)\u001b[0m\u001b[0;34m\u001b[0m\u001b[0;34m\u001b[0m\u001b[0m\n\u001b[0;32m--> 286\u001b[0;31m         \u001b[0;32mreturn\u001b[0m \u001b[0mcls\u001b[0m\u001b[0;34m.\u001b[0m\u001b[0m_from_sequence\u001b[0m\u001b[0;34m(\u001b[0m\u001b[0mdata\u001b[0m\u001b[0;34m,\u001b[0m \u001b[0mdtype\u001b[0m\u001b[0;34m=\u001b[0m\u001b[0mdtype\u001b[0m\u001b[0;34m,\u001b[0m \u001b[0mcopy\u001b[0m\u001b[0;34m=\u001b[0m\u001b[0mcopy\u001b[0m\u001b[0;34m)\u001b[0m\u001b[0;34m\u001b[0m\u001b[0;34m\u001b[0m\u001b[0m\n\u001b[0m\u001b[1;32m    287\u001b[0m \u001b[0;34m\u001b[0m\u001b[0m\n\u001b[1;32m    288\u001b[0m     \u001b[0;32mif\u001b[0m \u001b[0mdtype\u001b[0m \u001b[0;32mis\u001b[0m \u001b[0;32mNone\u001b[0m\u001b[0;34m:\u001b[0m\u001b[0;34m\u001b[0m\u001b[0;34m\u001b[0m\u001b[0m\n",
      "\u001b[0;32m/usr/local/Cellar/jupyterlab/2.2.8/libexec/lib/python3.8/site-packages/pandas/core/arrays/interval.py\u001b[0m in \u001b[0;36m_from_sequence\u001b[0;34m(cls, scalars, dtype, copy)\u001b[0m\n\u001b[1;32m    249\u001b[0m     \u001b[0;34m@\u001b[0m\u001b[0mclassmethod\u001b[0m\u001b[0;34m\u001b[0m\u001b[0;34m\u001b[0m\u001b[0m\n\u001b[1;32m    250\u001b[0m     \u001b[0;32mdef\u001b[0m \u001b[0m_from_sequence\u001b[0m\u001b[0;34m(\u001b[0m\u001b[0mcls\u001b[0m\u001b[0;34m,\u001b[0m \u001b[0mscalars\u001b[0m\u001b[0;34m,\u001b[0m \u001b[0mdtype\u001b[0m\u001b[0;34m=\u001b[0m\u001b[0;32mNone\u001b[0m\u001b[0;34m,\u001b[0m \u001b[0mcopy\u001b[0m\u001b[0;34m=\u001b[0m\u001b[0;32mFalse\u001b[0m\u001b[0;34m)\u001b[0m\u001b[0;34m:\u001b[0m\u001b[0;34m\u001b[0m\u001b[0;34m\u001b[0m\u001b[0m\n\u001b[0;32m--> 251\u001b[0;31m         \u001b[0;32mreturn\u001b[0m \u001b[0mcls\u001b[0m\u001b[0;34m(\u001b[0m\u001b[0mscalars\u001b[0m\u001b[0;34m,\u001b[0m \u001b[0mdtype\u001b[0m\u001b[0;34m=\u001b[0m\u001b[0mdtype\u001b[0m\u001b[0;34m,\u001b[0m \u001b[0mcopy\u001b[0m\u001b[0;34m=\u001b[0m\u001b[0mcopy\u001b[0m\u001b[0;34m)\u001b[0m\u001b[0;34m\u001b[0m\u001b[0;34m\u001b[0m\u001b[0m\n\u001b[0m\u001b[1;32m    252\u001b[0m \u001b[0;34m\u001b[0m\u001b[0m\n\u001b[1;32m    253\u001b[0m     \u001b[0;34m@\u001b[0m\u001b[0mclassmethod\u001b[0m\u001b[0;34m\u001b[0m\u001b[0;34m\u001b[0m\u001b[0m\n",
      "\u001b[0;32m/usr/local/Cellar/jupyterlab/2.2.8/libexec/lib/python3.8/site-packages/pandas/core/arrays/interval.py\u001b[0m in \u001b[0;36m__new__\u001b[0;34m(cls, data, closed, dtype, copy, verify_integrity)\u001b[0m\n\u001b[1;32m    182\u001b[0m             \u001b[0mclosed\u001b[0m \u001b[0;34m=\u001b[0m \u001b[0mclosed\u001b[0m \u001b[0;32mor\u001b[0m \u001b[0minfer_closed\u001b[0m\u001b[0;34m\u001b[0m\u001b[0;34m\u001b[0m\u001b[0m\n\u001b[1;32m    183\u001b[0m \u001b[0;34m\u001b[0m\u001b[0m\n\u001b[0;32m--> 184\u001b[0;31m         return cls._simple_new(\n\u001b[0m\u001b[1;32m    185\u001b[0m             \u001b[0mleft\u001b[0m\u001b[0;34m,\u001b[0m\u001b[0;34m\u001b[0m\u001b[0;34m\u001b[0m\u001b[0m\n\u001b[1;32m    186\u001b[0m             \u001b[0mright\u001b[0m\u001b[0;34m,\u001b[0m\u001b[0;34m\u001b[0m\u001b[0;34m\u001b[0m\u001b[0m\n",
      "\u001b[0;32m/usr/local/Cellar/jupyterlab/2.2.8/libexec/lib/python3.8/site-packages/pandas/core/arrays/interval.py\u001b[0m in \u001b[0;36m_simple_new\u001b[0;34m(cls, left, right, closed, copy, dtype, verify_integrity)\u001b[0m\n\u001b[1;32m    208\u001b[0m                 \u001b[0;32mraise\u001b[0m \u001b[0mTypeError\u001b[0m\u001b[0;34m(\u001b[0m\u001b[0mmsg\u001b[0m\u001b[0;34m)\u001b[0m\u001b[0;34m\u001b[0m\u001b[0;34m\u001b[0m\u001b[0m\n\u001b[1;32m    209\u001b[0m             \u001b[0;32melif\u001b[0m \u001b[0mdtype\u001b[0m\u001b[0;34m.\u001b[0m\u001b[0msubtype\u001b[0m \u001b[0;32mis\u001b[0m \u001b[0;32mnot\u001b[0m \u001b[0;32mNone\u001b[0m\u001b[0;34m:\u001b[0m\u001b[0;34m\u001b[0m\u001b[0;34m\u001b[0m\u001b[0m\n\u001b[0;32m--> 210\u001b[0;31m                 \u001b[0mleft\u001b[0m \u001b[0;34m=\u001b[0m \u001b[0mleft\u001b[0m\u001b[0;34m.\u001b[0m\u001b[0mastype\u001b[0m\u001b[0;34m(\u001b[0m\u001b[0mdtype\u001b[0m\u001b[0;34m.\u001b[0m\u001b[0msubtype\u001b[0m\u001b[0;34m)\u001b[0m\u001b[0;34m\u001b[0m\u001b[0;34m\u001b[0m\u001b[0m\n\u001b[0m\u001b[1;32m    211\u001b[0m                 \u001b[0mright\u001b[0m \u001b[0;34m=\u001b[0m \u001b[0mright\u001b[0m\u001b[0;34m.\u001b[0m\u001b[0mastype\u001b[0m\u001b[0;34m(\u001b[0m\u001b[0mdtype\u001b[0m\u001b[0;34m.\u001b[0m\u001b[0msubtype\u001b[0m\u001b[0;34m)\u001b[0m\u001b[0;34m\u001b[0m\u001b[0;34m\u001b[0m\u001b[0m\n\u001b[1;32m    212\u001b[0m \u001b[0;34m\u001b[0m\u001b[0m\n",
      "\u001b[0;32m/usr/local/Cellar/jupyterlab/2.2.8/libexec/lib/python3.8/site-packages/pandas/core/indexes/numeric.py\u001b[0m in \u001b[0;36mastype\u001b[0;34m(self, dtype, copy)\u001b[0m\n\u001b[1;32m    365\u001b[0m             \u001b[0;31m# TODO(jreback); this can change once we have an EA Index type\u001b[0m\u001b[0;34m\u001b[0m\u001b[0;34m\u001b[0m\u001b[0;34m\u001b[0m\u001b[0m\n\u001b[1;32m    366\u001b[0m             \u001b[0;31m# GH 13149\u001b[0m\u001b[0;34m\u001b[0m\u001b[0;34m\u001b[0m\u001b[0;34m\u001b[0m\u001b[0m\n\u001b[0;32m--> 367\u001b[0;31m             \u001b[0marr\u001b[0m \u001b[0;34m=\u001b[0m \u001b[0mastype_nansafe\u001b[0m\u001b[0;34m(\u001b[0m\u001b[0mself\u001b[0m\u001b[0;34m.\u001b[0m\u001b[0m_values\u001b[0m\u001b[0;34m,\u001b[0m \u001b[0mdtype\u001b[0m\u001b[0;34m=\u001b[0m\u001b[0mdtype\u001b[0m\u001b[0;34m)\u001b[0m\u001b[0;34m\u001b[0m\u001b[0;34m\u001b[0m\u001b[0m\n\u001b[0m\u001b[1;32m    368\u001b[0m             \u001b[0;32mreturn\u001b[0m \u001b[0mInt64Index\u001b[0m\u001b[0;34m(\u001b[0m\u001b[0marr\u001b[0m\u001b[0;34m,\u001b[0m \u001b[0mname\u001b[0m\u001b[0;34m=\u001b[0m\u001b[0mself\u001b[0m\u001b[0;34m.\u001b[0m\u001b[0mname\u001b[0m\u001b[0;34m)\u001b[0m\u001b[0;34m\u001b[0m\u001b[0;34m\u001b[0m\u001b[0m\n\u001b[1;32m    369\u001b[0m         \u001b[0;32mreturn\u001b[0m \u001b[0msuper\u001b[0m\u001b[0;34m(\u001b[0m\u001b[0;34m)\u001b[0m\u001b[0;34m.\u001b[0m\u001b[0mastype\u001b[0m\u001b[0;34m(\u001b[0m\u001b[0mdtype\u001b[0m\u001b[0;34m,\u001b[0m \u001b[0mcopy\u001b[0m\u001b[0;34m=\u001b[0m\u001b[0mcopy\u001b[0m\u001b[0;34m)\u001b[0m\u001b[0;34m\u001b[0m\u001b[0;34m\u001b[0m\u001b[0m\n",
      "\u001b[0;32m/usr/local/Cellar/jupyterlab/2.2.8/libexec/lib/python3.8/site-packages/pandas/core/dtypes/cast.py\u001b[0m in \u001b[0;36mastype_nansafe\u001b[0;34m(arr, dtype, copy, skipna)\u001b[0m\n\u001b[1;32m    959\u001b[0m \u001b[0;34m\u001b[0m\u001b[0m\n\u001b[1;32m    960\u001b[0m         \u001b[0;32mif\u001b[0m \u001b[0;32mnot\u001b[0m \u001b[0mnp\u001b[0m\u001b[0;34m.\u001b[0m\u001b[0misfinite\u001b[0m\u001b[0;34m(\u001b[0m\u001b[0marr\u001b[0m\u001b[0;34m)\u001b[0m\u001b[0;34m.\u001b[0m\u001b[0mall\u001b[0m\u001b[0;34m(\u001b[0m\u001b[0;34m)\u001b[0m\u001b[0;34m:\u001b[0m\u001b[0;34m\u001b[0m\u001b[0;34m\u001b[0m\u001b[0m\n\u001b[0;32m--> 961\u001b[0;31m             \u001b[0;32mraise\u001b[0m \u001b[0mValueError\u001b[0m\u001b[0;34m(\u001b[0m\u001b[0;34m\"Cannot convert non-finite values (NA or inf) to integer\"\u001b[0m\u001b[0;34m)\u001b[0m\u001b[0;34m\u001b[0m\u001b[0;34m\u001b[0m\u001b[0m\n\u001b[0m\u001b[1;32m    962\u001b[0m \u001b[0;34m\u001b[0m\u001b[0m\n\u001b[1;32m    963\u001b[0m     \u001b[0;32melif\u001b[0m \u001b[0mis_object_dtype\u001b[0m\u001b[0;34m(\u001b[0m\u001b[0marr\u001b[0m\u001b[0;34m)\u001b[0m\u001b[0;34m:\u001b[0m\u001b[0;34m\u001b[0m\u001b[0;34m\u001b[0m\u001b[0m\n",
      "\u001b[0;31mValueError\u001b[0m: Cannot convert non-finite values (NA or inf) to integer"
     ]
    }
   ],
   "source": [
    "viols = ['bin_blockerViolations','bin_criticalViolations','bin_mamiViolations']\n",
    "categories = pd.DataFrame()\n",
    "for v in viols:\n",
    "    t = pd.DataFrame({'interval': df[v].unique()})\n",
    "    t['type'] = v\n",
    "    t['class'] = np.arange(0,len(df[v].unique()))\n",
    "    categories = pd.concat([categories,t])\n",
    "categories.reset_index(drop=True)"
   ]
  },
  {
   "cell_type": "markdown",
   "metadata": {},
   "source": [
    "### Resulting table"
   ]
  },
  {
   "cell_type": "code",
   "execution_count": 26,
   "metadata": {},
   "outputs": [
    {
     "data": {
      "text/html": [
       "<div>\n",
       "<style scoped>\n",
       "    .dataframe tbody tr th:only-of-type {\n",
       "        vertical-align: middle;\n",
       "    }\n",
       "\n",
       "    .dataframe tbody tr th {\n",
       "        vertical-align: top;\n",
       "    }\n",
       "\n",
       "    .dataframe thead th {\n",
       "        text-align: right;\n",
       "    }\n",
       "</style>\n",
       "<table border=\"1\" class=\"dataframe\">\n",
       "  <thead>\n",
       "    <tr style=\"text-align: right;\">\n",
       "      <th></th>\n",
       "      <th>projectID</th>\n",
       "      <th>commitHash</th>\n",
       "      <th>commitMessage</th>\n",
       "      <th>complexity</th>\n",
       "      <th>lines</th>\n",
       "      <th>commentLines</th>\n",
       "      <th>duplicatedLines</th>\n",
       "      <th>violations</th>\n",
       "      <th>blockerViolations</th>\n",
       "      <th>criticalViolations</th>\n",
       "      <th>...</th>\n",
       "      <th>codeSmells</th>\n",
       "      <th>mamiViolations</th>\n",
       "      <th>bin_blockerViolations</th>\n",
       "      <th>bin_criticalViolations</th>\n",
       "      <th>bin_mamiViolations</th>\n",
       "      <th>class_blockerViolations</th>\n",
       "      <th>class_criticalViolations</th>\n",
       "      <th>class_mamiViolations</th>\n",
       "      <th>class</th>\n",
       "      <th>category</th>\n",
       "    </tr>\n",
       "  </thead>\n",
       "  <tbody>\n",
       "    <tr>\n",
       "      <th>0</th>\n",
       "      <td>accumulo</td>\n",
       "      <td>e0880e263e4bf8662ba3848405200473a25dfc9f</td>\n",
       "      <td>ACCUMULO-1 initial checkin of source code\\n\\ng...</td>\n",
       "      <td>43137</td>\n",
       "      <td>263680</td>\n",
       "      <td>13509</td>\n",
       "      <td>46445</td>\n",
       "      <td>18314</td>\n",
       "      <td>100</td>\n",
       "      <td>893</td>\n",
       "      <td>...</td>\n",
       "      <td>17012</td>\n",
       "      <td>17199</td>\n",
       "      <td>(66, 100]</td>\n",
       "      <td>(870, 1306]</td>\n",
       "      <td>(13332, 19999]</td>\n",
       "      <td>2</td>\n",
       "      <td>2</td>\n",
       "      <td>2</td>\n",
       "      <td>222</td>\n",
       "      <td>21</td>\n",
       "    </tr>\n",
       "    <tr>\n",
       "      <th>1</th>\n",
       "      <td>accumulo</td>\n",
       "      <td>e8774c5ec3a35e042f320540b5f7e66ebd2d9e87</td>\n",
       "      <td>ACCUMULO-2 moved cloudtrace for TRUNK, fixed p...</td>\n",
       "      <td>43137</td>\n",
       "      <td>262753</td>\n",
       "      <td>13507</td>\n",
       "      <td>46301</td>\n",
       "      <td>18169</td>\n",
       "      <td>100</td>\n",
       "      <td>893</td>\n",
       "      <td>...</td>\n",
       "      <td>16987</td>\n",
       "      <td>17054</td>\n",
       "      <td>(66, 100]</td>\n",
       "      <td>(870, 1306]</td>\n",
       "      <td>(13332, 19999]</td>\n",
       "      <td>2</td>\n",
       "      <td>2</td>\n",
       "      <td>2</td>\n",
       "      <td>222</td>\n",
       "      <td>21</td>\n",
       "    </tr>\n",
       "    <tr>\n",
       "      <th>2</th>\n",
       "      <td>accumulo</td>\n",
       "      <td>2032ebbd0ed90734da39ca238bbd10dee24d0030</td>\n",
       "      <td>ACCUMULO-2 fixed thrift build script to point ...</td>\n",
       "      <td>43137</td>\n",
       "      <td>262753</td>\n",
       "      <td>13507</td>\n",
       "      <td>46301</td>\n",
       "      <td>18169</td>\n",
       "      <td>100</td>\n",
       "      <td>893</td>\n",
       "      <td>...</td>\n",
       "      <td>16987</td>\n",
       "      <td>17054</td>\n",
       "      <td>(66, 100]</td>\n",
       "      <td>(870, 1306]</td>\n",
       "      <td>(13332, 19999]</td>\n",
       "      <td>2</td>\n",
       "      <td>2</td>\n",
       "      <td>2</td>\n",
       "      <td>222</td>\n",
       "      <td>21</td>\n",
       "    </tr>\n",
       "    <tr>\n",
       "      <th>3</th>\n",
       "      <td>accumulo</td>\n",
       "      <td>de297d4932e08625a5df146f0802041bb5aeb892</td>\n",
       "      <td>ACCUMULO-2 reverted change to config.html\\n\\ng...</td>\n",
       "      <td>43137</td>\n",
       "      <td>263643</td>\n",
       "      <td>13507</td>\n",
       "      <td>46445</td>\n",
       "      <td>18315</td>\n",
       "      <td>100</td>\n",
       "      <td>893</td>\n",
       "      <td>...</td>\n",
       "      <td>17013</td>\n",
       "      <td>17200</td>\n",
       "      <td>(66, 100]</td>\n",
       "      <td>(870, 1306]</td>\n",
       "      <td>(13332, 19999]</td>\n",
       "      <td>2</td>\n",
       "      <td>2</td>\n",
       "      <td>2</td>\n",
       "      <td>222</td>\n",
       "      <td>21</td>\n",
       "    </tr>\n",
       "    <tr>\n",
       "      <th>4</th>\n",
       "      <td>accumulo</td>\n",
       "      <td>34efaae87639a83b60fdb7274de4b45051025a3a</td>\n",
       "      <td>ACCUMULO-2 fixed cloudtrace references in cont...</td>\n",
       "      <td>43137</td>\n",
       "      <td>263639</td>\n",
       "      <td>13507</td>\n",
       "      <td>46445</td>\n",
       "      <td>18315</td>\n",
       "      <td>100</td>\n",
       "      <td>893</td>\n",
       "      <td>...</td>\n",
       "      <td>17013</td>\n",
       "      <td>17200</td>\n",
       "      <td>(66, 100]</td>\n",
       "      <td>(870, 1306]</td>\n",
       "      <td>(13332, 19999]</td>\n",
       "      <td>2</td>\n",
       "      <td>2</td>\n",
       "      <td>2</td>\n",
       "      <td>222</td>\n",
       "      <td>21</td>\n",
       "    </tr>\n",
       "    <tr>\n",
       "      <th>...</th>\n",
       "      <td>...</td>\n",
       "      <td>...</td>\n",
       "      <td>...</td>\n",
       "      <td>...</td>\n",
       "      <td>...</td>\n",
       "      <td>...</td>\n",
       "      <td>...</td>\n",
       "      <td>...</td>\n",
       "      <td>...</td>\n",
       "      <td>...</td>\n",
       "      <td>...</td>\n",
       "      <td>...</td>\n",
       "      <td>...</td>\n",
       "      <td>...</td>\n",
       "      <td>...</td>\n",
       "      <td>...</td>\n",
       "      <td>...</td>\n",
       "      <td>...</td>\n",
       "      <td>...</td>\n",
       "      <td>...</td>\n",
       "      <td>...</td>\n",
       "    </tr>\n",
       "    <tr>\n",
       "      <th>55624</th>\n",
       "      <td>zookeeper</td>\n",
       "      <td>cd0e323831c8b4cde64976325bfc79bb53cdd9b7</td>\n",
       "      <td>ZOOKEEPER-2635: Regenerate documentation (fpj)</td>\n",
       "      <td>10111</td>\n",
       "      <td>103678</td>\n",
       "      <td>10708</td>\n",
       "      <td>5142</td>\n",
       "      <td>4981</td>\n",
       "      <td>18</td>\n",
       "      <td>534</td>\n",
       "      <td>...</td>\n",
       "      <td>4471</td>\n",
       "      <td>4352</td>\n",
       "      <td>(-1, 33]</td>\n",
       "      <td>(435, 870]</td>\n",
       "      <td>(-1, 6666]</td>\n",
       "      <td>0</td>\n",
       "      <td>1</td>\n",
       "      <td>0</td>\n",
       "      <td>010</td>\n",
       "      <td>3</td>\n",
       "    </tr>\n",
       "    <tr>\n",
       "      <th>55625</th>\n",
       "      <td>zookeeper</td>\n",
       "      <td>482ce218d815b7a613ed9728b82602ddecc61996</td>\n",
       "      <td>ZOOKEEPER-761: Remove *synchronous* calls from...</td>\n",
       "      <td>10111</td>\n",
       "      <td>103678</td>\n",
       "      <td>10708</td>\n",
       "      <td>5142</td>\n",
       "      <td>4981</td>\n",
       "      <td>18</td>\n",
       "      <td>534</td>\n",
       "      <td>...</td>\n",
       "      <td>4471</td>\n",
       "      <td>4352</td>\n",
       "      <td>(-1, 33]</td>\n",
       "      <td>(435, 870]</td>\n",
       "      <td>(-1, 6666]</td>\n",
       "      <td>0</td>\n",
       "      <td>1</td>\n",
       "      <td>0</td>\n",
       "      <td>010</td>\n",
       "      <td>3</td>\n",
       "    </tr>\n",
       "    <tr>\n",
       "      <th>55626</th>\n",
       "      <td>zookeeper</td>\n",
       "      <td>dfcf4da75c35c12d08496ded2612031f887c0765</td>\n",
       "      <td>ZOOKEEPER-2647: Fix TestReconfigServer.cc\\n\\nA...</td>\n",
       "      <td>10111</td>\n",
       "      <td>103678</td>\n",
       "      <td>10708</td>\n",
       "      <td>5142</td>\n",
       "      <td>4981</td>\n",
       "      <td>18</td>\n",
       "      <td>534</td>\n",
       "      <td>...</td>\n",
       "      <td>4471</td>\n",
       "      <td>4352</td>\n",
       "      <td>(-1, 33]</td>\n",
       "      <td>(435, 870]</td>\n",
       "      <td>(-1, 6666]</td>\n",
       "      <td>0</td>\n",
       "      <td>1</td>\n",
       "      <td>0</td>\n",
       "      <td>010</td>\n",
       "      <td>3</td>\n",
       "    </tr>\n",
       "    <tr>\n",
       "      <th>55627</th>\n",
       "      <td>zookeeper</td>\n",
       "      <td>8616a9ec8ce4bc8ac2987b7417a6f0c4b7333658</td>\n",
       "      <td>ZOOKEEPER-2479: Add 'electionTimeTaken' value ...</td>\n",
       "      <td>10118</td>\n",
       "      <td>103746</td>\n",
       "      <td>10715</td>\n",
       "      <td>5142</td>\n",
       "      <td>4981</td>\n",
       "      <td>18</td>\n",
       "      <td>534</td>\n",
       "      <td>...</td>\n",
       "      <td>4471</td>\n",
       "      <td>4352</td>\n",
       "      <td>(-1, 33]</td>\n",
       "      <td>(435, 870]</td>\n",
       "      <td>(-1, 6666]</td>\n",
       "      <td>0</td>\n",
       "      <td>1</td>\n",
       "      <td>0</td>\n",
       "      <td>010</td>\n",
       "      <td>3</td>\n",
       "    </tr>\n",
       "    <tr>\n",
       "      <th>55628</th>\n",
       "      <td>zookeeper</td>\n",
       "      <td>eac693cc76a34f96b9116ef33d1e92af7129416d</td>\n",
       "      <td>ZOOKEEPER-2383: Startup race in ZooKeeperServe...</td>\n",
       "      <td>10141</td>\n",
       "      <td>104025</td>\n",
       "      <td>10735</td>\n",
       "      <td>5194</td>\n",
       "      <td>4984</td>\n",
       "      <td>19</td>\n",
       "      <td>534</td>\n",
       "      <td>...</td>\n",
       "      <td>4472</td>\n",
       "      <td>4354</td>\n",
       "      <td>(-1, 33]</td>\n",
       "      <td>(435, 870]</td>\n",
       "      <td>(-1, 6666]</td>\n",
       "      <td>0</td>\n",
       "      <td>1</td>\n",
       "      <td>0</td>\n",
       "      <td>010</td>\n",
       "      <td>3</td>\n",
       "    </tr>\n",
       "  </tbody>\n",
       "</table>\n",
       "<p>55629 rows × 23 columns</p>\n",
       "</div>"
      ],
      "text/plain": [
       "       projectID                                commitHash  \\\n",
       "0       accumulo  e0880e263e4bf8662ba3848405200473a25dfc9f   \n",
       "1       accumulo  e8774c5ec3a35e042f320540b5f7e66ebd2d9e87   \n",
       "2       accumulo  2032ebbd0ed90734da39ca238bbd10dee24d0030   \n",
       "3       accumulo  de297d4932e08625a5df146f0802041bb5aeb892   \n",
       "4       accumulo  34efaae87639a83b60fdb7274de4b45051025a3a   \n",
       "...          ...                                       ...   \n",
       "55624  zookeeper  cd0e323831c8b4cde64976325bfc79bb53cdd9b7   \n",
       "55625  zookeeper  482ce218d815b7a613ed9728b82602ddecc61996   \n",
       "55626  zookeeper  dfcf4da75c35c12d08496ded2612031f887c0765   \n",
       "55627  zookeeper  8616a9ec8ce4bc8ac2987b7417a6f0c4b7333658   \n",
       "55628  zookeeper  eac693cc76a34f96b9116ef33d1e92af7129416d   \n",
       "\n",
       "                                           commitMessage  complexity   lines  \\\n",
       "0      ACCUMULO-1 initial checkin of source code\\n\\ng...       43137  263680   \n",
       "1      ACCUMULO-2 moved cloudtrace for TRUNK, fixed p...       43137  262753   \n",
       "2      ACCUMULO-2 fixed thrift build script to point ...       43137  262753   \n",
       "3      ACCUMULO-2 reverted change to config.html\\n\\ng...       43137  263643   \n",
       "4      ACCUMULO-2 fixed cloudtrace references in cont...       43137  263639   \n",
       "...                                                  ...         ...     ...   \n",
       "55624     ZOOKEEPER-2635: Regenerate documentation (fpj)       10111  103678   \n",
       "55625  ZOOKEEPER-761: Remove *synchronous* calls from...       10111  103678   \n",
       "55626  ZOOKEEPER-2647: Fix TestReconfigServer.cc\\n\\nA...       10111  103678   \n",
       "55627  ZOOKEEPER-2479: Add 'electionTimeTaken' value ...       10118  103746   \n",
       "55628  ZOOKEEPER-2383: Startup race in ZooKeeperServe...       10141  104025   \n",
       "\n",
       "       commentLines  duplicatedLines  violations  blockerViolations  \\\n",
       "0             13509            46445       18314                100   \n",
       "1             13507            46301       18169                100   \n",
       "2             13507            46301       18169                100   \n",
       "3             13507            46445       18315                100   \n",
       "4             13507            46445       18315                100   \n",
       "...             ...              ...         ...                ...   \n",
       "55624         10708             5142        4981                 18   \n",
       "55625         10708             5142        4981                 18   \n",
       "55626         10708             5142        4981                 18   \n",
       "55627         10715             5142        4981                 18   \n",
       "55628         10735             5194        4984                 19   \n",
       "\n",
       "       criticalViolations  ...  codeSmells  mamiViolations  \\\n",
       "0                     893  ...       17012           17199   \n",
       "1                     893  ...       16987           17054   \n",
       "2                     893  ...       16987           17054   \n",
       "3                     893  ...       17013           17200   \n",
       "4                     893  ...       17013           17200   \n",
       "...                   ...  ...         ...             ...   \n",
       "55624                 534  ...        4471            4352   \n",
       "55625                 534  ...        4471            4352   \n",
       "55626                 534  ...        4471            4352   \n",
       "55627                 534  ...        4471            4352   \n",
       "55628                 534  ...        4472            4354   \n",
       "\n",
       "       bin_blockerViolations  bin_criticalViolations  bin_mamiViolations  \\\n",
       "0                  (66, 100]             (870, 1306]      (13332, 19999]   \n",
       "1                  (66, 100]             (870, 1306]      (13332, 19999]   \n",
       "2                  (66, 100]             (870, 1306]      (13332, 19999]   \n",
       "3                  (66, 100]             (870, 1306]      (13332, 19999]   \n",
       "4                  (66, 100]             (870, 1306]      (13332, 19999]   \n",
       "...                      ...                     ...                 ...   \n",
       "55624               (-1, 33]              (435, 870]          (-1, 6666]   \n",
       "55625               (-1, 33]              (435, 870]          (-1, 6666]   \n",
       "55626               (-1, 33]              (435, 870]          (-1, 6666]   \n",
       "55627               (-1, 33]              (435, 870]          (-1, 6666]   \n",
       "55628               (-1, 33]              (435, 870]          (-1, 6666]   \n",
       "\n",
       "      class_blockerViolations class_criticalViolations class_mamiViolations  \\\n",
       "0                           2                        2                    2   \n",
       "1                           2                        2                    2   \n",
       "2                           2                        2                    2   \n",
       "3                           2                        2                    2   \n",
       "4                           2                        2                    2   \n",
       "...                       ...                      ...                  ...   \n",
       "55624                       0                        1                    0   \n",
       "55625                       0                        1                    0   \n",
       "55626                       0                        1                    0   \n",
       "55627                       0                        1                    0   \n",
       "55628                       0                        1                    0   \n",
       "\n",
       "      class category  \n",
       "0       222       21  \n",
       "1       222       21  \n",
       "2       222       21  \n",
       "3       222       21  \n",
       "4       222       21  \n",
       "...     ...      ...  \n",
       "55624   010        3  \n",
       "55625   010        3  \n",
       "55626   010        3  \n",
       "55627   010        3  \n",
       "55628   010        3  \n",
       "\n",
       "[55629 rows x 23 columns]"
      ]
     },
     "execution_count": 26,
     "metadata": {},
     "output_type": "execute_result"
    }
   ],
   "source": [
    "df"
   ]
  },
  {
   "cell_type": "code",
   "execution_count": 47,
   "metadata": {},
   "outputs": [
    {
     "data": {
      "text/plain": [
       "(0     34025\n",
       " 9      3619\n",
       " 13     2343\n",
       " 7      2243\n",
       " 17     2223\n",
       " 3      2164\n",
       " 21     1664\n",
       " 1      1653\n",
       " 4      1250\n",
       " 16     1127\n",
       " 19     1079\n",
       " 6       639\n",
       " 10      528\n",
       " 14      525\n",
       " 20      279\n",
       " 11      174\n",
       " 2        57\n",
       " 8        18\n",
       " 12       15\n",
       " 15        2\n",
       " 18        1\n",
       " 5         1\n",
       " Name: category, dtype: int64,\n",
       " 55629)"
      ]
     },
     "execution_count": 47,
     "metadata": {},
     "output_type": "execute_result"
    }
   ],
   "source": [
    "df['category'].value_counts(), df['category'].count(), "
   ]
  },
  {
   "cell_type": "code",
   "execution_count": 46,
   "metadata": {},
   "outputs": [
    {
     "data": {
      "image/png": "[encoded data removed]",
      "text/plain": [
       "<Figure size 1080x360 with 1 Axes>"
      ]
     },
     "metadata": {
      "needs_background": "light"
     },
     "output_type": "display_data"
    }
   ],
   "source": [
    "import seaborn as sns\n",
    "fig , ax = plt.subplots(1,1, figsize=(15,5))\n",
    "sns.histplot(df['category'], bins=100, ax =ax)\n",
    "ax.set_xticks(df.category.unique())\n",
    "ax.set_xlabel(\"Category\")\n",
    "ax.set_ylabel(\"Count [log scale]\")\n",
    "ax.set_title('Histogram of values per category')\n",
    "#ax.set_yscale('log')\n",
    "plt.show()"
   ]
  },
  {
   "cell_type": "markdown",
   "metadata": {},
   "source": [
    "### Save table data"
   ]
  },
  {
   "cell_type": "markdown",
   "metadata": {},
   "source": [
    "Save it as pickle."
   ]
  },
  {
   "cell_type": "code",
   "execution_count": 25,
   "metadata": {},
   "outputs": [],
   "source": [
    "SAVE_PATH = '../data/our_data/'"
   ]
  },
  {
   "cell_type": "code",
   "execution_count": 26,
   "metadata": {},
   "outputs": [],
   "source": [
    "filename = 'commits_violations.pkl'\n",
    "\n",
    "df.to_pickle(SAVE_PATH + filename)"
   ]
  },
  {
   "cell_type": "markdown",
   "metadata": {},
   "source": [
    "We can read it by using:"
   ]
  },
  {
   "cell_type": "code",
   "execution_count": 27,
   "metadata": {},
   "outputs": [
    {
     "data": {
      "text/html": [
       "<div>\n",
       "<style scoped>\n",
       "    .dataframe tbody tr th:only-of-type {\n",
       "        vertical-align: middle;\n",
       "    }\n",
       "\n",
       "    .dataframe tbody tr th {\n",
       "        vertical-align: top;\n",
       "    }\n",
       "\n",
       "    .dataframe thead th {\n",
       "        text-align: right;\n",
       "    }\n",
       "</style>\n",
       "<table border=\"1\" class=\"dataframe\">\n",
       "  <thead>\n",
       "    <tr style=\"text-align: right;\">\n",
       "      <th></th>\n",
       "      <th>projectID</th>\n",
       "      <th>commitHash</th>\n",
       "      <th>commitMessage</th>\n",
       "      <th>complexity</th>\n",
       "      <th>lines</th>\n",
       "      <th>commentLines</th>\n",
       "      <th>duplicatedLines</th>\n",
       "      <th>violations</th>\n",
       "      <th>blockerViolations</th>\n",
       "      <th>criticalViolations</th>\n",
       "      <th>...</th>\n",
       "      <th>codeSmells</th>\n",
       "      <th>mamiViolations</th>\n",
       "      <th>bin_blockerViolations</th>\n",
       "      <th>bin_criticalViolations</th>\n",
       "      <th>bin_mamiViolations</th>\n",
       "      <th>class_blockerViolations</th>\n",
       "      <th>class_criticalViolations</th>\n",
       "      <th>class_mamiViolations</th>\n",
       "      <th>class</th>\n",
       "      <th>category</th>\n",
       "    </tr>\n",
       "  </thead>\n",
       "  <tbody>\n",
       "    <tr>\n",
       "      <th>0</th>\n",
       "      <td>accumulo</td>\n",
       "      <td>e0880e263e4bf8662ba3848405200473a25dfc9f</td>\n",
       "      <td>ACCUMULO-1 initial checkin of source code\\n\\ng...</td>\n",
       "      <td>43137</td>\n",
       "      <td>263680</td>\n",
       "      <td>13509</td>\n",
       "      <td>46445</td>\n",
       "      <td>18314</td>\n",
       "      <td>100</td>\n",
       "      <td>893</td>\n",
       "      <td>...</td>\n",
       "      <td>17012</td>\n",
       "      <td>17199</td>\n",
       "      <td>(66, 100]</td>\n",
       "      <td>(870, 1306]</td>\n",
       "      <td>(13332, 19999]</td>\n",
       "      <td>2</td>\n",
       "      <td>2</td>\n",
       "      <td>2</td>\n",
       "      <td>222</td>\n",
       "      <td>21</td>\n",
       "    </tr>\n",
       "    <tr>\n",
       "      <th>1</th>\n",
       "      <td>accumulo</td>\n",
       "      <td>e8774c5ec3a35e042f320540b5f7e66ebd2d9e87</td>\n",
       "      <td>ACCUMULO-2 moved cloudtrace for TRUNK, fixed p...</td>\n",
       "      <td>43137</td>\n",
       "      <td>262753</td>\n",
       "      <td>13507</td>\n",
       "      <td>46301</td>\n",
       "      <td>18169</td>\n",
       "      <td>100</td>\n",
       "      <td>893</td>\n",
       "      <td>...</td>\n",
       "      <td>16987</td>\n",
       "      <td>17054</td>\n",
       "      <td>(66, 100]</td>\n",
       "      <td>(870, 1306]</td>\n",
       "      <td>(13332, 19999]</td>\n",
       "      <td>2</td>\n",
       "      <td>2</td>\n",
       "      <td>2</td>\n",
       "      <td>222</td>\n",
       "      <td>21</td>\n",
       "    </tr>\n",
       "    <tr>\n",
       "      <th>2</th>\n",
       "      <td>accumulo</td>\n",
       "      <td>2032ebbd0ed90734da39ca238bbd10dee24d0030</td>\n",
       "      <td>ACCUMULO-2 fixed thrift build script to point ...</td>\n",
       "      <td>43137</td>\n",
       "      <td>262753</td>\n",
       "      <td>13507</td>\n",
       "      <td>46301</td>\n",
       "      <td>18169</td>\n",
       "      <td>100</td>\n",
       "      <td>893</td>\n",
       "      <td>...</td>\n",
       "      <td>16987</td>\n",
       "      <td>17054</td>\n",
       "      <td>(66, 100]</td>\n",
       "      <td>(870, 1306]</td>\n",
       "      <td>(13332, 19999]</td>\n",
       "      <td>2</td>\n",
       "      <td>2</td>\n",
       "      <td>2</td>\n",
       "      <td>222</td>\n",
       "      <td>21</td>\n",
       "    </tr>\n",
       "    <tr>\n",
       "      <th>3</th>\n",
       "      <td>accumulo</td>\n",
       "      <td>de297d4932e08625a5df146f0802041bb5aeb892</td>\n",
       "      <td>ACCUMULO-2 reverted change to config.html\\n\\ng...</td>\n",
       "      <td>43137</td>\n",
       "      <td>263643</td>\n",
       "      <td>13507</td>\n",
       "      <td>46445</td>\n",
       "      <td>18315</td>\n",
       "      <td>100</td>\n",
       "      <td>893</td>\n",
       "      <td>...</td>\n",
       "      <td>17013</td>\n",
       "      <td>17200</td>\n",
       "      <td>(66, 100]</td>\n",
       "      <td>(870, 1306]</td>\n",
       "      <td>(13332, 19999]</td>\n",
       "      <td>2</td>\n",
       "      <td>2</td>\n",
       "      <td>2</td>\n",
       "      <td>222</td>\n",
       "      <td>21</td>\n",
       "    </tr>\n",
       "    <tr>\n",
       "      <th>4</th>\n",
       "      <td>accumulo</td>\n",
       "      <td>34efaae87639a83b60fdb7274de4b45051025a3a</td>\n",
       "      <td>ACCUMULO-2 fixed cloudtrace references in cont...</td>\n",
       "      <td>43137</td>\n",
       "      <td>263639</td>\n",
       "      <td>13507</td>\n",
       "      <td>46445</td>\n",
       "      <td>18315</td>\n",
       "      <td>100</td>\n",
       "      <td>893</td>\n",
       "      <td>...</td>\n",
       "      <td>17013</td>\n",
       "      <td>17200</td>\n",
       "      <td>(66, 100]</td>\n",
       "      <td>(870, 1306]</td>\n",
       "      <td>(13332, 19999]</td>\n",
       "      <td>2</td>\n",
       "      <td>2</td>\n",
       "      <td>2</td>\n",
       "      <td>222</td>\n",
       "      <td>21</td>\n",
       "    </tr>\n",
       "  </tbody>\n",
       "</table>\n",
       "<p>5 rows × 23 columns</p>\n",
       "</div>"
      ],
      "text/plain": [
       "  projectID                                commitHash  \\\n",
       "0  accumulo  e0880e263e4bf8662ba3848405200473a25dfc9f   \n",
       "1  accumulo  e8774c5ec3a35e042f320540b5f7e66ebd2d9e87   \n",
       "2  accumulo  2032ebbd0ed90734da39ca238bbd10dee24d0030   \n",
       "3  accumulo  de297d4932e08625a5df146f0802041bb5aeb892   \n",
       "4  accumulo  34efaae87639a83b60fdb7274de4b45051025a3a   \n",
       "\n",
       "                                       commitMessage  complexity   lines  \\\n",
       "0  ACCUMULO-1 initial checkin of source code\\n\\ng...       43137  263680   \n",
       "1  ACCUMULO-2 moved cloudtrace for TRUNK, fixed p...       43137  262753   \n",
       "2  ACCUMULO-2 fixed thrift build script to point ...       43137  262753   \n",
       "3  ACCUMULO-2 reverted change to config.html\\n\\ng...       43137  263643   \n",
       "4  ACCUMULO-2 fixed cloudtrace references in cont...       43137  263639   \n",
       "\n",
       "   commentLines  duplicatedLines  violations  blockerViolations  \\\n",
       "0         13509            46445       18314                100   \n",
       "1         13507            46301       18169                100   \n",
       "2         13507            46301       18169                100   \n",
       "3         13507            46445       18315                100   \n",
       "4         13507            46445       18315                100   \n",
       "\n",
       "   criticalViolations  ...  codeSmells  mamiViolations  bin_blockerViolations  \\\n",
       "0                 893  ...       17012           17199              (66, 100]   \n",
       "1                 893  ...       16987           17054              (66, 100]   \n",
       "2                 893  ...       16987           17054              (66, 100]   \n",
       "3                 893  ...       17013           17200              (66, 100]   \n",
       "4                 893  ...       17013           17200              (66, 100]   \n",
       "\n",
       "   bin_criticalViolations  bin_mamiViolations class_blockerViolations  \\\n",
       "0             (870, 1306]      (13332, 19999]                       2   \n",
       "1             (870, 1306]      (13332, 19999]                       2   \n",
       "2             (870, 1306]      (13332, 19999]                       2   \n",
       "3             (870, 1306]      (13332, 19999]                       2   \n",
       "4             (870, 1306]      (13332, 19999]                       2   \n",
       "\n",
       "  class_criticalViolations class_mamiViolations class category  \n",
       "0                        2                    2   222       21  \n",
       "1                        2                    2   222       21  \n",
       "2                        2                    2   222       21  \n",
       "3                        2                    2   222       21  \n",
       "4                        2                    2   222       21  \n",
       "\n",
       "[5 rows x 23 columns]"
      ]
     },
     "execution_count": 27,
     "metadata": {},
     "output_type": "execute_result"
    }
   ],
   "source": [
    "df = pd.read_pickle(SAVE_PATH + filename)\n",
    "df.head()"
   ]
  },
  {
   "cell_type": "code",
   "execution_count": 51,
   "metadata": {},
   "outputs": [],
   "source": [
    "dff = df[['complexity', 'lines', 'commentLines', 'duplicatedLines', 'violations','category']]"
   ]
  },
  {
   "cell_type": "code",
   "execution_count": 53,
   "metadata": {},
   "outputs": [
    {
     "data": {
      "text/plain": [
       "<AxesSubplot:title={'center':'Pearson Correlation of Features'}>"
      ]
     },
     "execution_count": 53,
     "metadata": {},
     "output_type": "execute_result"
    },
    {
     "data": {
      "image/png": "[encoded data removed]",
      "text/plain": [
       "<Figure size 720x720 with 2 Axes>"
      ]
     },
     "metadata": {
      "needs_background": "light"
     },
     "output_type": "display_data"
    }
   ],
   "source": [
    "colormap = plt.cm.viridis\n",
    "plt.figure(figsize=(10,10))\n",
    "plt.title('Pearson Correlation of Features', size=15)\n",
    "\n",
    "sns.heatmap(dff.astype(float).corr(),linewidths=0.1,vmax=1.0, square=True, cmap=colormap, linecolor='white', annot=True)"
   ]
  },
  {
   "cell_type": "code",
   "execution_count": 55,
   "metadata": {},
   "outputs": [
    {
     "data": {
      "text/plain": [
       "complexity         0\n",
       "lines              0\n",
       "commentLines       0\n",
       "duplicatedLines    0\n",
       "violations         0\n",
       "category           0\n",
       "dtype: int64"
      ]
     },
     "execution_count": 55,
     "metadata": {},
     "output_type": "execute_result"
    }
   ],
   "source": [
    "dff.isna().sum()"
   ]
  },
  {
   "cell_type": "code",
   "execution_count": 60,
   "metadata": {},
   "outputs": [
    {
     "name": "stdout",
     "output_type": "stream",
     "text": [
      "Requirement already satisfied: sklearn in /usr/local/Cellar/jupyterlab/2.2.8/libexec/lib/python3.8/site-packages (0.0)\n",
      "Requirement already satisfied: scikit-learn in /usr/local/Cellar/jupyterlab/2.2.8/libexec/lib/python3.8/site-packages (from sklearn) (0.23.2)\n",
      "Requirement already satisfied: threadpoolctl>=2.0.0 in /usr/local/Cellar/jupyterlab/2.2.8/libexec/lib/python3.8/site-packages (from scikit-learn->sklearn) (2.1.0)\n",
      "Requirement already satisfied: scipy>=0.19.1 in /usr/local/Cellar/jupyterlab/2.2.8/libexec/lib/python3.8/site-packages (from scikit-learn->sklearn) (1.5.2)\n",
      "Requirement already satisfied: joblib>=0.11 in /usr/local/Cellar/jupyterlab/2.2.8/libexec/lib/python3.8/site-packages (from scikit-learn->sklearn) (0.16.0)\n",
      "Requirement already satisfied: numpy>=1.13.3 in /usr/local/Cellar/jupyterlab/2.2.8/libexec/lib/python3.8/site-packages (from scikit-learn->sklearn) (1.19.2)\n",
      "Collecting xgboost\n",
      "  Downloading xgboost-1.2.1-py3-none-macosx_10_13_x86_64.macosx_10_14_x86_64.macosx_10_15_x86_64.whl (1.2 MB)\n",
      "\u001b[K     |████████████████████████████████| 1.2 MB 678 kB/s eta 0:00:01\n",
      "\u001b[?25hRequirement already satisfied: scipy in /usr/local/Cellar/jupyterlab/2.2.8/libexec/lib/python3.8/site-packages (from xgboost) (1.5.2)\n",
      "Requirement already satisfied: numpy in /usr/local/Cellar/jupyterlab/2.2.8/libexec/lib/python3.8/site-packages (from xgboost) (1.19.2)\n",
      "Installing collected packages: xgboost\n",
      "Successfully installed xgboost-1.2.1\n"
     ]
    }
   ],
   "source": [
    "import sys\n",
    "\n",
    "!{sys.executable} -m pip install 'sklearn'\n",
    "!{sys.executable} -m pip install 'xgboost'"
   ]
  },
  {
   "cell_type": "code",
   "execution_count": 62,
   "metadata": {},
   "outputs": [],
   "source": [
    "from sklearn.model_selection import train_test_split"
   ]
  },
  {
   "cell_type": "code",
   "execution_count": 63,
   "metadata": {},
   "outputs": [],
   "source": [
    "y = dff['category']\n",
    "X = dff.drop(['violations', 'category'], axis=1)\n",
    "RS = 123\n",
    "\n",
    "# Split dataframe into training and test/validation set \n",
    "X_train, X_test, y_train, y_test = train_test_split(X, y, test_size=0.2, random_state=RS)"
   ]
  },
  {
   "cell_type": "code",
   "execution_count": 71,
   "metadata": {},
   "outputs": [],
   "source": [
    "from sklearn.metrics import accuracy_score, log_loss\n",
    "from sklearn.neighbors import KNeighborsClassifier\n",
    "from sklearn.svm import SVC, LinearSVC\n",
    "from sklearn.tree import DecisionTreeClassifier\n",
    "from sklearn.ensemble import RandomForestClassifier, AdaBoostClassifier, GradientBoostingClassifier\n",
    "from sklearn.naive_bayes import GaussianNB\n",
    "from sklearn.discriminant_analysis import LinearDiscriminantAnalysis\n",
    "from sklearn.discriminant_analysis import QuadraticDiscriminantAnalysis\n",
    "from xgboost import XGBClassifier\n",
    "import xgboost\n",
    "\n",
    "classifiers = [\n",
    "    KNeighborsClassifier(3),\n",
    "    SVC(kernel=\"rbf\", C=0.025, probability=True),\n",
    "    DecisionTreeClassifier(),\n",
    "    RandomForestClassifier(),\n",
    "    XGBClassifier(),\n",
    "    AdaBoostClassifier(),\n",
    "    GradientBoostingClassifier(),\n",
    "    GaussianNB(),\n",
    "    LinearDiscriminantAnalysis()]#,\n",
    "    #QuadraticDiscriminantAnalysis()]"
   ]
  },
  {
   "cell_type": "code",
   "execution_count": 72,
   "metadata": {},
   "outputs": [
    {
     "name": "stdout",
     "output_type": "stream",
     "text": [
      "==============================\n",
      "KNeighborsClassifier\n",
      "****Results****\n",
      "Accuracy: 99.8652%\n",
      "==============================\n",
      "SVC\n",
      "****Results****\n",
      "Accuracy: 77.8627%\n",
      "==============================\n",
      "DecisionTreeClassifier\n",
      "****Results****\n",
      "Accuracy: 99.8472%\n",
      "==============================\n",
      "RandomForestClassifier\n",
      "****Results****\n",
      "Accuracy: 99.8921%\n",
      "==============================\n",
      "XGBClassifier\n",
      "****Results****\n",
      "Accuracy: 99.8742%\n",
      "==============================\n",
      "AdaBoostClassifier\n",
      "****Results****\n",
      "Accuracy: 68.8298%\n",
      "==============================\n",
      "GradientBoostingClassifier\n",
      "****Results****\n",
      "Accuracy: 99.5686%\n",
      "==============================\n",
      "GaussianNB\n",
      "****Results****\n",
      "Accuracy: 80.9995%\n",
      "==============================\n",
      "LinearDiscriminantAnalysis\n",
      "****Results****\n",
      "Accuracy: 75.2831%\n",
      "==============================\n"
     ]
    }
   ],
   "source": [
    "# Logging for Visual Comparison\n",
    "#log_cols=[\"Classifier\", \"Accuracy\", \"Log Loss\"]\n",
    "log_cols=[\"Classifier\", \"Accuracy\"]\n",
    "log = pd.DataFrame(columns=log_cols)\n",
    "\n",
    "for clf in classifiers:\n",
    "    clf.fit(X_train, y_train)\n",
    "    name = clf.__class__.__name__\n",
    "    \n",
    "    print(\"=\"*30)\n",
    "    print(name)\n",
    "    \n",
    "    print('****Results****')\n",
    "    train_predictions = clf.predict(X_test)\n",
    "    acc = accuracy_score(y_test, train_predictions)\n",
    "    print(\"Accuracy: {:.4%}\".format(acc))\n",
    "    \n",
    "    #train_predictions = clf.predict_proba(X_test)\n",
    "    #ll = log_loss(y_test, train_predictions)\n",
    "    #print(\"Log Loss: {}\".format(ll))\n",
    "    \n",
    "    #log_entry = pd.DataFrame([[name, acc*100, ll]], columns=log_cols)\n",
    "    log_entry = pd.DataFrame([[name, acc*100]], columns=log_cols)\n",
    "    log = log.append(log_entry)\n",
    "    \n",
    "print(\"=\"*30)\n"
   ]
  },
  {
   "cell_type": "code",
   "execution_count": 73,
   "metadata": {},
   "outputs": [
    {
     "data": {
      "text/html": [
       "<div>\n",
       "<style scoped>\n",
       "    .dataframe tbody tr th:only-of-type {\n",
       "        vertical-align: middle;\n",
       "    }\n",
       "\n",
       "    .dataframe tbody tr th {\n",
       "        vertical-align: top;\n",
       "    }\n",
       "\n",
       "    .dataframe thead th {\n",
       "        text-align: right;\n",
       "    }\n",
       "</style>\n",
       "<table border=\"1\" class=\"dataframe\">\n",
       "  <thead>\n",
       "    <tr style=\"text-align: right;\">\n",
       "      <th></th>\n",
       "      <th>Classifier</th>\n",
       "      <th>Accuracy</th>\n",
       "    </tr>\n",
       "  </thead>\n",
       "  <tbody>\n",
       "    <tr>\n",
       "      <th>0</th>\n",
       "      <td>KNeighborsClassifier</td>\n",
       "      <td>99.865181</td>\n",
       "    </tr>\n",
       "    <tr>\n",
       "      <th>0</th>\n",
       "      <td>SVC</td>\n",
       "      <td>77.862664</td>\n",
       "    </tr>\n",
       "    <tr>\n",
       "      <th>0</th>\n",
       "      <td>DecisionTreeClassifier</td>\n",
       "      <td>99.847205</td>\n",
       "    </tr>\n",
       "    <tr>\n",
       "      <th>0</th>\n",
       "      <td>RandomForestClassifier</td>\n",
       "      <td>99.892145</td>\n",
       "    </tr>\n",
       "    <tr>\n",
       "      <th>0</th>\n",
       "      <td>XGBClassifier</td>\n",
       "      <td>99.874169</td>\n",
       "    </tr>\n",
       "    <tr>\n",
       "      <th>0</th>\n",
       "      <td>AdaBoostClassifier</td>\n",
       "      <td>68.829768</td>\n",
       "    </tr>\n",
       "    <tr>\n",
       "      <th>0</th>\n",
       "      <td>GradientBoostingClassifier</td>\n",
       "      <td>99.568578</td>\n",
       "    </tr>\n",
       "    <tr>\n",
       "      <th>0</th>\n",
       "      <td>GaussianNB</td>\n",
       "      <td>80.999461</td>\n",
       "    </tr>\n",
       "    <tr>\n",
       "      <th>0</th>\n",
       "      <td>LinearDiscriminantAnalysis</td>\n",
       "      <td>75.283121</td>\n",
       "    </tr>\n",
       "  </tbody>\n",
       "</table>\n",
       "</div>"
      ],
      "text/plain": [
       "                   Classifier   Accuracy\n",
       "0        KNeighborsClassifier  99.865181\n",
       "0                         SVC  77.862664\n",
       "0      DecisionTreeClassifier  99.847205\n",
       "0      RandomForestClassifier  99.892145\n",
       "0               XGBClassifier  99.874169\n",
       "0          AdaBoostClassifier  68.829768\n",
       "0  GradientBoostingClassifier  99.568578\n",
       "0                  GaussianNB  80.999461\n",
       "0  LinearDiscriminantAnalysis  75.283121"
      ]
     },
     "execution_count": 73,
     "metadata": {},
     "output_type": "execute_result"
    }
   ],
   "source": [
    "log"
   ]
  },
  {
   "cell_type": "code",
   "execution_count": 74,
   "metadata": {},
   "outputs": [
    {
     "data": {
      "image/png": "[encoded data removed]",
      "text/plain": [
       "<Figure size 432x288 with 1 Axes>"
      ]
     },
     "metadata": {
      "needs_background": "light"
     },
     "output_type": "display_data"
    }
   ],
   "source": [
    "sns.set_color_codes(\"muted\")\n",
    "sns.barplot(x='Accuracy', y='Classifier', data=log, color=\"b\")\n",
    "\n",
    "plt.xlabel('Accuracy %')\n",
    "plt.title('Classifier Accuracy')\n",
    "plt.show()\n",
    "\n",
    "#sns.set_color_codes(\"muted\")\n",
    "#sns.barplot(x='Log Loss', y='Classifier', data=log, color=\"g\")\n",
    "\n",
    "#plt.xlabel('Log Loss')\n",
    "#plt.title('Classifier Log Loss')\n",
    "#plt.show()"
   ]
  },
  {
   "cell_type": "code",
   "execution_count": 75,
   "metadata": {},
   "outputs": [
    {
     "name": "stdout",
     "output_type": "stream",
     "text": [
      "Feature ranking:\n",
      "complexity : (0.383154)\n",
      "lines : (0.268654)\n",
      "commentLines : (0.197057)\n",
      "duplicatedLines : (0.151135)\n"
     ]
    }
   ],
   "source": [
    "# Inspect the learned Decision Trees\n",
    "# One of the major advantage of Decision Trees is the fact that they can easily be interpreted.  \n",
    "clf = DecisionTreeClassifier()\n",
    "\n",
    "# Fit with all the training set\n",
    "clf.fit(X, y)\n",
    "importances = clf.feature_importances_\n",
    "indices = np.argsort(importances)[::-1]\n",
    "feature_names = X.columns\n",
    "\n",
    "print(\"Feature ranking:\")\n",
    "for f in range(X.shape[1]):\n",
    "    print(\"%s : (%f)\" % (feature_names[f] , importances[indices[f]]))"
   ]
  },
  {
   "cell_type": "code",
   "execution_count": 81,
   "metadata": {},
   "outputs": [
    {
     "data": {
      "text/plain": [
       "Text(0.5, 0, 'Index of the feature')"
      ]
     },
     "execution_count": 81,
     "metadata": {},
     "output_type": "execute_result"
    },
    {
     "data": {
      "image/png": "[encoded data removed]",
      "text/plain": [
       "<Figure size 720x432 with 1 Axes>"
      ]
     },
     "metadata": {
      "needs_background": "light"
     },
     "output_type": "display_data"
    }
   ],
   "source": [
    "f, ax = plt.subplots(figsize=(10, 6))\n",
    "plt.title(\"Feature ranking\", fontsize = 12)\n",
    "plt.bar(range(X.shape[1]), importances[indices],\n",
    "    color=\"b\", \n",
    "    align=\"center\")\n",
    "plt.xticks(range(X.shape[1]), feature_names)\n",
    "plt.xlim([-1, X.shape[1]])\n",
    "plt.ylabel(\"Importance\", fontsize = 18)\n",
    "plt.xlabel(\"Index of the feature\", fontsize = 18)"
   ]
  },
  {
   "cell_type": "code",
   "execution_count": null,
   "metadata": {},
   "outputs": [],
   "source": []
  }
 ],
 "metadata": {
  "kernelspec": {
   "display_name": "Python 3",
   "language": "python",
   "name": "python3"
  },
  "language_info": {
   "codemirror_mode": {
    "name": "ipython",
    "version": 3
   },
   "file_extension": ".py",
   "mimetype": "text/x-python",
   "name": "python",
   "nbconvert_exporter": "python",
   "pygments_lexer": "ipython3",
   "version": "3.8.5"
  }
 },
 "nbformat": 4,
 "nbformat_minor": 4
}
